{
 "cells": [
  {
   "cell_type": "markdown",
   "id": "384c1ee4",
   "metadata": {},
   "source": [
    "### 함수와 변수의 효력 범위 (지역변수)"
   ]
  },
  {
   "cell_type": "code",
   "execution_count": 2,
   "id": "90342020",
   "metadata": {},
   "outputs": [
    {
     "name": "stdout",
     "output_type": "stream",
     "text": [
      "1\n"
     ]
    }
   ],
   "source": [
    "a = 1\n",
    "\n",
    "def vartest(a) :\n",
    "    a = a + 1\n",
    "\n",
    "\n",
    "vartest(a)\n",
    "print(a)"
   ]
  },
  {
   "cell_type": "markdown",
   "id": "36bd1eb7",
   "metadata": {},
   "source": [
    "##### 굳이 이런 형식으로 값을 유지시키고싶으면 return해서 대입하는 방법이 있고"
   ]
  },
  {
   "cell_type": "code",
   "execution_count": 7,
   "id": "5ab1b61f",
   "metadata": {},
   "outputs": [
    {
     "name": "stdout",
     "output_type": "stream",
     "text": [
      "2\n"
     ]
    }
   ],
   "source": [
    "a = 1\n",
    "\n",
    "def vartest(a) :\n",
    "    a = a + 1\n",
    "    return a\n",
    "\n",
    "a = vartest(a)\n",
    "print(a)"
   ]
  },
  {
   "cell_type": "markdown",
   "id": "08b56175",
   "metadata": {},
   "source": [
    "##### global 을 통해 전역변수를 불러오는 방법이 있음 (대신 매개변수명이 겹치지 않게 해둬야함)"
   ]
  },
  {
   "cell_type": "code",
   "execution_count": 1,
   "id": "ca923c0b",
   "metadata": {},
   "outputs": [
    {
     "name": "stdout",
     "output_type": "stream",
     "text": [
      "2\n"
     ]
    }
   ],
   "source": [
    "a = 1\n",
    "\n",
    "def vartest() :\n",
    "    global a\n",
    "    a = a + 1\n",
    "\n",
    "vartest()\n",
    "print(a)"
   ]
  },
  {
   "cell_type": "markdown",
   "id": "02ef775d",
   "metadata": {},
   "source": [
    "##### 매개변수 복습\n",
    "### ** 중요 ** 매개변수 확인 및 초기화된 매개변수 확인 시 함수에 마우스 오버하면 정보가 나옴 (VS Code 기준)"
   ]
  },
  {
   "cell_type": "code",
   "execution_count": 2,
   "id": "53b84c2d",
   "metadata": {},
   "outputs": [
    {
     "name": "stdout",
     "output_type": "stream",
     "text": [
      "jimin, (29,)\n",
      "True\n",
      "tennis\n",
      "jimin, (29,)\n",
      "False\n",
      "game\n",
      "jimin, (29,)\n",
      "True\n",
      "game\n"
     ]
    }
   ],
   "source": [
    "def say_myself(name, age, man=True, hobby='tennis') :\n",
    "    print(f'{name}, {age,}')\n",
    "    print(man)\n",
    "    print(hobby)\n",
    "\n",
    "say_myself('jimin', 29)\n",
    "say_myself('jimin', 29, False, 'game')\n",
    "say_myself('jimin', 29, hobby='game')"
   ]
  },
  {
   "cell_type": "markdown",
   "id": "e3d0bf71",
   "metadata": {},
   "source": [
    "### 자주 활용하는 내장 함수 예제"
   ]
  },
  {
   "cell_type": "markdown",
   "id": "760247e5",
   "metadata": {},
   "source": [
    "### zip (zip만 한 상태는 메모리 절약을 위해 축약된 형태. list로 묶어줘야 묶여진 list가 출력됨)\n",
    "\n",
    "##### list()로 감싸줘야 활용 가능"
   ]
  },
  {
   "cell_type": "code",
   "execution_count": 11,
   "id": "41ab34b2",
   "metadata": {},
   "outputs": [
    {
     "name": "stdout",
     "output_type": "stream",
     "text": [
      "<class 'zip'>\n",
      "<zip object at 0x000001D0B24AEC80>\n",
      "\n",
      "<class 'list'>\n",
      "[(52, 19, 0), (255, 63, 68), (39, 227, 255), (132, 197, 187)]\n",
      "\n",
      "<class 'tuple'>\n",
      "(52, 19, 0)\n"
     ]
    }
   ],
   "source": [
    "r = (52, 255, 39, 132)\n",
    "g = (19, 63, 227, 197)\n",
    "b = (0, 68, 255, 187)\n",
    "\n",
    "zip_img = zip(r, g, b)\n",
    "print(type(zip_img))\n",
    "print(zip_img)\n",
    "print()\n",
    "\n",
    "img = list(zip(r, g, b))\n",
    "print(type(img))\n",
    "print(img)\n",
    "print()\n",
    "\n",
    "print(type(img[0]))\n",
    "print(img[0])\n"
   ]
  },
  {
   "cell_type": "markdown",
   "id": "8a740b15",
   "metadata": {},
   "source": [
    "### enumerate (index 와 value의 쌍을 만들어주는 함수, zip과 같이 메모리에 올려지기 전 형태 가지고있음)\n",
    "\n",
    "##### dict() 로 감싸줘야 활용 가능"
   ]
  },
  {
   "cell_type": "code",
   "execution_count": 19,
   "id": "770b9244",
   "metadata": {},
   "outputs": [
    {
     "name": "stdout",
     "output_type": "stream",
     "text": [
      "<class 'enumerate'>\n",
      "<enumerate object at 0x000001D0B25A3FB0>\n",
      "\n",
      "<class 'dict'>\n",
      "{0: 'apple', 1: 'banana', 2: 'cherry', 3: 'date'}\n",
      "\n",
      "<class 'dict'>\n",
      "{1: 'apple', 2: 'banana', 3: 'cherry', 4: 'date'}\n",
      "\n"
     ]
    }
   ],
   "source": [
    "fruits = ('apple', 'banana', 'cherry', 'date')\n",
    "\n",
    "result_enum = enumerate(fruits)\n",
    "print(type(result_enum))\n",
    "print(result_enum)\n",
    "print()\n",
    "\n",
    "result_enum2 = dict(enumerate(fruits))\n",
    "print(type(result_enum2))\n",
    "print(result_enum2)\n",
    "print()\n",
    "\n",
    "result_enum3 = dict(enumerate(fruits, 1))\n",
    "print(type(result_enum3))\n",
    "print(result_enum3)\n",
    "print()"
   ]
  },
  {
   "cell_type": "markdown",
   "id": "a6c790db",
   "metadata": {},
   "source": [
    "### map (iterable을 function에 전달하여 그 결과값을 mapping 하는 함수)\n",
    "\n",
    "##### list() 로 감싸줘야 활용 가능"
   ]
  },
  {
   "cell_type": "code",
   "execution_count": 21,
   "id": "294c84ce",
   "metadata": {},
   "outputs": [
    {
     "name": "stdout",
     "output_type": "stream",
     "text": [
      "[2, 3, 4, 5, 6]\n"
     ]
    }
   ],
   "source": [
    "# 이 list의 요소를 전부 1씩 증가시켜야 할 때\n",
    "mylist = [1, 2, 3, 4, 5]\n",
    "\n",
    "result = []\n",
    "for i in mylist :\n",
    "    result.append(i + 1)\n",
    "\n",
    "print(result)"
   ]
  },
  {
   "cell_type": "code",
   "execution_count": 22,
   "id": "9ce859c2",
   "metadata": {},
   "outputs": [
    {
     "name": "stdout",
     "output_type": "stream",
     "text": [
      "[2, 3, 4, 5, 6]\n"
     ]
    }
   ],
   "source": [
    "# 이 list의 요소를 전부 1씩 증가시켜야 할 때\n",
    "mylist = [1, 2, 3, 4, 5]\n",
    "\n",
    "for index, i in enumerate(mylist) :\n",
    "    mylist[index] = i + 1\n",
    "\n",
    "print(mylist)"
   ]
  },
  {
   "cell_type": "code",
   "execution_count": 28,
   "id": "52aa256d",
   "metadata": {},
   "outputs": [
    {
     "name": "stdout",
     "output_type": "stream",
     "text": [
      "[2, 3, 4, 5, 6]\n"
     ]
    }
   ],
   "source": [
    "# 이 list의 요소를 전부 1씩 증가시켜야 할 때\n",
    "mylist = [1, 2, 3, 4, 5]\n",
    "\n",
    "def add_one(n) :\n",
    "    return n + 1\n",
    "\n",
    "for i in range(len(mylist)) :\n",
    "    mylist[i] = add_one(mylist[i])\n",
    "\n",
    "print(mylist)"
   ]
  },
  {
   "cell_type": "code",
   "execution_count": 30,
   "id": "476ae1ac",
   "metadata": {},
   "outputs": [
    {
     "name": "stdout",
     "output_type": "stream",
     "text": [
      "[2, 3, 4, 5, 6]\n"
     ]
    }
   ],
   "source": [
    "# 이 list의 요소를 전부 1씩 증가시켜야 할 때\n",
    "mylist = [1, 2, 3, 4, 5]\n",
    "\n",
    "def add_one(n) :\n",
    "    return n + 1\n",
    "\n",
    "result = list(map(add_one, mylist))\n",
    "\n",
    "print(result)"
   ]
  },
  {
   "cell_type": "code",
   "execution_count": 42,
   "id": "34ffc1f2",
   "metadata": {},
   "outputs": [
    {
     "name": "stdout",
     "output_type": "stream",
     "text": [
      "<map object at 0x000001D0B2060310>\n",
      "<class 'map'>\n",
      "\n",
      "[2, 3, 4, 5, 6]\n"
     ]
    }
   ],
   "source": [
    "# 이 list의 요소를 전부 1씩 증가시켜야 할 때\n",
    "mylist = [1, 2, 3, 4, 5]\n",
    "\n",
    "result = map(lambda x:x+1, mylist)\n",
    "\n",
    "print(result)\n",
    "print(type(result))\n",
    "print()\n",
    "\n",
    "print(list(result))"
   ]
  },
  {
   "cell_type": "code",
   "execution_count": 32,
   "id": "c07b7933",
   "metadata": {},
   "outputs": [
    {
     "name": "stdout",
     "output_type": "stream",
     "text": [
      "[3, -6, 100, 25]\n"
     ]
    }
   ],
   "source": [
    "# 내장함수 바로 활용\n",
    "mylist = [3.14, -5.6, 100.4, 25.0]\n",
    "\n",
    "result = map(round, mylist)\n",
    "\n",
    "print(list(result))"
   ]
  },
  {
   "cell_type": "markdown",
   "id": "d8688314",
   "metadata": {},
   "source": [
    "### filter 함수 (특정 조건에 맞는 요소만 필터링하는 함수)\n",
    "\n",
    "##### list() 로 감싸줘야 활용 가능"
   ]
  },
  {
   "cell_type": "code",
   "execution_count": 67,
   "id": "5243800e",
   "metadata": {},
   "outputs": [
    {
     "name": "stdout",
     "output_type": "stream",
     "text": [
      "<filter object at 0x000001D0B20406D0>\n",
      "<class 'filter'>\n",
      "\n",
      "[8, 7, 9]\n",
      "[3, 2, 1, 0]\n",
      "[8, 3, 7]\n"
     ]
    }
   ],
   "source": [
    "def f(x) :\n",
    "    return x > 5 and x < 10\n",
    "\n",
    "def f2(x) :\n",
    "    return x >= 3 and x <= 8\n",
    "\n",
    "a = [8, 3, 2, 10, 15, 7, 1, 9, 0, 11]\n",
    "\n",
    "print(filter(f, a))\n",
    "print(type(filter(f, a)))\n",
    "print()\n",
    "\n",
    "print(list(filter(f, a)))\n",
    "\n",
    "print(list(filter(lambda x:x < 5, a)))\n",
    "\n",
    "print(list(filter(f2, a)))\n",
    "\n"
   ]
  },
  {
   "cell_type": "markdown",
   "id": "e9501418",
   "metadata": {},
   "source": [
    "## *** 람다 함수 (중요) ***"
   ]
  },
  {
   "cell_type": "code",
   "execution_count": 45,
   "id": "4ebfa86c",
   "metadata": {},
   "outputs": [
    {
     "name": "stdout",
     "output_type": "stream",
     "text": [
      "[2, 3, 4, 5, 6]\n"
     ]
    }
   ],
   "source": [
    "mylist = [1, 2, 3, 4, 5]\n",
    "\n",
    "result = map(lambda x:x+1, mylist)\n",
    "\n",
    "print(list(result))"
   ]
  },
  {
   "cell_type": "markdown",
   "id": "86d18031",
   "metadata": {},
   "source": [
    "##### 익명함수지만 변수에 담아서 활용도 가능\n",
    "##### 람다의 의의랑은 안맞지만, 여러개의 간단함수를 다뤄야할때는 이렇게도 사용 가능"
   ]
  },
  {
   "cell_type": "code",
   "execution_count": 68,
   "id": "8b7adab0",
   "metadata": {},
   "outputs": [
    {
     "name": "stdout",
     "output_type": "stream",
     "text": [
      "5\n",
      "\n",
      "<function <lambda> at 0x000001D0B276C860>\n",
      "<class 'function'>\n"
     ]
    }
   ],
   "source": [
    "f = lambda x, y:x+y\n",
    "print(f(2, 3))\n",
    "print()\n",
    "\n",
    "print(f)\n",
    "print(type(f))"
   ]
  },
  {
   "cell_type": "markdown",
   "id": "1db96d80",
   "metadata": {},
   "source": [
    "### 람다 함수 사용 예제"
   ]
  },
  {
   "cell_type": "code",
   "execution_count": 49,
   "id": "7069c04f",
   "metadata": {},
   "outputs": [
    {
     "name": "stdout",
     "output_type": "stream",
     "text": [
      "[1, 4, 9, 16]\n"
     ]
    }
   ],
   "source": [
    "numbers = [1, 2, 3, 4]\n",
    "squared = list(map(lambda x:x**2, numbers))\n",
    "print(squared)"
   ]
  },
  {
   "cell_type": "code",
   "execution_count": 69,
   "id": "a9cc35bf",
   "metadata": {},
   "outputs": [
    {
     "name": "stdout",
     "output_type": "stream",
     "text": [
      "[2, 4]\n"
     ]
    }
   ],
   "source": [
    "numbers = [1, 2, 3, 4, 5]\n",
    "even_numbers = list(filter(lambda x:x%2==0, numbers))\n",
    "print(even_numbers)"
   ]
  },
  {
   "cell_type": "code",
   "execution_count": 86,
   "id": "4d4dba9f",
   "metadata": {},
   "outputs": [
    {
     "name": "stdout",
     "output_type": "stream",
     "text": [
      "[(5, 1), (1, 2), (3, 4)]\n"
     ]
    }
   ],
   "source": [
    "points = [(1, 2), (3, 4), (5, 1)]\n",
    "sorted_points = sorted(points, key=lambda x:x[1])\n",
    "print(sorted_points)"
   ]
  },
  {
   "cell_type": "code",
   "execution_count": 89,
   "id": "4607442d",
   "metadata": {},
   "outputs": [
    {
     "name": "stdout",
     "output_type": "stream",
     "text": [
      "[(5, 1), (1, 2), (3, 2), (5, 2), (3, 4)]\n"
     ]
    }
   ],
   "source": [
    "points = [(1, 2), (3, 4), (5, 2), (3, 2), (5, 1)]\n",
    "\n",
    "# 먼저 x[1]에 대해서 분류하고, 같은 x[1] 안에서는 x[0]을 기준으로 분류하라는 코드\n",
    "sorted_points = sorted(points, key=lambda x:(x[1], x[0]))\n",
    "print(sorted_points)"
   ]
  },
  {
   "cell_type": "markdown",
   "id": "1eedec4d",
   "metadata": {},
   "source": [
    "## ** sorted 매개변수 key (중요) ** \n",
    "### sorted 매개변수인 key에 function을 담으면, 각 요소들을 해당 function으로 처리한 결과값에 따라서 정렬을 해줌"
   ]
  },
  {
   "cell_type": "markdown",
   "id": "a2494239",
   "metadata": {},
   "source": [
    "### ** sorted는 기본적으로 튜플 혹은 리스트 혹은 문자열 등 시퀸스형 자료형을 처리할 때 해당 시퀸스의 가장 앞의 것을 기준으로 정렬을 처리함 (중요) **"
   ]
  },
  {
   "cell_type": "code",
   "execution_count": 83,
   "id": "fbba12a9",
   "metadata": {},
   "outputs": [
    {
     "name": "stdout",
     "output_type": "stream",
     "text": [
      "['date', 'apple', 'banana', 'cherry']\n"
     ]
    }
   ],
   "source": [
    "fruits = ['apple', 'banana', 'cherry', 'date']\n",
    "\n",
    "myfruits = sorted(fruits, key=len)\n",
    "\n",
    "print(myfruits)"
   ]
  },
  {
   "cell_type": "markdown",
   "id": "956c7528",
   "metadata": {},
   "source": [
    "### 함수 예제 실습"
   ]
  },
  {
   "cell_type": "markdown",
   "id": "ca1c41e1",
   "metadata": {},
   "source": [
    "##### 등수구하기 \n",
    "\n",
    "##### 영어 점수와 수학 점수의 평균 점수를 기준으로 학생들의 등수를 매기려고 합니다. 영어 점수와 수학 점수를 담은 2차원 리스트 score가 주어질 때, 영어 점수와 수학 점수의 평균을 기준으로 매긴 등수를 담은 리스트를 return하도록 함수를 만들어주세요 \n",
    "\n",
    "##### [[80, 70], [90, 50], [40, 70], [50, 80]] -> [1, 2, 4, 3] \n",
    "\n",
    "##### [[80, 70], [70, 80], [30, 50], [90, 100], [100, 90], [100, 100], [10, 30]] -> [4, 4, 6, 2, 2, 1, 7] "
   ]
  },
  {
   "cell_type": "code",
   "execution_count": null,
   "id": "defa1cde",
   "metadata": {},
   "outputs": [
    {
     "name": "stdout",
     "output_type": "stream",
     "text": [
      "[1, 2, 4, 3]\n",
      "[4, 4, 6, 2, 2, 1, 7]\n"
     ]
    }
   ],
   "source": [
    "list1 = [[80, 70], [90, 50], [40, 70], [50, 80]]\n",
    "list2 = [[80, 70], [70, 80], [30, 50], [90, 100], [100, 90], [100, 100], [10, 30]]\n",
    "\n",
    "def cal_rank(input_list) :\n",
    "\n",
    "    avg_list = [(x+y)/2 for x, y in input_list]\n",
    "    avg_list_sorted = sorted(avg_list, reverse=True)\n",
    "\n",
    "    # avg_list에 있는 평균값이 '내림차순으로 정렬된 평균값 리스트' 에서 몇번째 순서인지(즉 몇등인지)\n",
    "    # 를 avg_list_sorted.index(i) 를 통해 알아내고, 그것을 그대로 새로운 리스트에 저장\n",
    "    # (avg_list에서 하나씩 불러오기 때문에, 순서가 유지됨)\n",
    "    rank_list = [avg_list_sorted.index(i)+1 for i in avg_list]\n",
    "\n",
    "    return rank_list\n",
    "\n",
    "print(cal_rank(list1))\n",
    "print(cal_rank(list2))"
   ]
  },
  {
   "cell_type": "code",
   "execution_count": null,
   "id": "0c0336ca",
   "metadata": {},
   "outputs": [
    {
     "name": "stdout",
     "output_type": "stream",
     "text": [
      "[1, 2, 4, 3]\n",
      "[4, 4, 6, 2, 2, 1, 7]\n"
     ]
    }
   ],
   "source": [
    "list1 = [[80, 70], [90, 50], [40, 70], [50, 80]]\n",
    "list2 = [[80, 70], [70, 80], [30, 50], [90, 100], [100, 90], [100, 100], [10, 30]]\n",
    "\n",
    "def cal_rank(input_list) :\n",
    "\n",
    "    avg_list = [(x+y)/2 for x, y in input_list]\n",
    "    avg_list_sorted = sorted(avg_list, reverse=True)\n",
    "    rank_list = []\n",
    "\n",
    "    for i in avg_list :\n",
    "        # avg_list에 있는 평균값이 '내림차순으로 정렬된 평균값 리스트' 에서 몇번째 순서인지 (즉 몇등인지)\n",
    "        # 를 avg_list_sorted.index(i) 를 통해 알아내고, 그것을 그대로 새로운 리스트에 저장\n",
    "        # (avg_list에서 하나씩 불러오기 때문에, 순서가 유지됨)\n",
    "        rank_list.append(avg_list_sorted.index(i) + 1)\n",
    "\n",
    "    return rank_list\n",
    "\n",
    "print(cal_rank(list1))\n",
    "print(cal_rank(list2))"
   ]
  },
  {
   "cell_type": "markdown",
   "id": "3edba532",
   "metadata": {},
   "source": [
    "### 소수 판별 함수 예제\n",
    "\n",
    "##### 소수 판별 함수\n",
    "##### [2, 3, 4, 5, 6, 7, 8, 9] -> [True, True, False, True, False, True, False, False]"
   ]
  },
  {
   "cell_type": "code",
   "execution_count": 154,
   "id": "fa97e3d8",
   "metadata": {},
   "outputs": [
    {
     "name": "stdout",
     "output_type": "stream",
     "text": [
      "[True, True, False, True, False, True, False, False]\n"
     ]
    }
   ],
   "source": [
    "list1 = [2, 3, 4, 5, 6, 7, 8, 9]\n",
    "\n",
    "def is_prime(input_list) :\n",
    "\n",
    "    prime_list = []\n",
    "\n",
    "    for i in input_list :\n",
    "        flag = 0\n",
    "        \n",
    "        for x in range(2,i) :\n",
    "            if i%x==0 :\n",
    "                prime_list.append(False)\n",
    "                flag = 1\n",
    "                break\n",
    "\n",
    "        if flag == 1:\n",
    "            continue\n",
    "\n",
    "        prime_list.append(True)\n",
    "\n",
    "    return prime_list\n",
    "\n",
    "print(is_prime(list1))"
   ]
  },
  {
   "cell_type": "markdown",
   "id": "2327596c",
   "metadata": {},
   "source": [
    "### 모듈"
   ]
  },
  {
   "cell_type": "code",
   "execution_count": 163,
   "id": "37edbc7d",
   "metadata": {},
   "outputs": [
    {
     "name": "stdout",
     "output_type": "stream",
     "text": [
      "2\n"
     ]
    }
   ],
   "source": [
    "import random\n",
    "\n",
    "print(random.randint(1, 100))\n"
   ]
  },
  {
   "cell_type": "code",
   "execution_count": null,
   "id": "3139e6de",
   "metadata": {},
   "outputs": [],
   "source": [
    "# 축약\n",
    "import random as rand\n",
    "\n",
    "print(rand.randint(1, 100))"
   ]
  },
  {
   "cell_type": "code",
   "execution_count": 172,
   "id": "25b565d3",
   "metadata": {},
   "outputs": [
    {
     "name": "stdout",
     "output_type": "stream",
     "text": [
      "12\n"
     ]
    }
   ],
   "source": [
    "# 지정\n",
    "from random import randint\n",
    "\n",
    "print(randint(1, 100))"
   ]
  },
  {
   "cell_type": "markdown",
   "id": "298cb76f",
   "metadata": {},
   "source": [
    "##### from random import *\n",
    "##### 로 모듈명없이 다 사용할수도 있지만, 이럴 경우 다른 라이브러리와 함수명 겹칠 시 에러확률 매우 높음"
   ]
  },
  {
   "cell_type": "code",
   "execution_count": 176,
   "id": "ca2de218",
   "metadata": {},
   "outputs": [
    {
     "name": "stdout",
     "output_type": "stream",
     "text": [
      "8\n"
     ]
    }
   ],
   "source": [
    "import random\n",
    "\n",
    "print(random.randrange(0, 30, 2))"
   ]
  },
  {
   "cell_type": "markdown",
   "id": "e194fa66",
   "metadata": {},
   "source": [
    "### 모듈 예제"
   ]
  },
  {
   "cell_type": "code",
   "execution_count": 198,
   "id": "952a44a9",
   "metadata": {},
   "outputs": [
    {
     "name": "stdout",
     "output_type": "stream",
     "text": [
      "[4, 7, 12, 15, 35, 40]\n"
     ]
    }
   ],
   "source": [
    "import random\n",
    "\n",
    "result = []\n",
    "for i in range(6) :\n",
    "    result.append(randint(1, 45))\n",
    "\n",
    "print(sorted(result))"
   ]
  },
  {
   "cell_type": "markdown",
   "id": "456e37a9",
   "metadata": {},
   "source": [
    "### 커스텀 모듈 써보기"
   ]
  },
  {
   "cell_type": "code",
   "execution_count": 200,
   "id": "eeb9c12f",
   "metadata": {},
   "outputs": [
    {
     "name": "stdout",
     "output_type": "stream",
     "text": [
      "7\n",
      "6\n"
     ]
    }
   ],
   "source": [
    "import mymodule as mm\n",
    "\n",
    "print(mm.my_add(3, 4))\n",
    "print(mm.my_sub(10, 4))"
   ]
  },
  {
   "cell_type": "markdown",
   "id": "d8f2dce0",
   "metadata": {},
   "source": [
    "## ** \\_\\_main\\_\\_ 의 의미 (중요) **"
   ]
  },
  {
   "cell_type": "code",
   "execution_count": 201,
   "id": "c08de1a7",
   "metadata": {},
   "outputs": [
    {
     "data": {
      "text/plain": [
       "'__main__'"
      ]
     },
     "execution_count": 201,
     "metadata": {},
     "output_type": "execute_result"
    }
   ],
   "source": [
    "__name__"
   ]
  },
  {
   "cell_type": "code",
   "execution_count": 202,
   "id": "9203851f",
   "metadata": {},
   "outputs": [
    {
     "name": "stdout",
     "output_type": "stream",
     "text": [
      "__main__\n",
      "<class 'str'>\n"
     ]
    }
   ],
   "source": [
    "print(__name__)\n",
    "print(type(__name__))"
   ]
  },
  {
   "cell_type": "markdown",
   "id": "e07316be",
   "metadata": {},
   "source": [
    "### '해당 파일이 모듈이 아닌 main으로서 실행될 경우 이 부분을 실행' 이라는 의미"
   ]
  },
  {
   "cell_type": "code",
   "execution_count": 203,
   "id": "5ff3ff2c",
   "metadata": {},
   "outputs": [
    {
     "name": "stdout",
     "output_type": "stream",
     "text": [
      "3\n",
      "7\n"
     ]
    }
   ],
   "source": [
    "if __name__ == \"__main__\" :\n",
    "    print(1+2)\n",
    "    print(3+4)\n"
   ]
  },
  {
   "cell_type": "markdown",
   "id": "5339afd2",
   "metadata": {},
   "source": [
    "### 불러온 모듈 안에서 __name__ 을 출력하게 했을 경우\n",
    "##### (커널 restart 후 실행하면 __name__ 을 출력함)"
   ]
  },
  {
   "cell_type": "code",
   "execution_count": 2,
   "id": "83c76a1c",
   "metadata": {},
   "outputs": [
    {
     "name": "stdout",
     "output_type": "stream",
     "text": [
      "3\n"
     ]
    }
   ],
   "source": [
    "import mymodule as mm\n",
    "\n",
    "print(mm.my_add(1,2))"
   ]
  },
  {
   "cell_type": "markdown",
   "id": "054f0e67",
   "metadata": {},
   "source": [
    "## 클래스"
   ]
  },
  {
   "cell_type": "markdown",
   "id": "f48273ad",
   "metadata": {},
   "source": [
    "##### 클래스 = 붕어빵 틀\n",
    "##### 클래스명은 변수, 함수와 구분하기 위해 보통 맨 앞을 대문자로 함"
   ]
  },
  {
   "cell_type": "markdown",
   "id": "ab9a44fa",
   "metadata": {},
   "source": [
    "##### def __init__(self) : 의 경우\n",
    "##### 이 클래스를 통해 새로운 객체가 만들어졌을 때 실행되어지는 구문"
   ]
  },
  {
   "cell_type": "code",
   "execution_count": 4,
   "id": "7e53307b",
   "metadata": {},
   "outputs": [],
   "source": [
    "class Person :\n",
    "    def __init__(self, name, age) :\n",
    "        self.name = name\n",
    "        self.age = age\n",
    "\n",
    "    def walk(self) :\n",
    "        print(f'{self.name}이 걸어가요')"
   ]
  },
  {
   "cell_type": "markdown",
   "id": "50863eac",
   "metadata": {},
   "source": [
    "# ** self의 의미 (중요) **\n",
    "### self는 '이 클래스로 생성된 객체' 를 가리킨다. 그러니까 self.변수명 은 어떤 객체가 해당 클래스로 생성되었을 시 해당 객체 안에서만 사용되는 지역변수를 말하며, 각 객체별로 다르게 지정되기 때문에 설계도의 역할만 하는 클래스 안에서는 self 로서 '나중에 올 객체의 이름'의 역할임과 동시에 '객체별로 구별되어 사용되는 변수' 를 의미한다.\n",
    "\n",
    "### 그래서 \\_\\_init\\_\\_ 에서 사용한다면 객체가 생성될 시 해당 객체에서 계속해서 지역변수로서 남는것이고, 클래스 안의 메소드에서 매개변수로 받아지는 경우 해당 메소드 안에서만 사용된다. (그래서 객체 선언시 매개변수로 사용한 값 \\_\\_init\\_\\_으로 미리 지역변수로 선언해두지 않으면 객체 안의 메소드(메소드 매개변수로는 안받은 채로) 에서 사용하려고 하면 참조가 안됨 - 매개변수가 생성자로 선언된 후, 지역변수 설정이 안되었기 때문에 생성 후 증발되기 때문"
   ]
  },
  {
   "cell_type": "code",
   "execution_count": 8,
   "id": "c1bc1c7d",
   "metadata": {},
   "outputs": [
    {
     "name": "stdout",
     "output_type": "stream",
     "text": [
      "<class '__main__.Person'>\n",
      "<__main__.Person object at 0x000002DC1C9991D0>\n",
      "\n",
      "박지민이 걸어가요\n"
     ]
    }
   ],
   "source": [
    "person1 = Person('박지민', 31)\n",
    "\n",
    "print(type(person1))\n",
    "print(person1)\n",
    "print()\n",
    "\n",
    "person1.walk()"
   ]
  },
  {
   "cell_type": "code",
   "execution_count": 9,
   "id": "2d225af4",
   "metadata": {},
   "outputs": [
    {
     "name": "stdout",
     "output_type": "stream",
     "text": [
      "<class '__main__.Person'>\n",
      "<__main__.Person object at 0x000002DC1C2EB8D0>\n",
      "\n",
      "전정국이 걸어가요\n"
     ]
    }
   ],
   "source": [
    "person2 = Person('전정국', 29)\n",
    "\n",
    "print(type(person2))\n",
    "print(person2)\n",
    "print()\n",
    "\n",
    "person2.walk()"
   ]
  },
  {
   "cell_type": "markdown",
   "id": "6f41b544",
   "metadata": {},
   "source": [
    "### 클래스 상속\n",
    "##### 기존 기능을 건드리지 않고 무언가를 추가하려고 할 때 또는 기존 기능을 변경하려고 할 때 사용"
   ]
  },
  {
   "cell_type": "code",
   "execution_count": 14,
   "id": "cf210dda",
   "metadata": {},
   "outputs": [],
   "source": [
    "class NewPerson(Person) :\n",
    "    def fly(self) :\n",
    "        print(f'{self.name}이 날아요')"
   ]
  },
  {
   "cell_type": "code",
   "execution_count": 15,
   "id": "4e3440b6",
   "metadata": {},
   "outputs": [
    {
     "name": "stdout",
     "output_type": "stream",
     "text": [
      "정호석이 걸어가요\n",
      "정호석이 날아요\n"
     ]
    }
   ],
   "source": [
    "person3 = NewPerson('정호석', 33)\n",
    "\n",
    "person3.walk()\n",
    "person3.fly()"
   ]
  },
  {
   "cell_type": "markdown",
   "id": "87c4b2d0",
   "metadata": {},
   "source": [
    "### 클래스 오버라이딩\n",
    "##### 기존의 클래스가 가지고 있던 메소드의 이름과 동일한 메소드를 상속받음으로서 기존의 메소드의 내용을 상속받은 메소드의 내용으로 대체하는 것"
   ]
  },
  {
   "cell_type": "code",
   "execution_count": 16,
   "id": "b5aee534",
   "metadata": {},
   "outputs": [],
   "source": [
    "class NewPerson(Person) :\n",
    "    def fly(self) :\n",
    "        print(f'{self.name}이 날아요')\n",
    "    def walk(self) :\n",
    "        print(f'{self.name}이 날다가도 걸어가요')"
   ]
  },
  {
   "cell_type": "code",
   "execution_count": 17,
   "id": "71bfeb51",
   "metadata": {},
   "outputs": [
    {
     "name": "stdout",
     "output_type": "stream",
     "text": [
      "정호석이 날다가도 걸어가요\n",
      "정호석이 날아요\n"
     ]
    }
   ],
   "source": [
    "person3 = NewPerson('정호석', 33)\n",
    "\n",
    "person3.walk()\n",
    "person3.fly()"
   ]
  },
  {
   "cell_type": "markdown",
   "id": "5f140c55",
   "metadata": {},
   "source": [
    "### 클래스 작성 예제 실습 - 결제시스템 만들기"
   ]
  },
  {
   "cell_type": "code",
   "execution_count": 63,
   "id": "2af2bd47",
   "metadata": {},
   "outputs": [],
   "source": [
    "def pay_credit_payment(card_info, amount) :\n",
    "    \"\"\" 신용카드 결제 로직 \"\"\"\n",
    "    print(f'{card_info[\"card_number\"]} 카드로 {amount:,}원 결제합니다.')\n",
    "    print('결제 완료')\n",
    "\n",
    "def pay_with_points(point_wallet, amount) :\n",
    "    if point_wallet['balance'] >= amount :\n",
    "        point_wallet['balance'] -= amount\n",
    "        print(f'포인트가 {amount:,}만큼 차감되었습니다.')\n",
    "        print('결제 완료')\n",
    "    else :\n",
    "        print(f'포인트가 부족합니다.')"
   ]
  },
  {
   "cell_type": "code",
   "execution_count": 64,
   "id": "624f25b3",
   "metadata": {},
   "outputs": [],
   "source": [
    "credit_card = {\n",
    "    'type' : 'credit_card',\n",
    "    'card_number' : '1122-3344-5566-7777',\n",
    "    'cvc' : 123\n",
    "}\n",
    "\n",
    "my_points = {\n",
    "    'type' : 'point_wallet',\n",
    "    'balance' : 50000\n",
    "}"
   ]
  },
  {
   "cell_type": "code",
   "execution_count": 65,
   "id": "623e8c3d",
   "metadata": {},
   "outputs": [],
   "source": [
    "def payment(payment_method, amount) :\n",
    "    payment_type = payment_method['type']\n",
    "\n",
    "    if payment_type == 'credit_card' :\n",
    "        pay_credit_payment(payment_method, amount)\n",
    "    elif payment_type == 'point_wallet' :\n",
    "        pay_with_points(payment_method, amount)\n",
    "    else :\n",
    "        print('지원되지 않는 결제 방식입니다.')"
   ]
  },
  {
   "cell_type": "code",
   "execution_count": 69,
   "id": "986f606f",
   "metadata": {},
   "outputs": [
    {
     "name": "stdout",
     "output_type": "stream",
     "text": [
      "1122-3344-5566-7777 카드로 2,500원 결제합니다.\n",
      "결제 완료\n",
      "\n",
      "포인트가 2,500만큼 차감되었습니다.\n",
      "결제 완료\n",
      "\n",
      "포인트가 부족합니다.\n"
     ]
    }
   ],
   "source": [
    "payment(credit_card, 2500)\n",
    "print()\n",
    "payment(my_points, 2500)\n",
    "print()\n",
    "payment(my_points, 50000)"
   ]
  },
  {
   "cell_type": "markdown",
   "id": "06fac0a4",
   "metadata": {},
   "source": [
    "<hr>\n",
    "위의 코드를 클래스로 밑에 구현해보기"
   ]
  },
  {
   "cell_type": "code",
   "execution_count": 99,
   "id": "a28cc5e3",
   "metadata": {},
   "outputs": [],
   "source": [
    "# 하다가 실패.. 따로 상속같은거 생각 안하고 전부 class 로 만드려다가 실패함\n",
    "\n",
    "# class Payment :\n",
    "\n",
    "#     def __init__(self, payment_method) :\n",
    "#         self.payment_method = payment_method\n",
    "\n",
    "#     def pay(amount) :\n",
    "#         payment_type = payment_method['type']\n",
    "\n",
    "#         if payment_type == 'credit_card' :\n",
    "#             pay_credit_payment(payment_method, amount)\n",
    "#         if payment_type == 'point_wallet' :\n",
    "#             pay_with_points(payment_method, amount)\n",
    "#         else :\n",
    "#             print('지원되지 않는 결제 방식입니다.')\n",
    "\n",
    "#     def pay_credit_payment(card_info, amount) :\n",
    "#         \"\"\" 신용카드 결제 로직 \"\"\"\n",
    "#         print(f'{card_info[\"card_number\"]} 카드로 {amount:,}원 결제합니다.')\n",
    "#         print('결제 완료')\n",
    "\n",
    "#     def pay_with_points(point_wallet, amount) :\n",
    "#         if point_wallet['balance'] >= amount :\n",
    "#             point_wallet['balance'] -= amount\n",
    "#             print(f'포인트가 {amount}만큼 차감되었습니다.')\n",
    "#             print('결제 완료')\n",
    "#         else :\n",
    "#             print(f'포인트가 부족합니다.')"
   ]
  },
  {
   "cell_type": "code",
   "execution_count": 100,
   "id": "a7486fba",
   "metadata": {},
   "outputs": [],
   "source": [
    "# credit_card = {\n",
    "#     'type' : 'credit_card',\n",
    "#     'card_number' : '1122-3344-5566-7777',\n",
    "#     'cvc' : 123\n",
    "# }\n",
    "\n",
    "# my_points = {\n",
    "#     'type' : 'point_wallet',\n",
    "#     'balance' : 50000\n",
    "# }\n",
    "\n",
    "# pay1 = Payment(credit_card)\n",
    "# print(pay1.pay(2500))"
   ]
  },
  {
   "cell_type": "markdown",
   "id": "667e6a27",
   "metadata": {},
   "source": [
    "<hr>\n",
    "\n",
    "##### 강사님의 실습"
   ]
  },
  {
   "cell_type": "markdown",
   "id": "01a396cd",
   "metadata": {},
   "source": [
    "##### 굳이 부모클래스로 만든 이유는, 결제라는 동작은 동일하고 카드, 포인트로 나뉘는것이기\n",
    "##### 때문에 동작상 구분해두는게 좋겠다고 생각해서라고 하심"
   ]
  },
  {
   "cell_type": "code",
   "execution_count": 101,
   "id": "8a30878c",
   "metadata": {},
   "outputs": [],
   "source": [
    "class PaymentMethod :\n",
    "    def pay(self, amount) :\n",
    "        print(f'{amount}원 결제')"
   ]
  },
  {
   "cell_type": "code",
   "execution_count": 102,
   "id": "0e5959c5",
   "metadata": {},
   "outputs": [],
   "source": [
    "class CreditCard(PaymentMethod) :\n",
    "    def __init__(self, card_number, cvc) :\n",
    "        self.card_number = card_number\n",
    "        self.cvc = cvc\n",
    "    \n",
    "    # 부모클래스의 pay 메소드 오버라이딩\n",
    "    def pay(self, amount) :\n",
    "        print(f'{self.card_number} 카드로 {amount:,}원 결제합니다.')\n",
    "        # 서버 결제 요청\n",
    "        print('결제 완료')\n",
    "\n",
    "class PointWallet(PaymentMethod) :\n",
    "    def __init__(self, balance) :\n",
    "        self.balance = balance\n",
    "    \n",
    "    # 부모클래스의 pay 메소드 오버라이딩\n",
    "    def pay(self, amount) :\n",
    "        if self.balance >= amount :\n",
    "            self.balance -= amount\n",
    "            print(f'포인트가 {amount}만큼 차감되었습니다.')\n",
    "            print('결제 완료')\n",
    "        else :\n",
    "            print(f'포인트가 부족합니다.')\n",
    "\n",
    "### 추가해보기\n",
    "\n",
    "class AccountPay(PaymentMethod) :\n",
    "    def __init__(self, bank_name, account_number) :\n",
    "        self.bank_name = bank_name\n",
    "        self.account_number = account_number\n",
    "\n",
    "    # 부모클래스의 pay 메소드 오버라이딩\n",
    "    def pay(self, amount) :\n",
    "        print(f'{self.bank_name}은행 {self.account_number} 계좌로 {amount:,}원 결제합니다.')\n",
    "        # 서버 결제 요청\n",
    "        print('결제 완료')"
   ]
  },
  {
   "cell_type": "code",
   "execution_count": 103,
   "id": "52783521",
   "metadata": {},
   "outputs": [],
   "source": [
    "def process_payment(payment_method, amount) :\n",
    "    payment_method.pay(amount)\n",
    "\n",
    "card_obj = CreditCard('1111-2222-3344-5678', 123)\n",
    "point_obj = PointWallet(50000)\n",
    "account_obj = AccountPay('신한', '110-110-111111')"
   ]
  },
  {
   "cell_type": "code",
   "execution_count": 95,
   "id": "50bec8d6",
   "metadata": {},
   "outputs": [
    {
     "name": "stdout",
     "output_type": "stream",
     "text": [
      "1111-2222-3344-5678 카드로 5,000원 결제합니다.\n",
      "결제 완료\n",
      "\n",
      "포인트가 40000만큼 차감되었습니다.\n",
      "결제 완료\n",
      "\n",
      "포인트가 부족합니다.\n",
      "\n",
      "신한은행 110-110-111111 계좌로 50,000원 결제합니다.\n",
      "결제 완료\n"
     ]
    }
   ],
   "source": [
    "process_payment(card_obj, 5000)\n",
    "print()\n",
    "process_payment(point_obj, 40000)\n",
    "print()\n",
    "process_payment(point_obj, 50000)\n",
    "print()\n",
    "process_payment(account_obj, 50000)"
   ]
  }
 ],
 "metadata": {
  "kernelspec": {
   "display_name": "Python 3",
   "language": "python",
   "name": "python3"
  },
  "language_info": {
   "codemirror_mode": {
    "name": "ipython",
    "version": 3
   },
   "file_extension": ".py",
   "mimetype": "text/x-python",
   "name": "python",
   "nbconvert_exporter": "python",
   "pygments_lexer": "ipython3",
   "version": "3.11.8"
  }
 },
 "nbformat": 4,
 "nbformat_minor": 5
}
