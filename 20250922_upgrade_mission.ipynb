{
 "cells": [
  {
   "cell_type": "markdown",
   "id": "65a61c39",
   "metadata": {},
   "source": [
    "## -- 업그레이드 미션 12-2 --\n",
    "\n",
    "##### 지민이는 햄버거 가게에서 아르바이트를 합니다.  \n",
    "\n",
    "아래서부터, 빵 – 야채 – 고기 - 빵으로 쌓인 햄버거만 포장할수 있으면 재료는 순서대로 하나씩 들어와 쌓입니다.  \n",
    "\n",
    "재료의 순서가 [야채, 빵, 빵, 야채, 고기, 빵, 야채, 고기, 빵]일 때, 지민이는 여섯 번째 재료가 쌓였을 때, 세 번째 재료부터 여섯 번째 재료를 이용하여 햄버거를 포장하고, 아홉 번째 재료가 쌓였을 때, 두 번째 재료와 일곱 번째 재료부터 아홉 번째 재료를 이용하여 햄버거를 포장합니다. 즉, 2개의 햄버거를 포장하게 됩니다. \n",
    "\n",
    " \n",
    "\n",
    "ingredient의 원소는 1, 2, 3 중 하나의 값이며, 순서대로 빵, 야채, 고기를 의미합니다. \n",
    "\n",
    " \n",
    "\n",
    "입출력 예 \n",
    "\n",
    "ingredient                      result \n",
    "\n",
    "[2, 1, 1, 2, 3, 1, 2, 3, 1]     2 \n",
    "\n",
    "[1, 3, 2, 1, 2, 1, 3, 1, 2]     0 \n",
    "\n",
    "코드를 작성해주세요 "
   ]
  },
  {
   "cell_type": "code",
   "execution_count": null,
   "id": "5a1f1eb3",
   "metadata": {},
   "outputs": [
    {
     "name": "stdout",
     "output_type": "stream",
     "text": [
      "12,345,600원\n"
     ]
    }
   ],
   "source": [
    "pay = 12345678\n",
    "\n",
    "\n",
    "print(f'{int((pay / 100)) * 100:,}원')"
   ]
  },
  {
   "cell_type": "markdown",
   "id": "3b9a271e",
   "metadata": {},
   "source": [
    "<hr>\n",
    "\n",
    "## -- 업그레이드 미션 2 --\n",
    "\n",
    "### TODO: 변수 a에 저장된 값의 b자리 값을 계산하여\t 변수 c에 저장하는 코드를 설계하라  \n",
    "\n",
    "##### 예를 들어 a에 1234가 저장되어 있고 b가 1일 경우 첫 번째 자리값인 4가 c에 저장된다.  \n",
    "\n",
    "##### a가 1234일때 b가 4일 경우는 4번째 자리값인 1이 c에 저장되어야 한다.  "
   ]
  },
  {
   "cell_type": "code",
   "execution_count": null,
   "id": "f7b9336b",
   "metadata": {},
   "outputs": [
    {
     "name": "stdout",
     "output_type": "stream",
     "text": [
      "숫자 1234의 1번째 자리의 수는 4\n",
      "\n",
      "각 자릿수 전체출력\n",
      "\n",
      "숫자 1234의 1의자리 수는 4\n",
      "숫자 1234의 10의자리 수는 3\n",
      "숫자 1234의 100의자리 수는 2\n",
      "숫자 1234의 1000의자리 수는 1\n"
     ]
    }
   ],
   "source": [
    "a = 1234\n",
    "b = 1\n",
    "\n",
    "c = (a % (10 ** b)) // (10 ** (b - 1))\n",
    "\n",
    "print(f'숫자 {a}의 {b}번째 자리의 수는 {c}')\n",
    "\n",
    "print('\\n각 자릿수 전체출력\\n')\n",
    "\n",
    "for b in range(1,5) :\n",
    "    c = (a % (10 ** b)) // (10 ** (b - 1))\n",
    "    print(f'숫자 {a}의 {10 ** (b - 1)}의자리 수는 {c}')\n"
   ]
  }
 ],
 "metadata": {
  "kernelspec": {
   "display_name": "Python 3",
   "language": "python",
   "name": "python3"
  },
  "language_info": {
   "codemirror_mode": {
    "name": "ipython",
    "version": 3
   },
   "file_extension": ".py",
   "mimetype": "text/x-python",
   "name": "python",
   "nbconvert_exporter": "python",
   "pygments_lexer": "ipython3",
   "version": "3.11.8"
  }
 },
 "nbformat": 4,
 "nbformat_minor": 5
}
