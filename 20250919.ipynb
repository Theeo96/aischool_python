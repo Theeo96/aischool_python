{
 "cells": [
  {
   "cell_type": "markdown",
   "id": "2ad0e8c7",
   "metadata": {},
   "source": [
    "# 2025-09-19"
   ]
  },
  {
   "cell_type": "markdown",
   "id": "82847eb7",
   "metadata": {},
   "source": [
    "## 9/19 수업 코드"
   ]
  },
  {
   "cell_type": "code",
   "execution_count": 50,
   "id": "076fb955",
   "metadata": {},
   "outputs": [
    {
     "name": "stdout",
     "output_type": "stream",
     "text": [
      "python need interpreter\n",
      "  perl need interpreter\n",
      "     c need compiler\n",
      "  java need compiler\n"
     ]
    }
   ],
   "source": [
    "languages = ['python', 'perl', 'c', 'java']\n",
    "\n",
    "for lang in languages :\n",
    "    if lang in ['python' ,'perl'] :\n",
    "        print(\"%6s need interpreter\" % lang)\n",
    "    elif lang in ['c', 'java'] :\n",
    "        print(\"%6s need compiler\" % lang)\n",
    "    else :\n",
    "        print(\"should not reach here\")"
   ]
  },
  {
   "cell_type": "markdown",
   "id": "d1d0cfe0",
   "metadata": {},
   "source": [
    "## 9/19 실습 코드"
   ]
  },
  {
   "cell_type": "code",
   "execution_count": 51,
   "id": "d156bb16",
   "metadata": {},
   "outputs": [
    {
     "name": "stdout",
     "output_type": "stream",
     "text": [
      "파이썬 시작\n"
     ]
    }
   ],
   "source": [
    "print(\"파이썬 시작\")"
   ]
  },
  {
   "cell_type": "markdown",
   "id": "7074ab27",
   "metadata": {},
   "source": [
    "#### Python은 단일문자도 문자열과 같은 자료형을 사용함"
   ]
  },
  {
   "cell_type": "code",
   "execution_count": 52,
   "id": "468009d1",
   "metadata": {},
   "outputs": [
    {
     "name": "stdout",
     "output_type": "stream",
     "text": [
      "<class 'str'>\n",
      "<class 'str'>\n",
      "<class 'int'>\n",
      "<class 'float'>\n",
      "<class 'bool'>\n"
     ]
    }
   ],
   "source": [
    "print(type(\"A\"))\n",
    "print(type(\"Hello\"))\n",
    "print(type(3))\n",
    "print(type(3.5))\n",
    "print(type(True))"
   ]
  },
  {
   "cell_type": "markdown",
   "id": "43db09f0",
   "metadata": {},
   "source": [
    "#### Jupyter 환경은 아무 코드도 입력하지 않은 문자열을 작성 시 해당 내용을 출력해줌\n",
    "##### 이 특징으로 type 등 무언가를 체크할 때 print 를 굳이 안쓰고 바로 출력물을 볼 수 있음\n",
    "##### (대신 여러줄 코드에서 굳이 활용하기보다는 단일줄 코드에 동작이 있다 정도를 알아만 두기)"
   ]
  },
  {
   "cell_type": "code",
   "execution_count": 53,
   "id": "49f6f70d",
   "metadata": {},
   "outputs": [
    {
     "data": {
      "text/plain": [
       "'hello'"
      ]
     },
     "execution_count": 53,
     "metadata": {},
     "output_type": "execute_result"
    }
   ],
   "source": [
    "'hello'"
   ]
  },
  {
   "cell_type": "markdown",
   "id": "4596e37d",
   "metadata": {},
   "source": [
    "#### 변수 선언 및 확인\n",
    "##### 변수는 값들을 저장공간에 넣어서 사용하는 구조로서 특정 값에 대한 일괄적인 삽입, 수정 및 삭제가 용이함"
   ]
  },
  {
   "cell_type": "code",
   "execution_count": 54,
   "id": "155f3b9d",
   "metadata": {},
   "outputs": [
    {
     "name": "stdout",
     "output_type": "stream",
     "text": [
      "안녕하세요\n",
      "10\n",
      "<class 'int'>\n"
     ]
    }
   ],
   "source": [
    "sample_str = \"안녕하세요\"\n",
    "sample_int = 10\n",
    "sample_int_to_float = 100\n",
    "print(sample_str)\n",
    "print(sample_int)\n",
    "print(type(sample_int_to_float))"
   ]
  },
  {
   "cell_type": "code",
   "execution_count": 55,
   "id": "af03dba4",
   "metadata": {},
   "outputs": [
    {
     "name": "stdout",
     "output_type": "stream",
     "text": [
      "반갑습니다\n",
      "5\n"
     ]
    }
   ],
   "source": [
    "sample_str = \"반갑습니다\"\n",
    "sample_int = 5\n",
    "print(sample_str)\n",
    "print(sample_int)"
   ]
  },
  {
   "cell_type": "code",
   "execution_count": 56,
   "id": "24fc2e4f",
   "metadata": {},
   "outputs": [
    {
     "name": "stdout",
     "output_type": "stream",
     "text": [
      "반갑습니다요\n",
      "30\n",
      "<class 'float'>\n"
     ]
    }
   ],
   "source": [
    "sample_str = sample_str + \"요\"\n",
    "sample_int = sample_int + 25\n",
    "sample_int_to_float = sample_int_to_float + 0.5\n",
    "print(sample_str)\n",
    "print(sample_int)\n",
    "print(type(sample_int_to_float))"
   ]
  },
  {
   "cell_type": "code",
   "execution_count": 57,
   "id": "8cfb1104",
   "metadata": {},
   "outputs": [
    {
     "name": "stdout",
     "output_type": "stream",
     "text": [
      "<class 'str'>\n",
      "<class 'int'>\n"
     ]
    }
   ],
   "source": [
    "print(type(sample_str))\n",
    "print(type(sample_int))"
   ]
  },
  {
   "cell_type": "markdown",
   "id": "39a02585",
   "metadata": {},
   "source": [
    "##### 연산자\n",
    "##### +, -, *, /, //, %, **\n",
    "##### 각각 덧셈, 뺄셈, 곱셈, 나눗셈, 나눈 몫 출력, 나눈 나머지 출력, 지수연산"
   ]
  },
  {
   "cell_type": "code",
   "execution_count": 58,
   "id": "04b79e09",
   "metadata": {},
   "outputs": [
    {
     "name": "stdout",
     "output_type": "stream",
     "text": [
      "a 더하기 b 는 18\n",
      "a 빼기 b 는 8\n",
      "a 곱하기 b 는 65\n",
      "a 나누기 b 는 2.6\n",
      "a 를 b 로 나눈 몫은 2\n",
      "a 를 b 로 나눈 나머지는 3\n",
      "a 의 b 승은 371293\n"
     ]
    }
   ],
   "source": [
    "a = 13\n",
    "b = 5\n",
    "print(f'a 더하기 b 는 {a + b}')\n",
    "print(f'a 빼기 b 는 {a - b}')\n",
    "print(f'a 곱하기 b 는 {a * b}')\n",
    "print(f'a 나누기 b 는 {a / b}')\n",
    "print(f'a 를 b 로 나눈 몫은 {a // b}')\n",
    "print(f'a 를 b 로 나눈 나머지는 {a % b}')\n",
    "print(f'a 의 b 승은 {a ** b}')"
   ]
  },
  {
   "cell_type": "markdown",
   "id": "fcd02fd7",
   "metadata": {},
   "source": [
    "##### 자료형이 다른 변수들의 연산 (+ 반복출력)"
   ]
  },
  {
   "cell_type": "code",
   "execution_count": 59,
   "id": "807eb09d",
   "metadata": {},
   "outputs": [
    {
     "name": "stdout",
     "output_type": "stream",
     "text": [
      "문자열추가\n",
      "문자열문자열문자열문자열문자열문자열문자열문자열문자열문자열\n",
      "문자열문자열문자열문자열문자열문자열문자열문자열문자열문자열\n"
     ]
    }
   ],
   "source": [
    "str1 = \"문자열\"\n",
    "str2 = \"추가\"\n",
    "num1 = 10\n",
    "\n",
    "print(str1 + str2)\n",
    "print(str1 * num1)\n",
    "print(num1 * str1)\n",
    "\n",
    "\n",
    "# 해당 코드 실행 시 에러. 동작불가\n",
    "# print(str1+num1)\n"
   ]
  },
  {
   "cell_type": "markdown",
   "id": "9c8d1cc4",
   "metadata": {},
   "source": [
    "##### 비교연산자\n",
    "##### '=' 표시는 값 대입\n",
    "##### '==' = 같다\n",
    "##### '!=' = 다르다\n",
    "##### '>' = 크다\n",
    "##### '<' = 작다\n",
    "##### '>=' = 크거나 같다\n",
    "##### '<=' = 작거나 같다"
   ]
  },
  {
   "cell_type": "code",
   "execution_count": 60,
   "id": "759c930f",
   "metadata": {},
   "outputs": [
    {
     "name": "stdout",
     "output_type": "stream",
     "text": [
      "3은 3과 같은가? -> True\n",
      "3은 3과 다른가? -> False\n",
      "4는 3보다 큰가? -> True\n",
      "5는 8보다 작은가? -> True\n",
      "4는 4보다 크거나 같나? -> True\n",
      "7은 7보다 크거나 작나? -> True\n"
     ]
    }
   ],
   "source": [
    "print(f'3은 3과 같은가? -> { 3 == 3 }')\n",
    "print(f'3은 3과 다른가? -> { 3 != 3 }')\n",
    "print(f'4는 3보다 큰가? -> { 4 > 3 }')\n",
    "print(f'5는 8보다 작은가? -> { 5 < 8 }')\n",
    "print(f'4는 4보다 크거나 같나? -> { 4 >= 4 }')\n",
    "print(f'7은 7보다 크거나 작나? -> { 7 <= 7 }')"
   ]
  },
  {
   "cell_type": "markdown",
   "id": "67d3bce3",
   "metadata": {},
   "source": [
    "##### (문자열 붙이기 연산 시 띄어쓰기 삽입하는 팁)"
   ]
  },
  {
   "cell_type": "code",
   "execution_count": 61,
   "id": "6d309e85",
   "metadata": {},
   "outputs": [
    {
     "name": "stdout",
     "output_type": "stream",
     "text": [
      "Hello World\n",
      "Hello World\n"
     ]
    }
   ],
   "source": [
    "str1 = \"Hello\"\n",
    "str2 = \"World\"\n",
    "\n",
    "print(str1 + \" \" + str2)\n",
    "print(str1, str2)"
   ]
  },
  {
   "cell_type": "markdown",
   "id": "53de9f5b",
   "metadata": {},
   "source": []
  }
 ],
 "metadata": {
  "kernelspec": {
   "display_name": "Python 3",
   "language": "python",
   "name": "python3"
  },
  "language_info": {
   "codemirror_mode": {
    "name": "ipython",
    "version": 3
   },
   "file_extension": ".py",
   "mimetype": "text/x-python",
   "name": "python",
   "nbconvert_exporter": "python",
   "pygments_lexer": "ipython3",
   "version": "3.11.8"
  }
 },
 "nbformat": 4,
 "nbformat_minor": 5
}
