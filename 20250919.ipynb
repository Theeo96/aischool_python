{
 "cells": [
  {
   "cell_type": "markdown",
   "id": "2ad0e8c7",
   "metadata": {},
   "source": [
    "# 2025-09-19"
   ]
  },
  {
   "cell_type": "markdown",
   "id": "82847eb7",
   "metadata": {},
   "source": [
    "## 9/19 수업 코드"
   ]
  },
  {
   "cell_type": "code",
   "execution_count": 50,
   "id": "076fb955",
   "metadata": {},
   "outputs": [
    {
     "name": "stdout",
     "output_type": "stream",
     "text": [
      "python need interpreter\n",
      "  perl need interpreter\n",
      "     c need compiler\n",
      "  java need compiler\n"
     ]
    }
   ],
   "source": [
    "languages = ['python', 'perl', 'c', 'java']\n",
    "\n",
    "for lang in languages :\n",
    "    if lang in ['python' ,'perl'] :\n",
    "        print(\"%6s need interpreter\" % lang)\n",
    "    elif lang in ['c', 'java'] :\n",
    "        print(\"%6s need compiler\" % lang)\n",
    "    else :\n",
    "        print(\"should not reach here\")"
   ]
  },
  {
   "cell_type": "markdown",
   "id": "d1d0cfe0",
   "metadata": {},
   "source": [
    "## 9/19 실습 코드"
   ]
  },
  {
   "cell_type": "code",
   "execution_count": 51,
   "id": "d156bb16",
   "metadata": {},
   "outputs": [
    {
     "name": "stdout",
     "output_type": "stream",
     "text": [
      "파이썬 시작\n"
     ]
    }
   ],
   "source": [
    "print(\"파이썬 시작\")"
   ]
  },
  {
   "cell_type": "markdown",
   "id": "7074ab27",
   "metadata": {},
   "source": [
    "#### Python은 단일문자도 문자열과 같은 자료형을 사용함"
   ]
  },
  {
   "cell_type": "code",
   "execution_count": 52,
   "id": "468009d1",
   "metadata": {},
   "outputs": [
    {
     "name": "stdout",
     "output_type": "stream",
     "text": [
      "<class 'str'>\n",
      "<class 'str'>\n",
      "<class 'int'>\n",
      "<class 'float'>\n",
      "<class 'bool'>\n"
     ]
    }
   ],
   "source": [
    "print(type(\"A\"))\n",
    "print(type(\"Hello\"))\n",
    "print(type(3))\n",
    "print(type(3.5))\n",
    "print(type(True))"
   ]
  },
  {
   "cell_type": "markdown",
   "id": "43db09f0",
   "metadata": {},
   "source": [
    "#### Jupyter 환경은 아무 코드도 입력하지 않은 문자열을 작성 시 해당 내용을 출력해줌\n",
    "##### 이 특징으로 type 등 무언가를 체크할 때 print 를 굳이 안쓰고 바로 출력물을 볼 수 있음\n",
    "##### (대신 여러줄 코드에서 굳이 활용하기보다는 단일줄 코드에 동작이 있다 정도를 알아만 두기)"
   ]
  },
  {
   "cell_type": "code",
   "execution_count": 53,
   "id": "49f6f70d",
   "metadata": {},
   "outputs": [
    {
     "data": {
      "text/plain": [
       "'hello'"
      ]
     },
     "execution_count": 53,
     "metadata": {},
     "output_type": "execute_result"
    }
   ],
   "source": [
    "'hello'"
   ]
  },
  {
   "cell_type": "markdown",
   "id": "4596e37d",
   "metadata": {},
   "source": [
    "#### 변수 선언 및 확인\n",
    "##### 변수는 값들을 저장공간에 넣어서 사용하는 구조로서 특정 값에 대한 일괄적인 삽입, 수정 및 삭제가 용이함"
   ]
  },
  {
   "cell_type": "code",
   "execution_count": 54,
   "id": "155f3b9d",
   "metadata": {},
   "outputs": [
    {
     "name": "stdout",
     "output_type": "stream",
     "text": [
      "안녕하세요\n",
      "10\n",
      "<class 'int'>\n"
     ]
    }
   ],
   "source": [
    "sample_str = \"안녕하세요\"\n",
    "sample_int = 10\n",
    "sample_int_to_float = 100\n",
    "print(sample_str)\n",
    "print(sample_int)\n",
    "print(type(sample_int_to_float))"
   ]
  },
  {
   "cell_type": "code",
   "execution_count": 55,
   "id": "af03dba4",
   "metadata": {},
   "outputs": [
    {
     "name": "stdout",
     "output_type": "stream",
     "text": [
      "반갑습니다\n",
      "5\n"
     ]
    }
   ],
   "source": [
    "sample_str = \"반갑습니다\"\n",
    "sample_int = 5\n",
    "print(sample_str)\n",
    "print(sample_int)"
   ]
  },
  {
   "cell_type": "code",
   "execution_count": 56,
   "id": "24fc2e4f",
   "metadata": {},
   "outputs": [
    {
     "name": "stdout",
     "output_type": "stream",
     "text": [
      "반갑습니다요\n",
      "30\n",
      "<class 'float'>\n"
     ]
    }
   ],
   "source": [
    "sample_str = sample_str + \"요\"\n",
    "sample_int = sample_int + 25\n",
    "sample_int_to_float = sample_int_to_float + 0.5\n",
    "print(sample_str)\n",
    "print(sample_int)\n",
    "print(type(sample_int_to_float))"
   ]
  },
  {
   "cell_type": "code",
   "execution_count": 57,
   "id": "8cfb1104",
   "metadata": {},
   "outputs": [
    {
     "name": "stdout",
     "output_type": "stream",
     "text": [
      "<class 'str'>\n",
      "<class 'int'>\n"
     ]
    }
   ],
   "source": [
    "print(type(sample_str))\n",
    "print(type(sample_int))"
   ]
  },
  {
   "cell_type": "markdown",
   "id": "39a02585",
   "metadata": {},
   "source": [
    "#### 연산자\n",
    "#### +, -, *, /, //, %, **\n",
    "#### 각각 덧셈, 뺄셈, 곱셈, 나눗셈, 나눈 몫 출력, 나눈 나머지 출력, 지수연산"
   ]
  },
  {
   "cell_type": "code",
   "execution_count": 58,
   "id": "04b79e09",
   "metadata": {},
   "outputs": [
    {
     "name": "stdout",
     "output_type": "stream",
     "text": [
      "a 더하기 b 는 18\n",
      "a 빼기 b 는 8\n",
      "a 곱하기 b 는 65\n",
      "a 나누기 b 는 2.6\n",
      "a 를 b 로 나눈 몫은 2\n",
      "a 를 b 로 나눈 나머지는 3\n",
      "a 의 b 승은 371293\n"
     ]
    }
   ],
   "source": [
    "a = 13\n",
    "b = 5\n",
    "print(f'a 더하기 b 는 {a + b}')\n",
    "print(f'a 빼기 b 는 {a - b}')\n",
    "print(f'a 곱하기 b 는 {a * b}')\n",
    "print(f'a 나누기 b 는 {a / b}')\n",
    "print(f'a 를 b 로 나눈 몫은 {a // b}')\n",
    "print(f'a 를 b 로 나눈 나머지는 {a % b}')\n",
    "print(f'a 의 b 승은 {a ** b}')"
   ]
  },
  {
   "cell_type": "markdown",
   "id": "fcd02fd7",
   "metadata": {},
   "source": [
    "#### 자료형이 다른 변수들의 연산 (+ 반복출력)"
   ]
  },
  {
   "cell_type": "code",
   "execution_count": 59,
   "id": "807eb09d",
   "metadata": {},
   "outputs": [
    {
     "name": "stdout",
     "output_type": "stream",
     "text": [
      "문자열추가\n",
      "문자열문자열문자열문자열문자열문자열문자열문자열문자열문자열\n",
      "문자열문자열문자열문자열문자열문자열문자열문자열문자열문자열\n"
     ]
    }
   ],
   "source": [
    "str1 = \"문자열\"\n",
    "str2 = \"추가\"\n",
    "num1 = 10\n",
    "\n",
    "print(str1 + str2)\n",
    "print(str1 * num1)\n",
    "print(num1 * str1)\n",
    "\n",
    "\n",
    "# 해당 코드 실행 시 에러. 동작불가\n",
    "# print(str1+num1)\n"
   ]
  },
  {
   "cell_type": "markdown",
   "id": "9c8d1cc4",
   "metadata": {},
   "source": [
    "#### 비교연산자\n",
    "##### '=' 표시는 값 대입\n",
    "##### '==' = 같다\n",
    "##### '!=' = 다르다\n",
    "##### '>' = 크다\n",
    "##### '<' = 작다\n",
    "##### '>=' = 크거나 같다\n",
    "##### '<=' = 작거나 같다"
   ]
  },
  {
   "cell_type": "code",
   "execution_count": null,
   "id": "759c930f",
   "metadata": {},
   "outputs": [
    {
     "name": "stdout",
     "output_type": "stream",
     "text": [
      "3은 3과 같은가? -> True\n",
      "3은 3과 다른가? -> False\n",
      "4는 3보다 큰가? -> True\n",
      "5는 8보다 작은가? -> True\n",
      "4는 4보다 크거나 같나? -> True\n",
      "7은 7보다 크거나 작나? -> True\n"
     ]
    }
   ],
   "source": [
    "print(f'3은 3과 같은가? -> {3 == 3}')\n",
    "print(f'3은 3과 다른가? -> {3 != 3}')\n",
    "print(f'4는 3보다 큰가? -> {4 > 3}')\n",
    "print(f'5는 8보다 작은가? -> {5 < 8}')\n",
    "print(f'4는 4보다 크거나 같나? -> {4 >= 4}')\n",
    "print(f'7은 7보다 크거나 작나? -> {7 <= 7}')"
   ]
  },
  {
   "cell_type": "markdown",
   "id": "67d3bce3",
   "metadata": {},
   "source": [
    "#### (문자열 붙이기 연산 시 띄어쓰기 삽입하는 팁)"
   ]
  },
  {
   "cell_type": "code",
   "execution_count": 61,
   "id": "6d309e85",
   "metadata": {},
   "outputs": [
    {
     "name": "stdout",
     "output_type": "stream",
     "text": [
      "Hello World\n",
      "Hello World\n"
     ]
    }
   ],
   "source": [
    "str1 = \"Hello\"\n",
    "str2 = \"World\"\n",
    "\n",
    "print(str1 + \" \" + str2)\n",
    "print(str1, str2)"
   ]
  },
  {
   "cell_type": "markdown",
   "id": "cc047f94",
   "metadata": {},
   "source": [
    "#### 입력값 받기"
   ]
  },
  {
   "cell_type": "code",
   "execution_count": 88,
   "id": "3c91ddae",
   "metadata": {},
   "outputs": [
    {
     "name": "stdout",
     "output_type": "stream",
     "text": [
      "입력받은 값은 5\n"
     ]
    }
   ],
   "source": [
    "a = input()\n",
    "print(f'입력받은 값은 {a}')"
   ]
  },
  {
   "cell_type": "markdown",
   "id": "e2e06c41",
   "metadata": {},
   "source": [
    "### (미션) 사용자로부터 숫자 입력을 받아서 +, -, *, / 연산 결과 출력"
   ]
  },
  {
   "cell_type": "code",
   "execution_count": 89,
   "id": "3b1571e2",
   "metadata": {},
   "outputs": [
    {
     "name": "stdout",
     "output_type": "stream",
     "text": [
      "입력된 숫자 : 5, 6\n",
      "5 + 6 = 11\n",
      "5 - 6 = -1\n",
      "5 * 6 = 30\n",
      "5 / 6 = 0.8333333333333334\n"
     ]
    }
   ],
   "source": [
    "a = int(input(\"첫번째 숫자를 입력해주세요\"))\n",
    "b = int(input(\"두번째 숫자를 입력해주세요\"))\n",
    "\n",
    "print(f'입력된 숫자 : {a}, {b}')\n",
    "print(f'{a} + {b} = {a + b}')\n",
    "print(f'{a} - {b} = {a - b}')\n",
    "print(f'{a} * {b} = {a * b}')\n",
    "print(f'{a} / {b} = {a / b}')"
   ]
  },
  {
   "cell_type": "markdown",
   "id": "15e4dd8b",
   "metadata": {},
   "source": [
    "#### 형변환"
   ]
  },
  {
   "cell_type": "code",
   "execution_count": 90,
   "id": "a7f0f0fe",
   "metadata": {},
   "outputs": [
    {
     "name": "stdout",
     "output_type": "stream",
     "text": [
      "<class 'int'>\n",
      "<class 'float'>\n",
      "<class 'str'>\n"
     ]
    }
   ],
   "source": [
    "print(type(int('7')))\n",
    "print(type(float('8')))\n",
    "print(type(str(10)))"
   ]
  },
  {
   "cell_type": "markdown",
   "id": "f44b5344",
   "metadata": {},
   "source": [
    "#### 변수명 작성 시 예약어를 동일하게 사용하면 기존 예약어의 함수참조가 갱신되어 기본값을 사용할 수 없음\n",
    "\n",
    "##### 이 경우, 갱신한 예약어가 내장 기본 명령어일 경우 del int 처럼 할당된 참조를 지워버리면 기본값으로 정상동작됨\n",
    "\n",
    "##### (int 참조를 삭제하는 명령어지만, 기본 참조값인 builtins 는 내장이라 원본 영향 안받고, 참조가 없을시 python 이 기본으로 builtins 를 참조해서 사실상 기본값으로 되돌리는 판정)"
   ]
  },
  {
   "cell_type": "code",
   "execution_count": null,
   "id": "b18a1a7d",
   "metadata": {},
   "outputs": [],
   "source": [
    "# int = 100\n",
    "# print(int('300'))\n",
    "\n",
    "# 위 코드 수행시, int 형변환 동작이 제대로 수행되지 않아 에러\n",
    "\n",
    "# del int\n",
    "\n",
    "# int의 참조가 덮어씌워졌을 시 del을 통해 참조 삭제하여 내장 builtins 의 int 메소드를 다시 참조할 수 있게 만듦 (이는 int 같은 기본 내장 예약어만 해당)"
   ]
  },
  {
   "cell_type": "markdown",
   "id": "4b006f7b",
   "metadata": {},
   "source": [
    "### (미션) 문자열 출력 - '낮말'은 새가 듣고 '밤말'은 쥐가 듣는다."
   ]
  },
  {
   "cell_type": "code",
   "execution_count": 91,
   "id": "6e10532a",
   "metadata": {},
   "outputs": [
    {
     "name": "stdout",
     "output_type": "stream",
     "text": [
      "'낮말'은 새가 듣고 '밤말'은 쥐가 듣는다.\n",
      "'낮말'은 새가 듣고 '밤말'은 쥐가 듣는다.\n",
      "'낮말'은 새가 듣고 '밤말'은 쥐가 듣는다.\n"
     ]
    }
   ],
   "source": [
    "print('\\'낮말\\'은 새가 듣고 \\'밤말\\'은 쥐가 듣는다.')\n",
    "print(\"'낮말'은 새가 듣고 '밤말'은 쥐가 듣는다.\")\n",
    "print(r\"'낮말'은 새가 듣고 '밤말'은 쥐가 듣는다.\")"
   ]
  },
  {
   "cell_type": "markdown",
   "id": "e27d34ef",
   "metadata": {},
   "source": [
    "#### print 기본 end 값이 \\n 인데 이걸 직접 선언해서 마지막부분 처리 바꿔보기\n",
    "#### sep 값을 사용할 경우, 한 print 내에서 구분자로 구분시 출력 동작 지정"
   ]
  },
  {
   "cell_type": "code",
   "execution_count": 98,
   "id": "f089ed64",
   "metadata": {},
   "outputs": [
    {
     "name": "stdout",
     "output_type": "stream",
     "text": [
      "HelloHello Hello and Hello then Hello\n",
      "End\n",
      "Hello, Hello, Hello, Hello, Hello finish"
     ]
    }
   ],
   "source": [
    "print(\"Hello\", end=\"\")\n",
    "print(\"Hello\", end=\" \")\n",
    "print(\"Hello\", end=\" and \")\n",
    "print(\"Hello\", end=\" then \")\n",
    "print(\"Hello\")\n",
    "print(\"End\")\n",
    "\n",
    "print(\"Hello\",\"Hello\",\"Hello\",\"Hello\",\"Hello\", end=\" finish\", sep=\", \")"
   ]
  },
  {
   "cell_type": "markdown",
   "id": "81c33d1b",
   "metadata": {},
   "source": [
    "#### f-string 설명 - formatted string으로, 따옴표 안에 변수 및 변수연산값을 직접 기입하여 출력코드를 직관적으로 작성할 수 있음\n",
    "\n",
    "#### (+ 서식지정자 활용 가능)"
   ]
  },
  {
   "cell_type": "code",
   "execution_count": 100,
   "id": "9b278d82",
   "metadata": {},
   "outputs": [
    {
     "name": "stdout",
     "output_type": "stream",
     "text": [
      "5는 3보다 크거나 같나? -> True\n"
     ]
    }
   ],
   "source": [
    "a = 5\n",
    "b = 3\n",
    "print(f'{a}는 {b}보다 크거나 같나? -> {a >= b}')"
   ]
  },
  {
   "cell_type": "code",
   "execution_count": 105,
   "id": "3580813a",
   "metadata": {},
   "outputs": [
    {
     "name": "stdout",
     "output_type": "stream",
     "text": [
      "3.46\n"
     ]
    }
   ],
   "source": [
    "# 서식지정자 활용\n",
    "print(f'{3.456:.2f}')"
   ]
  },
  {
   "cell_type": "markdown",
   "id": "8ba3d2b1",
   "metadata": {},
   "source": [
    "### 분식집 주문 프로그램 오전 미션"
   ]
  },
  {
   "cell_type": "code",
   "execution_count": 143,
   "id": "e9dc6469",
   "metadata": {},
   "outputs": [
    {
     "name": "stdout",
     "output_type": "stream",
     "text": [
      "김밥 주문 수   : 3개\n",
      "떡볶이 주문 수 : 4개\n",
      "라면 주문 수   : 5개\n",
      "지불할 총 금액 : 35,500원\n"
     ]
    }
   ],
   "source": [
    "kim_price = 3000\n",
    "tteok_price = 3500\n",
    "ramyeon_price = 2500\n",
    "\n",
    "kim_num = int(input(\"주문할 김밥 갯수: \"))\n",
    "tteok_num = int(input(\"주문할 떡볶이 갯수: \"))\n",
    "ramyeon_num = int(input(\"주문할 라면 갯수: \"))\n",
    "\n",
    "print(f'{\"김밥 주문 수\":<9} : {kim_num}개')\n",
    "print(f'{\"떡볶이 주문 수 \":<8}: {tteok_num}개')\n",
    "print(f'{\"라면 주문 수\":<9} : {ramyeon_num}개')\n",
    "\n",
    "total_price = (kim_num * kim_price) + (tteok_num * tteok_price) + (ramyeon_num * ramyeon_price)\n",
    "\n",
    "print(f'{\"지불할 총 금액 \":<8}: {total_price:,}원')\n"
   ]
  },
  {
   "cell_type": "markdown",
   "id": "f29641e0",
   "metadata": {},
   "source": [
    "#### 조건문\n",
    "\n",
    "##### if 조건문 :"
   ]
  },
  {
   "cell_type": "code",
   "execution_count": 145,
   "id": "b73059d3",
   "metadata": {},
   "outputs": [
    {
     "name": "stdout",
     "output_type": "stream",
     "text": [
      "스테이크를 먹는다\n",
      "조건이 참인 조건문 종료\n",
      "조건이 거짓인 조건문 종료\n"
     ]
    }
   ],
   "source": [
    "money = True\n",
    "\n",
    "if money : \n",
    "    print('스테이크를 먹는다')\n",
    "\n",
    "print('조건이 참인 조건문 종료')\n",
    "\n",
    "money = False\n",
    "\n",
    "if money : \n",
    "    print('스테이크를 먹는다')\n",
    "\n",
    "print('조건이 거짓인 조건문 종료')"
   ]
  },
  {
   "cell_type": "markdown",
   "id": "3b29c0da",
   "metadata": {},
   "source": [
    "### 홀수 짝수 구분 조건문"
   ]
  },
  {
   "cell_type": "code",
   "execution_count": 150,
   "id": "23035635",
   "metadata": {},
   "outputs": [
    {
     "name": "stdout",
     "output_type": "stream",
     "text": [
      "숫자 \"4\"의 구분은 짝수입니다.\n"
     ]
    }
   ],
   "source": [
    "num = int(input(\"숫자를 입력하세요\"))\n",
    "\n",
    "if num%2 == 0 :\n",
    "    print(f'숫자 \"{num}\"의 구분은 짝수입니다.')\n",
    "else :\n",
    "    print(f'숫자 \"{num}\"의 구분은 홀수입니다.')"
   ]
  },
  {
   "cell_type": "markdown",
   "id": "4a7b07a8",
   "metadata": {},
   "source": [
    "### 점수 등급 구별 조건문"
   ]
  },
  {
   "cell_type": "code",
   "execution_count": 158,
   "id": "822bfd3c",
   "metadata": {},
   "outputs": [
    {
     "name": "stdout",
     "output_type": "stream",
     "text": [
      "현재 점수 : 71\n",
      "점수 등급 : C\n"
     ]
    }
   ],
   "source": [
    "score = int(input(\"점수를 입력하세요\"))\n",
    "\n",
    "print(f'현재 점수 : {score}')\n",
    "print(f'점수 등급 : ', end='')\n",
    "\n",
    "if score >= 90 :\n",
    "    print(\"A\")\n",
    "elif score >= 80 :\n",
    "    print(\"B\")\n",
    "elif score >= 70 :\n",
    "    print(\"C\")\n",
    "elif score >= 60 :\n",
    "    print(\"D\")\n",
    "else :\n",
    "    print(\"F\")"
   ]
  },
  {
   "cell_type": "markdown",
   "id": "a88d0500",
   "metadata": {},
   "source": [
    "#### 반복문\n",
    "\n",
    "##### for 변수 in 이터러블 :"
   ]
  },
  {
   "cell_type": "code",
   "execution_count": 169,
   "id": "30a1bc9c",
   "metadata": {},
   "outputs": [
    {
     "name": "stdout",
     "output_type": "stream",
     "text": [
      "0 1 2 3 4 5 6 7 8 9 \n",
      "\n",
      "1 2 3 4 5 6 7 8 9 10 \n",
      "\n",
      "1 2 3 4 5 6 7 8 9 10 \n",
      "\n",
      "1 3 5 7 9 \n",
      "\n",
      "10 9 8 7 6 5 4 3 2 1 \n",
      "\n",
      "50 45 40 35 30 25 20 15 10 5 \n",
      "\n",
      "1번째 Hello\n",
      "2번째 Hello\n",
      "3번째 Hello\n",
      "4번째 Hello\n",
      "5번째 Hello\n",
      "6번째 Hello\n",
      "7번째 Hello\n",
      "8번째 Hello\n",
      "9번째 Hello\n",
      "10번째 Hello\n"
     ]
    }
   ],
   "source": [
    "for i in range(10) :\n",
    "    print(i, end=' ')\n",
    "\n",
    "print(\"\\n\")\n",
    "\n",
    "for i in range(10) :\n",
    "    print(i+1, end=' ')\n",
    "\n",
    "print(\"\\n\")\n",
    "\n",
    "for i in range(1,11) :\n",
    "    print(i, end=' ')\n",
    "\n",
    "print(\"\\n\")\n",
    "\n",
    "for i in range(1,11,2) :\n",
    "    print(i, end=' ')\n",
    "\n",
    "print(\"\\n\")\n",
    "\n",
    "for i in range(10,0,-1) :\n",
    "    print(i, end=' ')\n",
    "    \n",
    "print(\"\\n\")\n",
    "\n",
    "for i in range(50,0,-5) :\n",
    "    print(i, end=' ')\n",
    "\n",
    "print(\"\\n\")\n",
    "\n",
    "for i in range(10) :\n",
    "    print(f'{i+1}번째 Hello')"
   ]
  },
  {
   "cell_type": "markdown",
   "id": "fca7bba6",
   "metadata": {},
   "source": [
    "### for문 반복문 예제 연습"
   ]
  },
  {
   "cell_type": "code",
   "execution_count": 192,
   "id": "dfceb4a1",
   "metadata": {},
   "outputs": [
    {
     "name": "stdout",
     "output_type": "stream",
     "text": [
      "1부터 10까지의 합 = 55\n"
     ]
    }
   ],
   "source": [
    "sum = 0\n",
    "\n",
    "for i in range(1,11) :\n",
    "    sum += i\n",
    "\n",
    "print(f'1부터 10까지의 합 = {sum}')"
   ]
  },
  {
   "cell_type": "code",
   "execution_count": 193,
   "id": "631f1dc7",
   "metadata": {},
   "outputs": [
    {
     "name": "stdout",
     "output_type": "stream",
     "text": [
      "1부터 10까지의 곱 = 3,628,800\n"
     ]
    }
   ],
   "source": [
    "total = 1\n",
    "\n",
    "for i in range(1,11) :\n",
    "    total *= i\n",
    "\n",
    "print(f'1부터 10까지의 곱 = {total:,}')"
   ]
  },
  {
   "cell_type": "code",
   "execution_count": 195,
   "id": "31234eec",
   "metadata": {},
   "outputs": [
    {
     "name": "stdout",
     "output_type": "stream",
     "text": [
      "구구단 7단 출력\n",
      "\n",
      "7 X 1 = 7\n",
      "7 X 2 = 14\n",
      "7 X 3 = 21\n",
      "7 X 4 = 28\n",
      "7 X 5 = 35\n",
      "7 X 6 = 42\n",
      "7 X 7 = 49\n",
      "7 X 8 = 56\n",
      "7 X 9 = 63\n"
     ]
    }
   ],
   "source": [
    "num = int(input(\"숫자를 하나 입력해주세요\"))\n",
    "\n",
    "print(f'구구단 {num}단 출력\\n')\n",
    "\n",
    "for i in range(1,10) :\n",
    "    print(f'{num} X {i} = {num * i}')\n"
   ]
  },
  {
   "cell_type": "markdown",
   "id": "404080ab",
   "metadata": {},
   "source": [
    "### while문 반복문"
   ]
  },
  {
   "cell_type": "code",
   "execution_count": 200,
   "id": "2c56f797",
   "metadata": {},
   "outputs": [
    {
     "name": "stdout",
     "output_type": "stream",
     "text": [
      "1번째 Hello\n",
      "2번째 Hello\n",
      "3번째 Hello\n",
      "4번째 Hello\n",
      "5번째 Hello\n"
     ]
    }
   ],
   "source": [
    "i = 1\n",
    "\n",
    "while i <= 5 :\n",
    "    print(f'{i}번째 Hello')\n",
    "    i += 1"
   ]
  },
  {
   "cell_type": "markdown",
   "id": "27fe8946",
   "metadata": {},
   "source": [
    "### while문 반복문 예제 연습"
   ]
  },
  {
   "cell_type": "code",
   "execution_count": 233,
   "id": "3767d687",
   "metadata": {},
   "outputs": [
    {
     "name": "stdout",
     "output_type": "stream",
     "text": [
      "1부터 6까지의 숫자 합은 21\n"
     ]
    }
   ],
   "source": [
    "num = int(input(\"정수를 입력하세요\"))\n",
    "temp = num\n",
    "sum = 0\n",
    "\n",
    "while temp > 0 :\n",
    "    sum += temp\n",
    "    temp -= 1\n",
    "\n",
    "print (f'1부터 {num}까지의 숫자 합은 {sum:,}')\n"
   ]
  },
  {
   "cell_type": "code",
   "execution_count": 234,
   "id": "789be84d",
   "metadata": {},
   "outputs": [
    {
     "name": "stdout",
     "output_type": "stream",
     "text": [
      "1부터 7까지 숫자들의 곱은 5,040\n"
     ]
    }
   ],
   "source": [
    "num = int(input(\"정수를 입력하세요\"))\n",
    "temp = num\n",
    "total = 1\n",
    "\n",
    "while temp > 0 :\n",
    "    total *= temp\n",
    "    temp -= 1\n",
    "\n",
    "print (f'1부터 {num}까지 숫자들의 곱은 {total:,}')\n"
   ]
  },
  {
   "cell_type": "code",
   "execution_count": 235,
   "id": "21f5a0c8",
   "metadata": {},
   "outputs": [
    {
     "name": "stdout",
     "output_type": "stream",
     "text": [
      "구구단 8단 출력\n",
      "\n",
      "8 X 1 = 8\n",
      "8 X 2 = 16\n",
      "8 X 3 = 24\n",
      "8 X 4 = 32\n",
      "8 X 5 = 40\n",
      "8 X 6 = 48\n",
      "8 X 7 = 56\n",
      "8 X 8 = 64\n",
      "8 X 9 = 72\n"
     ]
    }
   ],
   "source": [
    "num = int(input(\"숫자를 하나 입력해주세요\"))\n",
    "i = 1\n",
    "\n",
    "print(f'구구단 {num}단 출력\\n')\n",
    "\n",
    "while i < 10 :\n",
    "    print(f'{num} X {i} = {num * i}')\n",
    "    i += 1\n"
   ]
  },
  {
   "cell_type": "markdown",
   "id": "a0cace13",
   "metadata": {},
   "source": [
    "### prompt 형식을 예제로, while문 을 이용한 제어 예제"
   ]
  },
  {
   "cell_type": "code",
   "execution_count": 4,
   "id": "64155836",
   "metadata": {},
   "outputs": [
    {
     "name": "stdout",
     "output_type": "stream",
     "text": [
      "\n",
      "1. Add\n",
      "2. Del\n",
      "3. List\n",
      "4. Quit\n",
      "\n",
      "Enter number : \n"
     ]
    }
   ],
   "source": [
    "prompt = \"\"\"\n",
    "1. Add\n",
    "2. Del\n",
    "3. List\n",
    "4. Quit\n",
    "\n",
    "Enter number : \"\"\"\n",
    "number = 0\n",
    "\n",
    "while number != 4 :\n",
    "    print(prompt)\n",
    "    number = int(input(\"원하는 메뉴의 번호를 입력하세요: \"))\n"
   ]
  },
  {
   "cell_type": "markdown",
   "id": "92fb1477",
   "metadata": {},
   "source": [
    "### break, continue "
   ]
  },
  {
   "cell_type": "code",
   "execution_count": 14,
   "id": "3570a486",
   "metadata": {},
   "outputs": [
    {
     "name": "stdout",
     "output_type": "stream",
     "text": [
      "합계가 20이 넘어갈 당시의 정수값은 6, 합계는 21 입니다\n"
     ]
    }
   ],
   "source": [
    "sum = 0\n",
    "\n",
    "for i in range(1, 11) :\n",
    "    sum += i\n",
    "\n",
    "    if sum >= 20 :\n",
    "        print(f'합계가 20이 넘어갈 당시의 정수값은 {i}, 합계는 {sum} 입니다')\n",
    "        break"
   ]
  },
  {
   "cell_type": "code",
   "execution_count": 17,
   "id": "6c3e669d",
   "metadata": {},
   "outputs": [
    {
     "name": "stdout",
     "output_type": "stream",
     "text": [
      "1 2 4 5 7 8 \n",
      "\n",
      "1 2 4 5 7 8 "
     ]
    }
   ],
   "source": [
    "for i in range(10) :\n",
    "    if i%3!=0 :\n",
    "        print(i, end=\" \")\n",
    "\n",
    "print(\"\\n\")\n",
    "\n",
    "for i in range(10) :\n",
    "    if i%3==0 :\n",
    "        continue\n",
    "    print(i, end=\" \")"
   ]
  },
  {
   "cell_type": "markdown",
   "id": "3100fda5",
   "metadata": {},
   "source": [
    "### 숫자 맞추기 게임 예제"
   ]
  },
  {
   "cell_type": "code",
   "execution_count": null,
   "id": "0f271913",
   "metadata": {},
   "outputs": [
    {
     "name": "stdout",
     "output_type": "stream",
     "text": [
      "숫자 맞추기 게임입니다. 1부터 100사이에 있는 정답 숫자를 맞춰보세요!\n",
      "\n",
      "틀렸습니다! 정답 숫자는 입력하신 숫자 50 보다 작습니다!\n",
      "틀렸습니다! 정답 숫자는 입력하신 숫자 25 보다 큽니다!\n",
      "틀렸습니다! 정답 숫자는 입력하신 숫자 33 보다 큽니다!\n",
      "틀렸습니다! 정답 숫자는 입력하신 숫자 39 보다 큽니다!\n",
      "\n",
      "맞추셨습니다! 정답 숫자는 42 입니다.\n"
     ]
    }
   ],
   "source": [
    "import random\n",
    "\n",
    "answer = random.randint(1,100)\n",
    "flag = 0\n",
    "count = 1\n",
    "\n",
    "print(\"숫자 맞추기 게임입니다. 1부터 100사이에 있는 정답 숫자를 맞춰보세요!\\n\")\n",
    "\n",
    "while flag == 0 :\n",
    "    num_input = int(input(\"숫자를 입력해주세요\"))\n",
    "\n",
    "    if num_input > answer :\n",
    "        print(f'땡! 정답 숫자는 입력하신 숫자 {num_input} 보다 작습니다!')\n",
    "    elif num_input < answer :\n",
    "        print(f'땡! 정답 숫자는 입력하신 숫자 {num_input} 보다 큽니다!')\n",
    "    else :\n",
    "        print(f'\\n맞추셨습니다! 정답 숫자는 {answer} 입니다.')\n",
    "        flag = 1\n",
    "    \n",
    "    count += 1"
   ]
  },
  {
   "cell_type": "markdown",
   "id": "00e499a4",
   "metadata": {},
   "source": [
    "### 무한반복, break, continue 예제 연습"
   ]
  },
  {
   "cell_type": "code",
   "execution_count": 46,
   "id": "95d250f3",
   "metadata": {},
   "outputs": [
    {
     "name": "stdout",
     "output_type": "stream",
     "text": [
      "1부터 20까지의 숫자 중 3의 배수와 5의 배수가 아닌 숫자들은 1 2 4 7 8 11 13 14 16 17 19 입니다\n"
     ]
    }
   ],
   "source": [
    "num = 0\n",
    "\n",
    "print('1부터 20까지의 숫자 중 3의 배수와 5의 배수가 아닌 숫자들은', end=' ')\n",
    "\n",
    "while True :\n",
    "\n",
    "    if num > 20 :\n",
    "        break\n",
    "\n",
    "    num += 1\n",
    "\n",
    "    if num%3 == 0 :\n",
    "        continue\n",
    "    if num%5 == 0 :\n",
    "        continue\n",
    "\n",
    "    print(num, end=' ')\n",
    "\n",
    "print('입니다')"
   ]
  },
  {
   "cell_type": "markdown",
   "id": "2b7fd246",
   "metadata": {},
   "source": [
    "### 중첩반복문을 통한 구구단 전체 출력"
   ]
  },
  {
   "cell_type": "code",
   "execution_count": 34,
   "id": "d267a6e8",
   "metadata": {},
   "outputs": [
    {
     "name": "stdout",
     "output_type": "stream",
     "text": [
      "---전체 구구단 출력---\n",
      "\n",
      "구구단 1단\n",
      "1 X 1 = 1\n",
      "1 X 2 = 2\n",
      "1 X 3 = 3\n",
      "1 X 4 = 4\n",
      "1 X 5 = 5\n",
      "1 X 6 = 6\n",
      "1 X 7 = 7\n",
      "1 X 8 = 8\n",
      "1 X 9 = 9\n",
      "\n",
      "\n",
      "구구단 2단\n",
      "2 X 1 = 2\n",
      "2 X 2 = 4\n",
      "2 X 3 = 6\n",
      "2 X 4 = 8\n",
      "2 X 5 = 10\n",
      "2 X 6 = 12\n",
      "2 X 7 = 14\n",
      "2 X 8 = 16\n",
      "2 X 9 = 18\n",
      "\n",
      "\n",
      "구구단 3단\n",
      "3 X 1 = 3\n",
      "3 X 2 = 6\n",
      "3 X 3 = 9\n",
      "3 X 4 = 12\n",
      "3 X 5 = 15\n",
      "3 X 6 = 18\n",
      "3 X 7 = 21\n",
      "3 X 8 = 24\n",
      "3 X 9 = 27\n",
      "\n",
      "\n",
      "구구단 4단\n",
      "4 X 1 = 4\n",
      "4 X 2 = 8\n",
      "4 X 3 = 12\n",
      "4 X 4 = 16\n",
      "4 X 5 = 20\n",
      "4 X 6 = 24\n",
      "4 X 7 = 28\n",
      "4 X 8 = 32\n",
      "4 X 9 = 36\n",
      "\n",
      "\n",
      "구구단 5단\n",
      "5 X 1 = 5\n",
      "5 X 2 = 10\n",
      "5 X 3 = 15\n",
      "5 X 4 = 20\n",
      "5 X 5 = 25\n",
      "5 X 6 = 30\n",
      "5 X 7 = 35\n",
      "5 X 8 = 40\n",
      "5 X 9 = 45\n",
      "\n",
      "\n",
      "구구단 6단\n",
      "6 X 1 = 6\n",
      "6 X 2 = 12\n",
      "6 X 3 = 18\n",
      "6 X 4 = 24\n",
      "6 X 5 = 30\n",
      "6 X 6 = 36\n",
      "6 X 7 = 42\n",
      "6 X 8 = 48\n",
      "6 X 9 = 54\n",
      "\n",
      "\n",
      "구구단 7단\n",
      "7 X 1 = 7\n",
      "7 X 2 = 14\n",
      "7 X 3 = 21\n",
      "7 X 4 = 28\n",
      "7 X 5 = 35\n",
      "7 X 6 = 42\n",
      "7 X 7 = 49\n",
      "7 X 8 = 56\n",
      "7 X 9 = 63\n",
      "\n",
      "\n",
      "구구단 8단\n",
      "8 X 1 = 8\n",
      "8 X 2 = 16\n",
      "8 X 3 = 24\n",
      "8 X 4 = 32\n",
      "8 X 5 = 40\n",
      "8 X 6 = 48\n",
      "8 X 7 = 56\n",
      "8 X 8 = 64\n",
      "8 X 9 = 72\n",
      "\n",
      "\n",
      "구구단 9단\n",
      "9 X 1 = 9\n",
      "9 X 2 = 18\n",
      "9 X 3 = 27\n",
      "9 X 4 = 36\n",
      "9 X 5 = 45\n",
      "9 X 6 = 54\n",
      "9 X 7 = 63\n",
      "9 X 8 = 72\n",
      "9 X 9 = 81\n",
      "\n",
      "\n"
     ]
    }
   ],
   "source": [
    "print(f'---전체 구구단 출력---\\n')\n",
    "\n",
    "for i in range(1, 10) :\n",
    "    print(f'구구단 {i}단')\n",
    "    for j in range(1, 10) :\n",
    "        print(f'{i} X {j} = {i * j}')\n",
    "    print('\\n')\n",
    "\n"
   ]
  },
  {
   "cell_type": "markdown",
   "id": "a7dc1b19",
   "metadata": {},
   "source": [
    "### 중첩반복문을 통한 트리 출력"
   ]
  },
  {
   "cell_type": "code",
   "execution_count": null,
   "id": "af6bc475",
   "metadata": {},
   "outputs": [
    {
     "name": "stdout",
     "output_type": "stream",
     "text": [
      "입력한 트리의 높이 = 22 \n",
      "\n",
      "                     *                     \n",
      "                    ***                    \n",
      "                   *****                   \n",
      "                  *******                  \n",
      "                 *********                 \n",
      "                ***********                \n",
      "               *************               \n",
      "              ***************              \n",
      "             *****************             \n",
      "            *******************            \n",
      "           *********************           \n",
      "          ***********************          \n",
      "         *************************         \n",
      "        ***************************        \n",
      "       *****************************       \n",
      "      *******************************      \n",
      "     *********************************     \n",
      "    ***********************************    \n",
      "   *************************************   \n",
      "  ***************************************  \n",
      " ***************************************** \n",
      "*******************************************\n"
     ]
    }
   ],
   "source": [
    "n = int(input(\"트리 크기를 입력해주세요 : \"))\n",
    "\n",
    "print(f'입력한 트리의 높이 = {n}\\n')\n",
    "\n",
    "for i in range(1, n+1) :\n",
    "    for j in range(n-i, 0, -1) :\n",
    "        print(' ', end='')\n",
    "\n",
    "    print('*'*i, end='')\n",
    "    \n",
    "    print('*'*(i-1), end='')\n",
    "    print(' '*(n-i))\n"
   ]
  }
 ],
 "metadata": {
  "kernelspec": {
   "display_name": "Python 3",
   "language": "python",
   "name": "python3"
  },
  "language_info": {
   "codemirror_mode": {
    "name": "ipython",
    "version": 3
   },
   "file_extension": ".py",
   "mimetype": "text/x-python",
   "name": "python",
   "nbconvert_exporter": "python",
   "pygments_lexer": "ipython3",
   "version": "3.11.8"
  }
 },
 "nbformat": 4,
 "nbformat_minor": 5
}
