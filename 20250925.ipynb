{
 "cells": [
  {
   "cell_type": "markdown",
   "id": "8e5a6f7f",
   "metadata": {},
   "source": [
    "# 2025-09-25"
   ]
  },
  {
   "cell_type": "markdown",
   "id": "df0abda5",
   "metadata": {},
   "source": [
    "## 아르테미스 달 탐사 실습"
   ]
  },
  {
   "cell_type": "markdown",
   "id": "178e8e72",
   "metadata": {},
   "source": [
    "### 2025-09-25 실습은 '01_달탐사_미션.ipynb'로"
   ]
  },
  {
   "cell_type": "code",
   "execution_count": null,
   "id": "bb9ef35b",
   "metadata": {},
   "outputs": [],
   "source": [
    "print(1)"
   ]
  }
 ],
 "metadata": {
  "kernelspec": {
   "display_name": "Python 3",
   "language": "python",
   "name": "python3"
  },
  "language_info": {
   "name": "python",
   "version": "3.11.8"
  }
 },
 "nbformat": 4,
 "nbformat_minor": 5
}
