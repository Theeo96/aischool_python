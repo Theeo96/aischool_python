{
 "cells": [
  {
   "cell_type": "markdown",
   "id": "4169c569",
   "metadata": {},
   "source": [
    "### 중첩 반복문을 통한 트리 출력 웜업 (복습겸)\n",
    "\n",
    "##### 예전 코드가 이상했어서 이게 나은듯"
   ]
  },
  {
   "cell_type": "code",
   "execution_count": null,
   "id": "43622f84",
   "metadata": {},
   "outputs": [
    {
     "name": "stdout",
     "output_type": "stream",
     "text": [
      "    *\n",
      "   ***\n",
      "  *****\n",
      " *******\n",
      "*********\n"
     ]
    }
   ],
   "source": [
    "n = int(input(\"트리의 높이를 입력하세요 : \"))\n",
    "\n",
    "for i in range(1, n+1) :\n",
    "    for j in range(n-i) :\n",
    "        print(' ', end='')\n",
    "\n",
    "    for j in range(int((i * 2) -1)) :\n",
    "        print('*', end='')\n",
    "\n",
    "    print('')\n",
    "\n"
   ]
  },
  {
   "cell_type": "markdown",
   "id": "be549309",
   "metadata": {},
   "source": [
    "##### 굳이 2중 for문 없앤 버전"
   ]
  },
  {
   "cell_type": "code",
   "execution_count": 21,
   "id": "bbceebab",
   "metadata": {},
   "outputs": [
    {
     "name": "stdout",
     "output_type": "stream",
     "text": [
      "입력한 트리의 높이 = 5\n",
      "\n",
      "    *\n",
      "   ***\n",
      "  *****\n",
      " *******\n",
      "*********\n"
     ]
    }
   ],
   "source": [
    "n = int(input(\"트리 크기를 입력해주세요 : \"))\n",
    "\n",
    "print(f'입력한 트리의 높이 = {n}\\n')\n",
    "\n",
    "for i in range(1, n+1) :\n",
    "    print(' ' * (n - i), end='')\n",
    "    print('*' * ((2 * i) - 1), end='')\n",
    "    print()"
   ]
  },
  {
   "cell_type": "markdown",
   "id": "277fb1ac",
   "metadata": {},
   "source": [
    "### 중첩반복문 탈출해보기"
   ]
  },
  {
   "cell_type": "code",
   "execution_count": null,
   "id": "90449aa8",
   "metadata": {},
   "outputs": [
    {
     "name": "stdout",
     "output_type": "stream",
     "text": [
      "i = 0, j = 0\n",
      "i = 0, j = 1\n",
      "i = 0, j = 2\n",
      "i = 0, j = 3\n",
      "i = 0, j = 4\n",
      "i = 1, j = 0\n",
      "i = 1, j = 1\n",
      "i = 1, j = 2\n",
      "i = 1, j = 3\n",
      "i = 1, j = 4\n",
      "i = 2, j = 0\n",
      "i = 2, j = 1\n",
      "i = 2, j = 2\n",
      "i = 2, j = 3\n",
      "6\n"
     ]
    }
   ],
   "source": [
    "number = 0\n",
    "flag = 0\n",
    "\n",
    "for i in range(5) :\n",
    "    for j in range(5) :\n",
    "        print(f'i = {i}, j = {j}')\n",
    "\n",
    "        if i==2 and j==3 :\n",
    "            number = i * j\n",
    "            flag = 1\n",
    "\n",
    "        # flag 를 만족해야하는 조건이 1개가 아닐 경우가 있을 수 있으므로 따로 떼어놓는게 좋음\n",
    "        if flag == 1 :\n",
    "            break\n",
    "\n",
    "    if flag == 1 :\n",
    "        break\n",
    "\n",
    "print(number) # 6"
   ]
  }
 ],
 "metadata": {
  "kernelspec": {
   "display_name": "Python 3",
   "language": "python",
   "name": "python3"
  },
  "language_info": {
   "codemirror_mode": {
    "name": "ipython",
    "version": 3
   },
   "file_extension": ".py",
   "mimetype": "text/x-python",
   "name": "python",
   "nbconvert_exporter": "python",
   "pygments_lexer": "ipython3",
   "version": "3.11.8"
  }
 },
 "nbformat": 4,
 "nbformat_minor": 5
}
