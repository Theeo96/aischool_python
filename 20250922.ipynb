{
 "cells": [
  {
   "cell_type": "markdown",
   "id": "4169c569",
   "metadata": {},
   "source": [
    "### 중첩 반복문을 통한 트리 출력 웜업 (복습겸)\n",
    "\n",
    "##### 예전 코드가 이상했어서 이게 나은듯"
   ]
  },
  {
   "cell_type": "code",
   "execution_count": null,
   "id": "43622f84",
   "metadata": {},
   "outputs": [
    {
     "name": "stdout",
     "output_type": "stream",
     "text": [
      "    *\n",
      "   ***\n",
      "  *****\n",
      " *******\n",
      "*********\n"
     ]
    }
   ],
   "source": [
    "n = int(input(\"트리의 높이를 입력하세요 : \"))\n",
    "\n",
    "for i in range(1, n+1) :\n",
    "    for j in range(n-i) :\n",
    "        print(' ', end='')\n",
    "\n",
    "    for j in range(int((i * 2) -1)) :\n",
    "        print('*', end='')\n",
    "\n",
    "    print('')\n",
    "\n"
   ]
  },
  {
   "cell_type": "markdown",
   "id": "be549309",
   "metadata": {},
   "source": [
    "##### 굳이 2중 for문 없앤 버전"
   ]
  },
  {
   "cell_type": "code",
   "execution_count": 21,
   "id": "bbceebab",
   "metadata": {},
   "outputs": [
    {
     "name": "stdout",
     "output_type": "stream",
     "text": [
      "입력한 트리의 높이 = 5\n",
      "\n",
      "    *\n",
      "   ***\n",
      "  *****\n",
      " *******\n",
      "*********\n"
     ]
    }
   ],
   "source": [
    "n = int(input(\"트리 크기를 입력해주세요 : \"))\n",
    "\n",
    "print(f'입력한 트리의 높이 = {n}\\n')\n",
    "\n",
    "for i in range(1, n+1) :\n",
    "    print(' ' * (n - i), end='')\n",
    "    print('*' * ((2 * i) - 1), end='')\n",
    "    print()"
   ]
  },
  {
   "cell_type": "markdown",
   "id": "277fb1ac",
   "metadata": {},
   "source": [
    "### 중첩반복문 탈출해보기"
   ]
  },
  {
   "cell_type": "code",
   "execution_count": null,
   "id": "90449aa8",
   "metadata": {},
   "outputs": [
    {
     "name": "stdout",
     "output_type": "stream",
     "text": [
      "i = 0, j = 0\n",
      "i = 0, j = 1\n",
      "i = 0, j = 2\n",
      "i = 0, j = 3\n",
      "i = 0, j = 4\n",
      "i = 1, j = 0\n",
      "i = 1, j = 1\n",
      "i = 1, j = 2\n",
      "i = 1, j = 3\n",
      "i = 1, j = 4\n",
      "i = 2, j = 0\n",
      "i = 2, j = 1\n",
      "i = 2, j = 2\n",
      "i = 2, j = 3\n",
      "6\n"
     ]
    }
   ],
   "source": [
    "number = 0\n",
    "flag = 0\n",
    "\n",
    "for i in range(5) :\n",
    "    for j in range(5) :\n",
    "        print(f'i = {i}, j = {j}')\n",
    "\n",
    "        if i==2 and j==3 :\n",
    "            number = i * j\n",
    "            flag = 1\n",
    "\n",
    "        # flag 를 만족해야하는 조건이 1개가 아닐 경우가 있을 수 있으므로 따로 떼어놓는게 좋음\n",
    "        if flag == 1 :\n",
    "            break\n",
    "\n",
    "    if flag == 1 :\n",
    "        break\n",
    "\n",
    "print(number) # 6"
   ]
  },
  {
   "cell_type": "markdown",
   "id": "3b04ffc6",
   "metadata": {},
   "source": [
    "### 중첩반복문 탈출 예제\n",
    "\n",
    "##### 입력받은 숫자만큼의 별의 갯수까지만 출력하는 코드 작성 (최대 10층)"
   ]
  },
  {
   "cell_type": "code",
   "execution_count": null,
   "id": "3f2f9562",
   "metadata": {},
   "outputs": [
    {
     "name": "stdout",
     "output_type": "stream",
     "text": [
      "출력할 별의 갯수 = 32\n",
      "(최대 높이 10층)\n",
      "\n",
      "         *\n",
      "        ***\n",
      "       *****\n",
      "      *******\n",
      "     *********\n",
      "    *******"
     ]
    }
   ],
   "source": [
    "n = int(input(\"출력하고싶은 별의 갯수를 입력하세요 : \"))\n",
    "stars = 0\n",
    "\n",
    "print(f'출력할 별의 갯수 = {n}\\n(최대 높이 10층)\\n')\n",
    "\n",
    "# 최대 10층이라고 가정\n",
    "for i in range(1, 10) :\n",
    "    for j in range(10-i) :\n",
    "        print(' ', end='')\n",
    "\n",
    "    for j in range((2 * i) - 1) :\n",
    "        if stars >= n :\n",
    "            break\n",
    "        \n",
    "        print('*', end='')\n",
    "        stars += 1\n",
    "\n",
    "    if stars >= n :\n",
    "        break\n",
    "    \n",
    "    print()"
   ]
  },
  {
   "cell_type": "markdown",
   "id": "ed76257f",
   "metadata": {},
   "source": [
    "### 문자열 인덱싱 예제"
   ]
  },
  {
   "cell_type": "code",
   "execution_count": 122,
   "id": "76552d8c",
   "metadata": {},
   "outputs": [
    {
     "name": "stdout",
     "output_type": "stream",
     "text": [
      "m\n",
      "\n",
      "d\n",
      "d\n",
      "\n",
      "my fri\n",
      "my fri\n",
      "\n",
      "Hlom red\n",
      "Hlom red"
     ]
    }
   ],
   "source": [
    "my_str = \"Hello my friend\"\n",
    "\n",
    "# 인덱싱\n",
    "print(my_str[6])\n",
    "\n",
    "print()\n",
    "\n",
    "# 뒤에서부터 인덱싱(윗줄은 밑줄과 동일)\n",
    "print(my_str[-1])\n",
    "print(my_str[len(my_str)-1])\n",
    "\n",
    "print()\n",
    "\n",
    "# 슬라이싱 (윗줄은 밑줄과 동일)\n",
    "\n",
    "print(my_str[6:12])\n",
    "for i in range(6,12) :\n",
    "    print(my_str[i], end='')\n",
    "print('\\n')\n",
    "\n",
    "print(my_str[::2])\n",
    "for i in range(0, len(my_str), 2) :\n",
    "    print(my_str[i], end='')"
   ]
  },
  {
   "cell_type": "code",
   "execution_count": 132,
   "id": "603762b3",
   "metadata": {},
   "outputs": [
    {
     "name": "stdout",
     "output_type": "stream",
     "text": [
      "dneirf ym olleH\n"
     ]
    }
   ],
   "source": [
    "my_str = \"Hello my friend\"\n",
    "\n",
    "print(my_str[::-1])"
   ]
  },
  {
   "cell_type": "code",
   "execution_count": 133,
   "id": "3e03afa8",
   "metadata": {},
   "outputs": [
    {
     "name": "stdout",
     "output_type": "stream",
     "text": [
      "15\n"
     ]
    }
   ],
   "source": [
    "my_str = \"Hello my friend\"\n",
    "\n",
    "print(len(my_str))"
   ]
  },
  {
   "cell_type": "code",
   "execution_count": 134,
   "id": "eee5522e",
   "metadata": {},
   "outputs": [
    {
     "name": "stdout",
     "output_type": "stream",
     "text": [
      "H e l l o   m y   f r i e n d \n",
      "H e l l o   m y   f r i e n d "
     ]
    }
   ],
   "source": [
    "my_str = \"Hello my friend\"\n",
    "\n",
    "for i in my_str :\n",
    "    print(i, end=' ')\n",
    "\n",
    "print()\n",
    "\n",
    "for i in range(len(my_str)) :\n",
    "    print(my_str[i], end=' ')"
   ]
  },
  {
   "cell_type": "markdown",
   "id": "4e239719",
   "metadata": {},
   "source": [
    "### 문자열 다루기 예제"
   ]
  },
  {
   "cell_type": "code",
   "execution_count": 135,
   "id": "4058af60",
   "metadata": {},
   "outputs": [
    {
     "name": "stdout",
     "output_type": "stream",
     "text": [
      "hello my friend\n",
      "HELLO MY FRIEND\n",
      "['Hello', 'my', 'friend']\n"
     ]
    }
   ],
   "source": [
    "my_str = \"Hello my friend\"\n",
    "\n",
    "print(my_str.lower())\n",
    "print(my_str.upper())\n",
    "\n",
    "\n",
    "my_str_splits = my_str.split(' ')\n",
    "print(my_str_splits)"
   ]
  },
  {
   "cell_type": "markdown",
   "id": "eb8db8b8",
   "metadata": {},
   "source": [
    "### 컬렉션 자료형(복합 자료형)"
   ]
  },
  {
   "cell_type": "markdown",
   "id": "91b50fe5",
   "metadata": {},
   "source": [
    "##### 리스트 = 복수의 다양한 형태의 데이터를 순서대로 저장하고 조작하는 기본 자료형"
   ]
  },
  {
   "cell_type": "code",
   "execution_count": 136,
   "id": "c481cb17",
   "metadata": {},
   "outputs": [
    {
     "name": "stdout",
     "output_type": "stream",
     "text": [
      "<class 'list'>\n",
      "0\n",
      "<class 'list'>\n",
      "5\n",
      "<class 'list'>\n",
      "5\n"
     ]
    }
   ],
   "source": [
    "numbers = []\n",
    "\n",
    "print(type(numbers))\n",
    "print(len(numbers))\n",
    "\n",
    "numbers = [1, 2, 3, 4, 5]\n",
    "\n",
    "print(type(numbers))\n",
    "print(len(numbers))\n",
    "\n",
    "mixed = [1, \"apple\", True, [10, 20, 30]]\n",
    "\n",
    "print(type(numbers))\n",
    "print(len(numbers))\n"
   ]
  },
  {
   "cell_type": "code",
   "execution_count": 137,
   "id": "099af727",
   "metadata": {},
   "outputs": [
    {
     "name": "stdout",
     "output_type": "stream",
     "text": [
      "[1, 2, 3, 4, 5, 'apple', 'pear', 'melon', 'orange', 'grape']\n",
      "[1, 2, 3, 4, 5, 1, 2, 3, 4, 5, 1, 2, 3, 4, 5]\n",
      "grape\n",
      "['apple', 'melon', 'grape']\n"
     ]
    }
   ],
   "source": [
    "numbers = [1, 2, 3, 4, 5]\n",
    "fruits = [\"apple\", \"pear\", \"melon\", \"orange\", \"grape\"]\n",
    "\n",
    "print(numbers + fruits)\n",
    "\n",
    "print(numbers * 3)\n",
    "\n",
    "print(fruits[-1])\n",
    "\n",
    "print(fruits[::2])"
   ]
  },
  {
   "cell_type": "code",
   "execution_count": 138,
   "id": "d8608d25",
   "metadata": {},
   "outputs": [
    {
     "name": "stdout",
     "output_type": "stream",
     "text": [
      "apple\n",
      "pineapple\n",
      "['pineapple', 'pear', 'melon', 'orange', 'grape', 'grape', 'cherry']\n",
      "['pineapple', 'kiwi', 'pear', 'melon', 'orange', 'grape', 'grape', 'cherry']\n",
      "['pineapple', 'kiwi', 'pear', 'melon', 'orange', 'grape', 'grape', 'cherry', 'mango', 'date']\n",
      "['pineapple', 'kiwi', 'pear', 'melon', 'orange', 'grape', 'grape', 'cherry', 'mango']\n",
      "['pineapple', 'pear', 'melon', 'orange', 'grape', 'grape', 'cherry', 'mango']\n",
      "['pineapple', 'pear', 'melon', 'grape', 'grape', 'cherry', 'mango']\n",
      "2\n",
      "6\n"
     ]
    }
   ],
   "source": [
    "fruits = [\"apple\", \"pear\", \"melon\", \"orange\", \"grape\", \"grape\"]\n",
    "print(fruits[0])\n",
    "\n",
    "# 리스트 수정\n",
    "fruits[0] = \"pineapple\"\n",
    "print(fruits[0])\n",
    "\n",
    "# 리스트 추가 (맨 뒤에 삽입)\n",
    "fruits.append(\"cherry\")\n",
    "print(fruits)\n",
    "\n",
    "# 리스트 삽입\n",
    "fruits.insert(1, \"kiwi\")\n",
    "print(fruits)\n",
    "\n",
    "# 리스트에 리스트 삽입\n",
    "fruits.extend([\"mango\", \"date\"])\n",
    "print(fruits)\n",
    "\n",
    "# 리스트 마지막 인덱스 remove\n",
    "fruits.pop()\n",
    "print(fruits)\n",
    "\n",
    "# 리스트 특정 인덱스 remove\n",
    "fruits.pop(1)\n",
    "print(fruits)\n",
    "\n",
    "# 리스트 특정 요소 remove\n",
    "fruits.remove(\"orange\")\n",
    "print(fruits)\n",
    "\n",
    "# 리스트 특정 요소 count\n",
    "print(fruits.count(\"grape\"))\n",
    "\n",
    "# 리스트 특정 요소 index 참조\n",
    "print(fruits.index(\"mango\"))"
   ]
  },
  {
   "cell_type": "code",
   "execution_count": 146,
   "id": "eb007289",
   "metadata": {},
   "outputs": [
    {
     "name": "stdout",
     "output_type": "stream",
     "text": [
      "[1, 2, 3, 4, 5, 6]\n",
      "[6, 5, 4, 3, 2, 1]\n",
      "['apple', 'pear', 'grape', 'Apple', 'Pear']\n",
      "['pear', 'grape', 'apple', 'Pear', 'Apple']\n",
      "['Apple', 'Pear', 'apple', 'grape', 'pear']\n"
     ]
    }
   ],
   "source": [
    "numbers = [1, 2, 3, 6, 5, 4]\n",
    "\n",
    "numbers.sort()\n",
    "print(numbers)\n",
    "\n",
    "numbers.sort(reverse=True)\n",
    "print(numbers)\n",
    "\n",
    "fruits = [\"apple\", \"pear\", \"grape\", \"Apple\", \"Pear\"]\n",
    "print(fruits)\n",
    "\n",
    "fruits.sort(reverse=True)\n",
    "print(fruits)\n",
    "\n",
    "fruits.reverse()\n",
    "print(fruits)"
   ]
  },
  {
   "cell_type": "markdown",
   "id": "2bde48cc",
   "metadata": {},
   "source": [
    "### 리스트 메소드 예제"
   ]
  },
  {
   "cell_type": "code",
   "execution_count": 148,
   "id": "87134532",
   "metadata": {},
   "outputs": [
    {
     "name": "stdout",
     "output_type": "stream",
     "text": [
      "50\n",
      "10\n",
      "150\n",
      "30.0\n"
     ]
    }
   ],
   "source": [
    "numbers = [10, 20, 30, 40, 50]\n",
    "\n",
    "# 최대값\n",
    "print(max(numbers))\n",
    "\n",
    "# 최소값\n",
    "print(min(numbers))\n",
    "\n",
    "# 합\n",
    "print(sum(numbers))\n",
    "\n",
    "# 평균\n",
    "print(sum(numbers)/len(numbers))"
   ]
  },
  {
   "cell_type": "markdown",
   "id": "12538b3a",
   "metadata": {},
   "source": [
    "## *** 리스트 컴프리헨션 (중요) ***"
   ]
  },
  {
   "cell_type": "code",
   "execution_count": 155,
   "id": "0327435b",
   "metadata": {},
   "outputs": [
    {
     "name": "stdout",
     "output_type": "stream",
     "text": [
      "[0, 1, 2, 3, 4, 5, 6, 7, 8, 9]\n",
      "[0, 1, 2, 3, 4, 5, 6, 7, 8, 9]\n"
     ]
    }
   ],
   "source": [
    "numbers = [i for i in range(10)]\n",
    "print(numbers)\n",
    "\n",
    "\n",
    "# 밑과 위는 동일\n",
    "numbers = []\n",
    "for i in  range(10):\n",
    "    numbers.append(i)\n",
    "print(numbers)"
   ]
  },
  {
   "cell_type": "code",
   "execution_count": 156,
   "id": "6ff49d8c",
   "metadata": {},
   "outputs": [
    {
     "name": "stdout",
     "output_type": "stream",
     "text": [
      "[0, 1, 4, 9, 16, 25, 36, 49, 64, 81]\n",
      "[0, 1, 4, 9, 16, 25, 36, 49, 64, 81]\n"
     ]
    }
   ],
   "source": [
    "numbers = [i**2 for i in range(10)]\n",
    "print(numbers)\n",
    "\n",
    "\n",
    "# 밑과 위는 동일\n",
    "numbers = []\n",
    "for i in  range(10):\n",
    "    numbers.append(i**2)\n",
    "print(numbers)"
   ]
  },
  {
   "cell_type": "code",
   "execution_count": 157,
   "id": "9b93ca46",
   "metadata": {},
   "outputs": [
    {
     "name": "stdout",
     "output_type": "stream",
     "text": [
      "[0, 2, 4, 6, 8]\n",
      "[0, 2, 4, 6, 8]\n"
     ]
    }
   ],
   "source": [
    "numbers = [i for i in range(10) if i % 2 == 0]\n",
    "print(numbers)\n",
    "\n",
    "\n",
    "# 밑과 위는 동일\n",
    "numbers = []\n",
    "for i in  range(10):\n",
    "    if i % 2 == 0 :\n",
    "        numbers.append(i)\n",
    "print(numbers)"
   ]
  },
  {
   "cell_type": "markdown",
   "id": "448978f2",
   "metadata": {},
   "source": [
    "#### 리스트 활용 예제"
   ]
  },
  {
   "cell_type": "code",
   "execution_count": 170,
   "id": "733750d6",
   "metadata": {},
   "outputs": [
    {
     "name": "stdout",
     "output_type": "stream",
     "text": [
      "1번째 학생은 합격입니다.\n",
      "2번째 학생은 불합격입니다.\n",
      "3번째 학생은 합격입니다.\n",
      "4번째 학생은 불합격입니다.\n",
      "5번째 학생은 합격입니다.\n",
      "\n",
      "1번째 학생은 합격입니다.\n",
      "2번째 학생은 불합격입니다.\n",
      "3번째 학생은 합격입니다.\n",
      "4번째 학생은 불합격입니다.\n",
      "5번째 학생은 합격입니다.\n",
      "\n",
      "-- 잘못된 참조 코드 케이스 --\n",
      "1번째 학생은 합격입니다.\n",
      "2번째 학생은 불합격입니다.\n",
      "1번째 학생은 합격입니다.\n",
      "4번째 학생은 불합격입니다.\n",
      "5번째 학생은 합격입니다.\n",
      "\n"
     ]
    }
   ],
   "source": [
    "marks = [90, 25, 90, 45, 80]\n",
    "\n",
    "for i in range(len(marks)) :\n",
    "    if marks[i] >= 60 :\n",
    "        print(f'{i+1}번째 학생은 합격입니다.')\n",
    "    else :\n",
    "        print(f'{i+1}번째 학생은 불합격입니다.')\n",
    "\n",
    "print()\n",
    "\n",
    "# 위와 밑은 같음\n",
    "num_index = 0\n",
    "for i in marks :\n",
    "    num_index += 1\n",
    "    if i >= 60 :\n",
    "        print(f'{num_index}번째 학생은 합격입니다.')\n",
    "    else :\n",
    "        print(f'{num_index}번째 학생은 불합격입니다.')\n",
    "\n",
    "print()\n",
    "\n",
    "\n",
    "# 잘못된 케이스 - index(i)는 동일한 i값이 있을 경우 잘못된 참조가 날 수 있음\n",
    "print(\"-- 잘못된 참조 코드 케이스 --\")\n",
    "for i in marks :\n",
    "    if i >= 60 :\n",
    "        print(f'{marks.index(i)+1}번째 학생은 합격입니다.')\n",
    "    else :\n",
    "        print(f'{marks.index(i)+1}번째 학생은 불합격입니다.')\n",
    "print()"
   ]
  },
  {
   "cell_type": "markdown",
   "id": "58a477ca",
   "metadata": {},
   "source": [
    "### 끝말잇기 게임 예제"
   ]
  },
  {
   "cell_type": "code",
   "execution_count": 12,
   "id": "ccd93c08",
   "metadata": {},
   "outputs": [
    {
     "name": "stdout",
     "output_type": "stream",
     "text": [
      "끝말잇기 게임\n",
      "시작\n",
      "\n",
      "시작 단어 = 가나다\n",
      "입력한 단어 = 다람쥐\n",
      "입력한 단어 = 쥐포\n",
      "입력한 단어 = 귀찮아\n",
      "땡\n"
     ]
    }
   ],
   "source": [
    "print('끝말잇기 게임\\n시작\\n')\n",
    "var = \"시작 단어 = 가나다\"\n",
    "print(var)\n",
    "\n",
    "while True :\n",
    "    answer = input(\"단어를 입력해주세요 : \")\n",
    "    print(f'입력한 단어 = {answer}')\n",
    "\n",
    "    if answer[0] == var[-1] :\n",
    "        # print(f'입력한 단어 = {answer}')\n",
    "        var = answer\n",
    "    else :\n",
    "        print(\"땡\")\n",
    "        break\n"
   ]
  },
  {
   "cell_type": "markdown",
   "id": "ad749f66",
   "metadata": {},
   "source": [
    "### 리스트 중복 제거 예제"
   ]
  },
  {
   "cell_type": "code",
   "execution_count": 19,
   "id": "22f1c3e4",
   "metadata": {},
   "outputs": [
    {
     "name": "stdout",
     "output_type": "stream",
     "text": [
      "[1, 1, 3, 3, 0, 1, 1]\n",
      "[1, 3, 0, 1]\n",
      "[4, 4, 4, 3, 3]\n",
      "[4, 3]\n"
     ]
    }
   ],
   "source": [
    "numbers1 = [1, 1, 3, 3, 0, 1, 1]\n",
    "numbers2 = [4, 4, 4, 3, 3]\n",
    "\n",
    "def remove_dupl(num_list) :\n",
    "    new_numbers = []\n",
    "    comp = num_list[0]\n",
    "    new_numbers.append(num_list[0])\n",
    "\n",
    "    for i in num_list :\n",
    "        if comp != i :\n",
    "            comp = i\n",
    "            new_numbers.append(comp)\n",
    "        \n",
    "    return new_numbers\n",
    "\n",
    "print(numbers1)\n",
    "new_numbers = remove_dupl(numbers1)\n",
    "print(new_numbers)\n",
    "\n",
    "print(numbers2)\n",
    "new_numbers = remove_dupl(numbers2)\n",
    "print(new_numbers)"
   ]
  },
  {
   "cell_type": "markdown",
   "id": "0fdc67dd",
   "metadata": {},
   "source": [
    "### 딕셔너리"
   ]
  },
  {
   "cell_type": "code",
   "execution_count": 12,
   "id": "afd1c622",
   "metadata": {},
   "outputs": [
    {
     "name": "stdout",
     "output_type": "stream",
     "text": [
      "<class 'dict'>\n",
      "{'name': 'chrs', 'age': '31'}\n"
     ]
    }
   ],
   "source": [
    "# 요소를 직접 삽입하여 생성\n",
    "students = {'name':'Jimin', 'age':29, 'hobby':'game'}\n",
    "\n",
    "print(type(students))\n",
    "\n",
    "# 비어있는 딕셔너리 생성\n",
    "mydict = {}\n",
    "\n",
    "# 함수를 통한 생성. dict() 로 형변환도 가능\n",
    "mydict = dict()\n",
    "\n",
    "person = dict(name='chrs', age='31')\n",
    "\n",
    "print(person)"
   ]
  },
  {
   "cell_type": "markdown",
   "id": "c380bc70",
   "metadata": {},
   "source": [
    "##### 키값이 중복되어 선언될 경우, 뒤에 선언된 키값의 밸류가 이전에 선언된 키값의 밸류에 덮어씌워짐"
   ]
  },
  {
   "cell_type": "code",
   "execution_count": 13,
   "id": "e621616f",
   "metadata": {},
   "outputs": [
    {
     "name": "stdout",
     "output_type": "stream",
     "text": [
      "{'name': 'Chulsu', 'age': 29}\n"
     ]
    }
   ],
   "source": [
    "students = {'name':'Jimin', 'age':29, 'name':'Chulsu'}\n",
    "\n",
    "print(students)"
   ]
  },
  {
   "cell_type": "code",
   "execution_count": 18,
   "id": "6b775900",
   "metadata": {},
   "outputs": [
    {
     "name": "stdout",
     "output_type": "stream",
     "text": [
      "29\n",
      "Jimin\n",
      "\n",
      "dict_keys(['name', 'age', 'hobby'])\n",
      "dict_values(['Jimin', 29, 'game'])\n",
      "dict_items([('name', 'Jimin'), ('age', 29), ('hobby', 'game')])\n",
      "\n",
      "name\n",
      "age\n",
      "hobby\n"
     ]
    }
   ],
   "source": [
    "students = {'name':'Jimin', 'age':29, 'hobby':'game'}\n",
    "\n",
    "print(students['age'])\n",
    "print(students['name'])\n",
    "print()\n",
    "print(students.keys())\n",
    "print(students.values())\n",
    "print(students.items())\n",
    "print()\n",
    "\n",
    "for i in students :\n",
    "    print(i)"
   ]
  },
  {
   "cell_type": "code",
   "execution_count": 25,
   "id": "adcb0bd0",
   "metadata": {},
   "outputs": [
    {
     "name": "stdout",
     "output_type": "stream",
     "text": [
      "{'name': 'Jimin', 'age': 29, 'hobby': 'game'}\n",
      "{'name': 'John', 'age': 29, 'hobby': 'game'}\n",
      "{'name': 'John', 'age': 29, 'hobby': 'game', 'addr': '서울시 용산구'}\n",
      "서울시 용산구\n",
      "None\n",
      "{'name': 'John', 'hobby': 'game', 'addr': '서울시 용산구'}\n",
      "{'name': 'John', 'hobby': 'game'}\n",
      "True\n",
      "True\n"
     ]
    }
   ],
   "source": [
    "students = {'name':'Jimin', 'age':29, 'hobby':'game'}\n",
    "print(students)\n",
    "\n",
    "# 값 갱신\n",
    "students['name'] = 'John'\n",
    "print(students)\n",
    "\n",
    "# 새로운 키:밸류 추가\n",
    "students['addr'] = '서울시 용산구'\n",
    "print(students)\n",
    "\n",
    "# 값 참조\n",
    "print(students.get('addr'))\n",
    "print(students.get('addr2'))\n",
    "\n",
    "# 값 삭제\n",
    "# 딕셔너리는 삽입순서에 상관없이 순서 자체를 저장하지 않기에 pop 시 키 지정 필요\n",
    "students.pop('age')\n",
    "print(students)\n",
    "\n",
    "# 만약 딕셔너리의 출력상 가장 마지막 키:밸류를 지우고싶다면 popitem 사용\n",
    "students.popitem()\n",
    "print(students)\n",
    "\n",
    "# 리스트에 특정 값이 있는지 확인하는 in 메소드를 통해 딕셔너리에 특정 값이 있는지 확인\n",
    "\n",
    "# 특정 값이 딕셔너리에 있는지 확인\n",
    "print('name' in students.keys())\n",
    "print('game' in students.values())"
   ]
  },
  {
   "cell_type": "markdown",
   "id": "1dbeac4d",
   "metadata": {},
   "source": [
    "#### 딕셔너리 값 참조"
   ]
  },
  {
   "cell_type": "code",
   "execution_count": 29,
   "id": "efd7ba7f",
   "metadata": {},
   "outputs": [
    {
     "name": "stdout",
     "output_type": "stream",
     "text": [
      "name Jimin\n",
      "age 29\n",
      "hobby game\n",
      "\n",
      "name Jimin\n",
      "age 29\n",
      "hobby game\n"
     ]
    }
   ],
   "source": [
    "students = {'name':'Jimin', 'age':29, 'hobby':'game'}\n",
    "\n",
    "for i in students.items() :\n",
    "    print(i[0], i[1])\n",
    "\n",
    "print()\n",
    "# 위와 아래는 동일\n",
    "for key, value in students.items() :\n",
    "    print(key, value)"
   ]
  },
  {
   "cell_type": "markdown",
   "id": "9f42812a",
   "metadata": {},
   "source": [
    "### 딕셔너리 예제 풀이\n",
    "##### 13 –2 번 모스부호\n",
    "##### 문자열 letter가 주어질 때, letter를 영어 소문자로 바꾼 문자열을 출력 하도록 코드작성 \n",
    "##### 모스부호는 다음과 같습니다. \n",
    "##### morse = { \n",
    "#####     '.-':'a','-...':'b','-.-.':'c','-..':'d','.':'e','..-.':'f', \n",
    "#####     '--.':'g','....':'h','..':'i','.---':'j','-.-':'k','.-..':'l', \n",
    "#####     '--':'m','-.':'n','---':'o','.--.':'p','--.-':'q','.-.':'r', \n",
    "#####     '...':'s','-':'t','..-':'u','...-':'v','.--':'w','-..-':'x', \n",
    "#####     '-.--':'y','--..':'z' \n",
    "##### } \n",
    "\n",
    "##### 입출력 예 \n",
    "##### letter  result \n",
    "##### \".... . .-.. .-.. ---\"  \"hello\" \n",
    "##### \".--. -.-- - .... --- -.\"   \"python\" "
   ]
  },
  {
   "cell_type": "code",
   "execution_count": 41,
   "id": "1dd10a6a",
   "metadata": {},
   "outputs": [
    {
     "name": "stdout",
     "output_type": "stream",
     "text": [
      "hello\n",
      "python"
     ]
    }
   ],
   "source": [
    "letter1 = '.... . .-.. .-.. ---'\n",
    "letter2 = '.--. -.-- - .... --- -.'\n",
    "letter3 = 'visualstudio'\n",
    "\n",
    "chars1 = letter1.split(' ')\n",
    "chars2 = letter2.split(' ')\n",
    "chars3 = letter3.split()\n",
    "\n",
    "morse = {'.-':'a','-...':'b','-.-.':'c','-..':'d','.':'e','..-.':'f',\n",
    "    '--.':'g','....':'h','..':'i','.---':'j','-.-':'k','.-..':'l', \n",
    "    '--':'m','-.':'n','---':'o','.--.':'p','--.-':'q','.-.':'r', \n",
    "    '...':'s','-':'t','..-':'u','...-':'v','.--':'w','-..-':'x', \n",
    "    '-.--':'y','--..':'z'}\n",
    "\n",
    "for i in chars1 :\n",
    "    print(morse[i], end='')\n",
    "\n",
    "print()\n",
    "for i in chars2 :\n",
    "    print(morse[i], end='')\n",
    "\n",
    "# 글자를 모스부호로 되돌리는 코드\n",
    "# for i in chars3 :\n",
    "#     print(morse[i], end='')"
   ]
  },
  {
   "cell_type": "markdown",
   "id": "2a436680",
   "metadata": {},
   "source": [
    "\n",
    "### set 자료형\n",
    "##### 중복을 허용하지 않고, 순서가 없는 데이터"
   ]
  },
  {
   "cell_type": "code",
   "execution_count": 70,
   "id": "16cd179e",
   "metadata": {},
   "outputs": [
    {
     "name": "stdout",
     "output_type": "stream",
     "text": [
      "<class 'list'>\n",
      "[1, 2, 4, 3, 2, 3]\n",
      "\n",
      "<class 'set'>\n",
      "{1, 2, 3, 4}\n",
      "{1, 2, 3, 4, 5}\n",
      "{1, 2, 4, 5}\n",
      "{2, 4, 5}\n",
      "\n",
      "[3, 4, 5, 3, 4, 5, 3, 4]\n",
      "[3, 4, 5]\n"
     ]
    }
   ],
   "source": [
    "# list\n",
    "s = [1, 2, 4, 3, 2, 3]\n",
    "print(type(s))\n",
    "print(s)\n",
    "\n",
    "print()\n",
    "\n",
    "# set\n",
    "s = {1, 2, 4, 3, 2, 3}\n",
    "print(type(s))\n",
    "print(s)\n",
    "\n",
    "s.add(5)\n",
    "print(s)\n",
    "\n",
    "s.remove(3)\n",
    "print(s)\n",
    "\n",
    "# pop의 경우 랜덤한 값이 튀어나옴\n",
    "s.pop()\n",
    "print(s)\n",
    "\n",
    "print()\n",
    "\n",
    "# list의 중복 제거\n",
    "s = [3, 4, 5, 3, 4, 5, 3, 4]\n",
    "print(s)\n",
    "s = list(set(s))\n",
    "print(s)"
   ]
  },
  {
   "cell_type": "markdown",
   "id": "e0494bcc",
   "metadata": {},
   "source": [
    "##### 집합으로 취급되어 집합연산이 가능"
   ]
  },
  {
   "cell_type": "code",
   "execution_count": 72,
   "id": "d7738565",
   "metadata": {},
   "outputs": [
    {
     "name": "stdout",
     "output_type": "stream",
     "text": [
      "{1, 2, 3, 4, 5, 6, 7, 8}\n",
      "{1, 2, 3, 4, 5, 6, 7, 8}\n",
      "\n",
      "{3, 4}\n",
      "{3, 4}\n",
      "\n",
      "{1, 2}\n",
      "{1, 2}\n"
     ]
    }
   ],
   "source": [
    "a = {1, 2, 4, 3, 2, 3}\n",
    "b = {6, 7, 8, 3, 4, 5, 6, 7}\n",
    "\n",
    "# 합집합\n",
    "print(a | b)\n",
    "print(a.union(b))\n",
    "print()\n",
    "\n",
    "# 교집합\n",
    "print(a & b)\n",
    "print(a.intersection(b))\n",
    "print()\n",
    "\n",
    "# 차집합\n",
    "print(a - b)\n",
    "print(a.difference(b))"
   ]
  },
  {
   "cell_type": "markdown",
   "id": "e78eb2ed",
   "metadata": {},
   "source": [
    "### 튜플\n",
    "##### 수정이 불가한 리스트"
   ]
  },
  {
   "cell_type": "code",
   "execution_count": 77,
   "id": "ee7b5684",
   "metadata": {},
   "outputs": [
    {
     "name": "stdout",
     "output_type": "stream",
     "text": [
      "()\n",
      "<class 'tuple'>\n",
      "\n",
      "(1, 2, 3)\n",
      "<class 'tuple'>\n",
      "1\n",
      "\n",
      "('a', 4, ('ab', 'g'))\n",
      "\n",
      "(1, 2, 3, 4)\n",
      "<class 'tuple'>\n"
     ]
    }
   ],
   "source": [
    "t1 = ()\n",
    "t2 = (1,2,3)\n",
    "print(t1)\n",
    "print(type(t1))\n",
    "print()\n",
    "\n",
    "print(t2)\n",
    "print(type(t2))\n",
    "print(t2[0])\n",
    "print()\n",
    "\n",
    "t3 = ('a', 4, ('ab', 'g'))\n",
    "print(t3)\n",
    "print()\n",
    "\n",
    "# 이렇게도 선언 가능\n",
    "t4 = 1, 2, 3, 4\n",
    "print(t4)\n",
    "print(type(t4))"
   ]
  },
  {
   "cell_type": "markdown",
   "id": "b78dc6a3",
   "metadata": {},
   "source": [
    "### 밑의 예시처럼 특정 튜플의 주소참조값 자체를 다른 것으로 바꿔서\n",
    "### 값 전체의 참조를 바꿀 순 있지만, 요소를 건드리는건 불가능함"
   ]
  },
  {
   "cell_type": "code",
   "execution_count": 82,
   "id": "10204b63",
   "metadata": {},
   "outputs": [
    {
     "name": "stdout",
     "output_type": "stream",
     "text": [
      "(1, 2, 3, 4)\n",
      "(4, 5, 6)\n"
     ]
    }
   ],
   "source": [
    "t2 = 1,2,3,4\n",
    "t3 = 4,5,6\n",
    "\n",
    "print(t2)\n",
    "\n",
    "t2 = t3\n",
    "\n",
    "print(t2)"
   ]
  },
  {
   "cell_type": "markdown",
   "id": "100d87da",
   "metadata": {},
   "source": [
    "### 튜플 예제 빼빼로 문제"
   ]
  },
  {
   "cell_type": "markdown",
   "id": "5a9aff44",
   "metadata": {},
   "source": [
    "##### 빼빼로데이\n",
    "\n",
    "##### 빼빼로의 종류는 6가지 맛('누드초코', '아몬드', '초코', '크런키', '크림치즈', '화이트쿠키')이 있었습니다.\n",
    "##### 이벤트 빼빼로는 한가지 맛에 하나만 구매할 수 있습니다.\n",
    "##### 구매한 빼빼로를 오름차순으로 정렬하여 결과를 나타내 주세요.\n",
    "\n",
    "##### 입력1\n",
    "##### [\"초코\", \"누드초코\", \"크런키\", \"아몬드\", \"초코\", \"누드초코\", \"아몬드\", \"화이트쿠키\", \"초코\", \"초코\"]\n",
    "\n",
    "##### 출력1\n",
    "##### ['누드초코', '아몬드', '초코', '크런키', '화이트쿠키']"
   ]
  },
  {
   "cell_type": "code",
   "execution_count": 95,
   "id": "ec79fcb8",
   "metadata": {},
   "outputs": [
    {
     "name": "stdout",
     "output_type": "stream",
     "text": [
      "['누드초코', '아몬드', '초코', '크런키', '화이트쿠키']\n",
      "['누드초코', '아몬드', '초코', '크런키', '화이트쿠키']\n"
     ]
    }
   ],
   "source": [
    "pepero = [\"초코\", \"누드초코\", \"크런키\", \"아몬드\", \"초코\", \"누드초코\", \"아몬드\", \"화이트쿠키\", \"초코\", \"초코\"]\n",
    "\n",
    "answer = list(set(pepero))\n",
    "answer.sort()\n",
    "print(answer)\n",
    "\n",
    "# 위와 아래는 동일\n",
    "print(sorted(set(pepero)))"
   ]
  },
  {
   "cell_type": "markdown",
   "id": "06aed1d9",
   "metadata": {},
   "source": [
    "### 영단어갯수세기\n",
    "\n",
    "##### 내가 외운 단어의 개수는 몇개일까요?\n",
    "\n",
    "##### 입력1\n",
    "##### \"culture experience symbol symbol education symbol effect education affair liberty liberty affair\"\n",
    "\n",
    "##### 출력1\n",
    "##### 7"
   ]
  },
  {
   "cell_type": "code",
   "execution_count": 98,
   "id": "23709671",
   "metadata": {},
   "outputs": [
    {
     "name": "stdout",
     "output_type": "stream",
     "text": [
      "7\n"
     ]
    }
   ],
   "source": [
    "words = \"culture experience symbol symbol education symbol effect education affair liberty liberty affair\"\n",
    "\n",
    "print(len(set(words.split())))"
   ]
  },
  {
   "cell_type": "markdown",
   "id": "0c168a36",
   "metadata": {},
   "source": [
    "## ** 함수와 클래스 **\n",
    "### (+ 객체, 메소드)"
   ]
  },
  {
   "cell_type": "markdown",
   "id": "2bd8c667",
   "metadata": {},
   "source": [
    "### 함수 = 특정 동작을 수행하는 일정한 코드의 모임\n",
    "#### 가독성과 재활용성, 유지보수성이 좋음"
   ]
  },
  {
   "cell_type": "code",
   "execution_count": null,
   "id": "b3c21c6d",
   "metadata": {},
   "outputs": [],
   "source": [
    "# 내장함수들의 리스트 확인\n",
    "dir(__builtins__)"
   ]
  },
  {
   "cell_type": "code",
   "execution_count": 102,
   "id": "2be2f559",
   "metadata": {},
   "outputs": [
    {
     "name": "stdout",
     "output_type": "stream",
     "text": [
      "함수 출력입니다.\n"
     ]
    }
   ],
   "source": [
    "# 선언\n",
    "def my_func() :\n",
    "    print('함수 출력입니다.')\n",
    "\n",
    "# 호출\n",
    "my_func()"
   ]
  },
  {
   "cell_type": "code",
   "execution_count": 104,
   "id": "d29c0641",
   "metadata": {},
   "outputs": [
    {
     "name": "stdout",
     "output_type": "stream",
     "text": [
      "받은 숫자는 3, 5\n",
      "받은 숫자는 6, 8\n",
      "8 14\n"
     ]
    }
   ],
   "source": [
    "def my_func(a, b) :\n",
    "    print(f'받은 숫자는 {a}, {b}')\n",
    "    return a+b\n",
    "\n",
    "result1 = my_func(3,5)\n",
    "result2 = my_func(6, 8)\n",
    "\n",
    "print(result1, result2)\n"
   ]
  },
  {
   "cell_type": "markdown",
   "id": "39829baa",
   "metadata": {},
   "source": [
    "### 함수 예제 실습"
   ]
  },
  {
   "cell_type": "code",
   "execution_count": 108,
   "id": "8ce1de66",
   "metadata": {},
   "outputs": [
    {
     "name": "stdout",
     "output_type": "stream",
     "text": [
      "12\n",
      "-20\n"
     ]
    }
   ],
   "source": [
    "def num_max(a, b, c) :\n",
    "    ans = a\n",
    "    list = [a, b, c]\n",
    "\n",
    "    for i in list :\n",
    "        if i>ans :\n",
    "            ans = i\n",
    "    return ans\n",
    "\n",
    "num = num_max(10, 12, 7)\n",
    "print(num)\n",
    "\n",
    "num1 = num_max(-20, -33, -108)\n",
    "print(num1)"
   ]
  },
  {
   "cell_type": "code",
   "execution_count": 114,
   "id": "6db0d172",
   "metadata": {},
   "outputs": [
    {
     "name": "stdout",
     "output_type": "stream",
     "text": [
      "24\n",
      "-5\n"
     ]
    }
   ],
   "source": [
    "def num_min(list) :\n",
    "    ans = list[0]\n",
    "\n",
    "    for i in list :\n",
    "        if i<ans :\n",
    "            ans = i\n",
    "    return ans\n",
    "\n",
    "testArray = [62, 273, 32, 103, 275, 24, 57]\n",
    "testArray2 = [-3, -5, -1]\n",
    "\n",
    "num = num_min(testArray)\n",
    "print(num)\n",
    "\n",
    "num = num_min(testArray2)\n",
    "print(num)"
   ]
  },
  {
   "cell_type": "markdown",
   "id": "c740d6ea",
   "metadata": {},
   "source": [
    "### 여러 형태의 입력값을 수용하는 함수 만들기\n",
    "### *args, **kwargs"
   ]
  },
  {
   "cell_type": "code",
   "execution_count": 125,
   "id": "647e0065",
   "metadata": {},
   "outputs": [
    {
     "name": "stdout",
     "output_type": "stream",
     "text": [
      "(1, 2)\n",
      "3\n",
      "\n",
      "(1, 2, 3, 4, 5, 6, 7, 8)\n",
      "36\n"
     ]
    }
   ],
   "source": [
    "def add_many(*args) :\n",
    "    print(args)\n",
    "    num_sum = 0\n",
    "    for i in args :\n",
    "        num_sum += i\n",
    "\n",
    "    return num_sum\n",
    "\n",
    "\n",
    "print(add_many(1, 2))\n",
    "print()\n",
    "print(add_many(1, 2, 3, 4, 5, 6, 7, 8))"
   ]
  },
  {
   "cell_type": "code",
   "execution_count": 133,
   "id": "61001c42",
   "metadata": {},
   "outputs": [
    {
     "name": "stdout",
     "output_type": "stream",
     "text": [
      "10\n",
      "\n",
      "40320\n"
     ]
    }
   ],
   "source": [
    "def cal_option(choice, *args) :\n",
    "\n",
    "    if choice == 'add' :\n",
    "        total = 0\n",
    "        for i in args :\n",
    "            total += i\n",
    "        return total\n",
    "    \n",
    "    if choice == 'mul' :\n",
    "        total = 1\n",
    "        for i in args :\n",
    "            total *= i\n",
    "        return total\n",
    "    \n",
    "    else :\n",
    "        print(\"error!\")\n",
    "\n",
    "\n",
    "print(cal_option('add', 1, 2, 3, 4))\n",
    "print()\n",
    "print(cal_option('mul', 1, 2, 3, 4, 5, 6, 7, 8))"
   ]
  },
  {
   "cell_type": "markdown",
   "id": "d7dc8906",
   "metadata": {},
   "source": [
    "#### 여러개의 값을 return하는 함수"
   ]
  },
  {
   "cell_type": "code",
   "execution_count": 138,
   "id": "e934848c",
   "metadata": {},
   "outputs": [
    {
     "name": "stdout",
     "output_type": "stream",
     "text": [
      "(7, 12)\n",
      "<class 'tuple'>\n",
      "11 30\n",
      "\n",
      "(7, -1, 12, 0.75)\n",
      "<class 'tuple'>\n",
      "7 -1 12 0.75 "
     ]
    }
   ],
   "source": [
    "def add_and_mul(a, b) :\n",
    "    return a+b, a*b\n",
    "\n",
    "result = add_and_mul(3,4)\n",
    "print(result)\n",
    "print(type(result))\n",
    "\n",
    "result1, result2 = add_and_mul(5,6)\n",
    "print(result1, result2)\n",
    "print()\n",
    "\n",
    "\n",
    "\n",
    "def cals(a, b) :\n",
    "    return a+b, a-b, a*b, a/b\n",
    "\n",
    "result = cals(3,4)\n",
    "print(result)\n",
    "print(type(result))\n",
    "\n",
    "for i in result :\n",
    "    print(i, end=' ')"
   ]
  },
  {
   "cell_type": "markdown",
   "id": "f997e6d0",
   "metadata": {},
   "source": [
    "#### 옵션값을 가지는 함수 (기본값으로 초기화된)"
   ]
  },
  {
   "cell_type": "code",
   "execution_count": 141,
   "id": "7cc7d814",
   "metadata": {},
   "outputs": [
    {
     "name": "stdout",
     "output_type": "stream",
     "text": [
      "김철수, 30, 서울, 1123\n",
      "김영수, 30, 서울, 3456\n"
     ]
    }
   ],
   "source": [
    "def say_myself(name, age, addr='서울', tel='1123') :\n",
    "    print(f'{name}, {age}, {addr}, {tel}')\n",
    "\n",
    "\n",
    "#일반적인 호출\n",
    "say_myself('김철수', '30')\n",
    "\n",
    "#옵션 호출시, 순서에 상관없는 호출을 원할시 매개변수명을 직접입력\n",
    "say_myself('김영수', '30', tel='3456')"
   ]
  }
 ],
 "metadata": {
  "kernelspec": {
   "display_name": "Python 3",
   "language": "python",
   "name": "python3"
  },
  "language_info": {
   "codemirror_mode": {
    "name": "ipython",
    "version": 3
   },
   "file_extension": ".py",
   "mimetype": "text/x-python",
   "name": "python",
   "nbconvert_exporter": "python",
   "pygments_lexer": "ipython3",
   "version": "3.11.8"
  }
 },
 "nbformat": 4,
 "nbformat_minor": 5
}
