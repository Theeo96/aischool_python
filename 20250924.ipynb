{
 "cells": [
  {
   "cell_type": "markdown",
   "id": "378a2030",
   "metadata": {},
   "source": [
    "# 2025-09-24"
   ]
  },
  {
   "cell_type": "markdown",
   "id": "7776c65d",
   "metadata": {},
   "source": [
    "## numpy"
   ]
  },
  {
   "cell_type": "markdown",
   "id": "5632f228",
   "metadata": {},
   "source": [
    "#### numpy 라이브러리 pip install 과 import"
   ]
  },
  {
   "cell_type": "code",
   "execution_count": null,
   "id": "5beb41ce",
   "metadata": {},
   "outputs": [],
   "source": [
    "!pip install numpy"
   ]
  },
  {
   "cell_type": "code",
   "execution_count": 4,
   "id": "f9a46c59",
   "metadata": {},
   "outputs": [],
   "source": [
    "import numpy as np"
   ]
  },
  {
   "cell_type": "code",
   "execution_count": 16,
   "id": "4188b92f",
   "metadata": {},
   "outputs": [
    {
     "data": {
      "text/plain": [
       "'2.3.3'"
      ]
     },
     "execution_count": 16,
     "metadata": {},
     "output_type": "execute_result"
    }
   ],
   "source": [
    "np.__version__"
   ]
  },
  {
   "cell_type": "markdown",
   "id": "33b3f308",
   "metadata": {},
   "source": [
    "<hr>"
   ]
  },
  {
   "cell_type": "markdown",
   "id": "71ccc3a4",
   "metadata": {},
   "source": [
    "### 일반 list와 numpy array의 리스트 연산 수행속도 비교"
   ]
  },
  {
   "cell_type": "markdown",
   "id": "396f7d08",
   "metadata": {},
   "source": [
    "##### %timeit\n",
    "##### 해당 명령어가 수행되는 시간을 측정하는 매직명령어"
   ]
  },
  {
   "cell_type": "code",
   "execution_count": 20,
   "id": "5533e6a9",
   "metadata": {},
   "outputs": [
    {
     "name": "stdout",
     "output_type": "stream",
     "text": [
      "69.8 μs ± 13.8 μs per loop (mean ± std. dev. of 7 runs, 10,000 loops each)\n"
     ]
    }
   ],
   "source": [
    "%timeit L2 = [i**2 for i in range(1000)]"
   ]
  },
  {
   "cell_type": "code",
   "execution_count": 24,
   "id": "64941b42",
   "metadata": {},
   "outputs": [
    {
     "name": "stdout",
     "output_type": "stream",
     "text": [
      "1.31 μs ± 146 ns per loop (mean ± std. dev. of 7 runs, 1,000,000 loops each)\n"
     ]
    }
   ],
   "source": [
    "arr = np.arange(1000)\n",
    "\n",
    "%timeit arr2 = arr**2"
   ]
  },
  {
   "cell_type": "markdown",
   "id": "4d952a26",
   "metadata": {},
   "source": [
    "### 데이터 타입별 np.array 선언과 dtype 옵션, nan값"
   ]
  },
  {
   "cell_type": "code",
   "execution_count": 37,
   "id": "b0d7cc69",
   "metadata": {},
   "outputs": [
    {
     "name": "stdout",
     "output_type": "stream",
     "text": [
      "[1 2 3 4 5 6]\n",
      "<class 'numpy.ndarray'>\n",
      "int64\n",
      "\n",
      "[1.1 2.2 3.3 4.4]\n",
      "<class 'numpy.ndarray'>\n",
      "float64\n",
      "\n",
      "[1 2 3 None 5 6]\n",
      "<class 'numpy.ndarray'>\n",
      "object\n",
      "\n",
      "[ 1.  2.  3. nan  5.  6.]\n",
      "<class 'numpy.ndarray'>\n",
      "float64\n",
      "\n",
      "[1. 2. 3. 4.]\n",
      "<class 'numpy.ndarray'>\n",
      "float64\n",
      "\n",
      "[1 2 3 4]\n",
      "<class 'numpy.ndarray'>\n",
      "int64\n",
      "\n"
     ]
    }
   ],
   "source": [
    "alist = [1, 2, 3, 4, 5, 6]\n",
    "alist2 = [1.1, 2.2, 3.3, 4.4]\n",
    "alist3 = [1, 2, 3, None, 5, 6]\n",
    "alist3_nan = [1, 2, 3, np.nan, 5, 6]\n",
    "alist4 = [1, 2, 3., 4]\n",
    "\n",
    "ar1 = np.array(alist)\n",
    "ar2 = np.array(alist2)\n",
    "ar3 = np.array(alist3)\n",
    "ar3_nan = np.array(alist3_nan)\n",
    "ar4 = np.array(alist4)\n",
    "ar4_int = np.array(alist4, dtype='int')\n",
    "\n",
    "# int 배열\n",
    "print(ar1)\n",
    "print(type(ar1))\n",
    "print(ar1.dtype)\n",
    "print()\n",
    "\n",
    "# float 배열\n",
    "print(ar2)\n",
    "print(type(ar2))\n",
    "print(ar2.dtype)\n",
    "print()\n",
    "\n",
    "# None값 포함 배열\n",
    "print(ar3)\n",
    "print(type(ar3))\n",
    "print(ar3.dtype)\n",
    "print()\n",
    "\n",
    "# np.nan값 포함 배열\n",
    "print(ar3_nan)\n",
    "print(type(ar3_nan))\n",
    "print(ar3_nan.dtype)\n",
    "print()\n",
    "\n",
    "# int + float 배열\n",
    "print(ar4)\n",
    "print(type(ar4))\n",
    "print(ar4.dtype)\n",
    "print()\n",
    "\n",
    "# int + float 배열을 dtype='int' 로 선언\n",
    "print(ar4_int)\n",
    "print(type(ar4_int))\n",
    "print(ar4_int.dtype)\n",
    "print()"
   ]
  },
  {
   "cell_type": "markdown",
   "id": "cf13723b",
   "metadata": {},
   "source": [
    "### np.array의 차원 표현과 reshape"
   ]
  },
  {
   "cell_type": "code",
   "execution_count": 51,
   "id": "c47fea3e",
   "metadata": {},
   "outputs": [
    {
     "name": "stdout",
     "output_type": "stream",
     "text": [
      "[1 2 3 4]\n",
      "1\n",
      "(4,)\n",
      "\n",
      "[[1 2 3 4]]\n",
      "2\n",
      "(1, 4)\n",
      "\n",
      "[[ 1  2  3  4]\n",
      " [ 5  6  7  8]\n",
      " [ 9 10 11 12]]\n",
      "2\n",
      "(3, 4)\n",
      "\n",
      "[[ 1  2  3]\n",
      " [ 4  5  6]\n",
      " [ 7  8  9]\n",
      " [10 11 12]]\n",
      "2\n",
      "(4, 3)\n",
      "\n",
      "[[[ 1  2  3]\n",
      "  [ 4  5  6]]\n",
      "\n",
      " [[ 7  8  9]\n",
      "  [10 11 12]]]\n",
      "3\n",
      "(2, 2, 3)\n",
      "\n"
     ]
    }
   ],
   "source": [
    "arr1 = np.array([1, 2, 3, 4])\n",
    "print(arr1)\n",
    "print(arr1.ndim)\n",
    "print(arr1.shape)\n",
    "print()\n",
    "\n",
    "arr2 = np.array([[1, 2, 3, 4]])\n",
    "print(arr2)\n",
    "print(arr2.ndim)\n",
    "print(arr2.shape)\n",
    "print()\n",
    "\n",
    "arr3 = np.array([[1, 2, 3, 4], [5, 6, 7, 8], [9, 10, 11, 12]])\n",
    "print(arr3)\n",
    "print(arr3.ndim)\n",
    "print(arr3.shape)\n",
    "print()\n",
    "\n",
    "arr4 = arr3.reshape(-1,3)\n",
    "print(arr4)\n",
    "print(arr4.ndim)\n",
    "print(arr4.shape)\n",
    "print()\n",
    "\n",
    "# 갯수가 12개인것을 7열로 만들어달라고 하면 못한다고 에러남\n",
    "# arr5 = arr3.reshape(-1, 7)\n",
    "\n",
    "arr6 = arr3.reshape(2, -1, 3)\n",
    "print(arr6)\n",
    "print(arr6.ndim)\n",
    "print(arr6.shape)\n",
    "print()"
   ]
  },
  {
   "cell_type": "markdown",
   "id": "15fda236",
   "metadata": {},
   "source": [
    "### np.array의 연산"
   ]
  },
  {
   "cell_type": "code",
   "execution_count": 61,
   "id": "b763fe39",
   "metadata": {},
   "outputs": [
    {
     "name": "stdout",
     "output_type": "stream",
     "text": [
      "[ 7  9 11 13 15]\n",
      "[-5 -5 -5 -5 -5]\n",
      "[ 6 14 24 36 50]\n",
      "[0.16666667 0.28571429 0.375      0.44444444 0.5       ]\n",
      "\n",
      "[ 7.  9. 11. 13. nan]\n",
      "[-5. -5. -5. -5. nan]\n",
      "[ 6. 14. 24. 36. nan]\n",
      "[0.16666667 0.28571429 0.375      0.44444444        nan]\n",
      "\n",
      "[3 4 5 6 7]\n",
      "[-1  0  1  2  3]\n",
      "[ 2  4  6  8 10]\n",
      "[0.5 1.  1.5 2.  2.5]\n",
      "\n"
     ]
    }
   ],
   "source": [
    "alist = np.array([1, 2, 3, 4, 5])\n",
    "blist = np.array([6, 7, 8, 9, 10])\n",
    "clist = np.array([6, 7, 8, 9])\n",
    "dlist = np.array([6, 7, 8, 9, np.nan])\n",
    "\n",
    "print(alist + blist)\n",
    "print(alist - blist)\n",
    "print(alist * blist)\n",
    "print(alist / blist)\n",
    "print()\n",
    "\n",
    "# 원소 수가 맞지 않을 경우 에러\n",
    "# print(alist + clist)\n",
    "# print(alist - clist)\n",
    "# print(alist * clist)\n",
    "# print(alist / clist)\n",
    "# print()\n",
    "\n",
    "print(alist + dlist)\n",
    "print(alist - dlist)\n",
    "print(alist * dlist)\n",
    "print(alist / dlist)\n",
    "print()\n",
    "\n",
    "print(alist + 2)\n",
    "print(alist - 2)\n",
    "print(alist * 2)\n",
    "print(alist / 2)\n",
    "print()"
   ]
  },
  {
   "cell_type": "markdown",
   "id": "dc4a2ae0",
   "metadata": {},
   "source": [
    "### 미션 - numpy array 연산 예제"
   ]
  },
  {
   "cell_type": "code",
   "execution_count": 62,
   "id": "e74820bf",
   "metadata": {},
   "outputs": [
    {
     "name": "stdout",
     "output_type": "stream",
     "text": [
      "[12 24 36]\n",
      "[False  True False]\n",
      "[False  True  True]\n",
      "[False  True False]\n"
     ]
    }
   ],
   "source": [
    "a = np.array([1, 2, 3])\n",
    "b = np.array([10, 20, 30])\n",
    "\n",
    "\n",
    "print(2*a+b)\n",
    "print(a==2)\n",
    "print(b>10)\n",
    "print((a==2)&(b>10))\n"
   ]
  },
  {
   "cell_type": "markdown",
   "id": "1fb60849",
   "metadata": {},
   "source": [
    "##### * 팁 * 여기서 논리연산을 묶을때 and 가 아닌 & 를 이용했는데, \n",
    "##### and는 일반적인 값들(scalar) 에 대한 논리연산의 연산만 가능하고, 배열의 논리연산은 불가능해서\n",
    "##### 벡터라이즈 연산인 & 을 이용해서 논리연산을 연산해야함\n",
    "\n",
    "<hr>"
   ]
  },
  {
   "cell_type": "markdown",
   "id": "ee3eece6",
   "metadata": {},
   "source": [
    "### np.array 인덱싱, 슬라이싱 실습"
   ]
  },
  {
   "cell_type": "markdown",
   "id": "c288032b",
   "metadata": {},
   "source": [
    "##### 일반 리스트 인덱싱, 슬라이싱"
   ]
  },
  {
   "cell_type": "code",
   "execution_count": 66,
   "id": "8e07f36b",
   "metadata": {},
   "outputs": [
    {
     "name": "stdout",
     "output_type": "stream",
     "text": [
      "0 1 5\n"
     ]
    }
   ],
   "source": [
    "alist = [[0, 1, 2], [3, 4, 5]]\n",
    "\n",
    "print(alist[0][0], alist[0][1], alist[1][2])"
   ]
  },
  {
   "cell_type": "code",
   "execution_count": 85,
   "id": "c7bd7eeb",
   "metadata": {},
   "outputs": [
    {
     "name": "stdout",
     "output_type": "stream",
     "text": [
      "[0, 1] [4, 5] [1, 4]\n"
     ]
    }
   ],
   "source": [
    "alist = [[0, 1, 2], [3, 4, 5]]\n",
    "\n",
    "print(alist[0][:2], alist[1][1:], [alist[0][1], alist[1][1]])"
   ]
  },
  {
   "cell_type": "markdown",
   "id": "093b501a",
   "metadata": {},
   "source": [
    "##### np.array 인덱싱, 슬라이싱"
   ]
  },
  {
   "cell_type": "code",
   "execution_count": 89,
   "id": "9a61a71d",
   "metadata": {},
   "outputs": [
    {
     "name": "stdout",
     "output_type": "stream",
     "text": [
      "0 1 5\n",
      "0 1 5\n"
     ]
    }
   ],
   "source": [
    "alist = [[0, 1, 2], [3, 4, 5]]\n",
    "np_alist = np.array(alist)\n",
    "\n",
    "print(np_alist[0][0], np_alist[0][1], np_alist[1][2])\n",
    "print(np_alist[0, 0], np_alist[0, 1], np_alist[1, 2])"
   ]
  },
  {
   "cell_type": "code",
   "execution_count": 93,
   "id": "6c4f91d7",
   "metadata": {},
   "outputs": [
    {
     "name": "stdout",
     "output_type": "stream",
     "text": [
      "[0 1] [4 5] [1 4]\n",
      "[1 4]\n"
     ]
    }
   ],
   "source": [
    "alist = [[0, 1, 2], [3, 4, 5]]\n",
    "np_alist = np.array(alist)\n",
    "\n",
    "print(np_alist[0, :2], np_alist[1, 1:], np_alist[:, 1])\n",
    "print(np_alist[[0, 1], [1, 1]])"
   ]
  },
  {
   "cell_type": "code",
   "execution_count": 102,
   "id": "7a6f847f",
   "metadata": {},
   "outputs": [
    {
     "name": "stdout",
     "output_type": "stream",
     "text": [
      "[0 1 2]\n",
      "[1 5]\n",
      "[5 6 7]\n",
      "[[0 1]\n",
      " [4 5]]\n"
     ]
    }
   ],
   "source": [
    "alist = [[0, 1, 2], [3, 4, 5]]\n",
    "np_alist = np.array(alist)\n",
    "blist = [[0, 1, 2, 3], [4, 5, 6, 7]]\n",
    "np_blist = np.array(blist)\n",
    "\n",
    "print(np_alist[0, :3])\n",
    "print(np_blist[:, 1])\n",
    "print(np_blist[1, 1:])\n",
    "print(np_blist[:2, :2])"
   ]
  },
  {
   "cell_type": "markdown",
   "id": "cc9d3c35",
   "metadata": {},
   "source": [
    "### 미션 - numpy array 슬라이싱 예제"
   ]
  },
  {
   "cell_type": "code",
   "execution_count": 118,
   "id": "04590c06",
   "metadata": {},
   "outputs": [
    {
     "name": "stdout",
     "output_type": "stream",
     "text": [
      "[[ 0  1  2  3]\n",
      " [ 4  5  6  7]\n",
      " [ 8  9 10 11]]\n",
      "\n",
      "[[0 1]\n",
      " [4 5]]\n",
      "\n",
      "[[ 5  6]\n",
      " [ 9 10]]\n",
      "\n",
      "[[ 5  6  7]\n",
      " [ 9 10 11]]\n"
     ]
    }
   ],
   "source": [
    "np_clist = np.array([x for x in range(12)]).reshape(3, 4)\n",
    "\n",
    "print(np_clist)\n",
    "print()\n",
    "print(np_clist[:2, :2])\n",
    "print()\n",
    "print(np_clist[1:3, 1:3])\n",
    "print()\n",
    "print(np_clist[-2:, -3:])"
   ]
  },
  {
   "cell_type": "markdown",
   "id": "92c4975d",
   "metadata": {},
   "source": [
    "### 팬시 인덱싱 - 특정 인덱스에 해당하는 원소만 추출 (규칙성 없는 인덱싱, 슬라이싱에 유용)\n",
    "\n",
    "##### boolean으로 표현하거나, 정수로 직접 지정 가능"
   ]
  },
  {
   "cell_type": "code",
   "execution_count": 120,
   "id": "785cdfe5",
   "metadata": {},
   "outputs": [
    {
     "name": "stdout",
     "output_type": "stream",
     "text": [
      "[0 1 2 3 4 5 6 7 8 9]\n",
      "[0 2 4 6 8]\n",
      "[0 2 5]\n"
     ]
    }
   ],
   "source": [
    "a = np.array([x for x in range(10)])\n",
    "idx = np.array([True, False, True, False, True, False, True, False, True, False])\n",
    "idx2 = [0, 2, 5]\n",
    "\n",
    "print(a)\n",
    "print(a[idx])\n",
    "print(a[idx2])"
   ]
  },
  {
   "cell_type": "markdown",
   "id": "40b5c92a",
   "metadata": {},
   "source": [
    "##### 정수로 직접 지정\n",
    "##### 인덱스 자체도 배열로 [0, 1, 2], [1, 2, 0] 이렇게 지정해서 각각의 요소를 배열로서 표현해서 지정도 가능"
   ]
  },
  {
   "cell_type": "code",
   "execution_count": 127,
   "id": "860ef72a",
   "metadata": {},
   "outputs": [
    {
     "name": "stdout",
     "output_type": "stream",
     "text": [
      "[[1 2 3]\n",
      " [4 5 6]\n",
      " [7 8 9]]\n",
      "\n",
      "[[1 2 3]\n",
      " [7 8 9]]\n",
      "\n",
      "[2 6 7]\n"
     ]
    }
   ],
   "source": [
    "b = np.array([x for x in range(1, 10)]).reshape(-1, 3)\n",
    "\n",
    "print(b)\n",
    "print()\n",
    "print(b[[0, 2]])\n",
    "print()\n",
    "print(b[[0, 1, 2],[1, 2 ,0]])"
   ]
  },
  {
   "cell_type": "markdown",
   "id": "ac0f565c",
   "metadata": {},
   "source": [
    "##### 해당 배열의 논리연산 결과값을 이용한 팬시인덱싱"
   ]
  },
  {
   "cell_type": "code",
   "execution_count": 133,
   "id": "02122473",
   "metadata": {},
   "outputs": [
    {
     "name": "stdout",
     "output_type": "stream",
     "text": [
      "[False  True False  True False  True False  True]\n",
      "[2 4 6 8]\n"
     ]
    }
   ],
   "source": [
    "arr = np.array([x for x in range(1, 9)])\n",
    "\n",
    "print(arr % 2 == 0)\n",
    "print(arr[arr % 2 == 0])"
   ]
  },
  {
   "cell_type": "code",
   "execution_count": 136,
   "id": "f4a73ae6",
   "metadata": {},
   "outputs": [
    {
     "name": "stdout",
     "output_type": "stream",
     "text": [
      "[1 3 5 7 9]\n"
     ]
    }
   ],
   "source": [
    "arr = np.array([x for x in range(10)])\n",
    "\n",
    "print(arr[arr % 2 == 1])"
   ]
  },
  {
   "cell_type": "markdown",
   "id": "99e63051",
   "metadata": {},
   "source": [
    "##### 팬시인덱싱에서 갯수가 안맞는 경우, 특정 인덱스만 계속해서 참조하는 경우"
   ]
  },
  {
   "cell_type": "code",
   "execution_count": 144,
   "id": "4d6107af",
   "metadata": {},
   "outputs": [
    {
     "name": "stdout",
     "output_type": "stream",
     "text": [
      "[11 11 11 11 11 11 33 33 33 33 33 22 22 22 22 22]\n",
      "[11 11 11 11 11 11 33 33 33 33 33 22 22 22 22 22]\n"
     ]
    }
   ],
   "source": [
    "arr = np.array([11, 22, 33, 44, 55, 66, 77, 88, 99])\n",
    "idx = [0, 0, 0, 0, 0, 0, 2, 2, 2, 2, 2, 1, 1 ,1 ,1, 1]\n",
    "\n",
    "print(arr[idx])\n",
    "print(arr[[0, 0, 0, 0, 0, 0, 2, 2, 2, 2, 2, 1, 1 ,1 ,1, 1]])\n",
    "\n",
    "# boolean 인덱싱의 갯수가 모자르거나 많을 경우 에러. 아까 위의 arr % 2 == 0 처럼 전체 크기에 해당하는 boolean indexing 추천\n",
    "# print(arr[[True, False, False]])"
   ]
  },
  {
   "cell_type": "markdown",
   "id": "4fb2546d",
   "metadata": {},
   "source": [
    "### 미션 - 팬시인덱싱 예제"
   ]
  },
  {
   "cell_type": "code",
   "execution_count": 141,
   "id": "ee5bfe05",
   "metadata": {},
   "outputs": [
    {
     "name": "stdout",
     "output_type": "stream",
     "text": [
      "[[ 1  2  3  4]\n",
      " [ 5  6  7  8]\n",
      " [ 9 10 11 12]]\n",
      "\n",
      "[[ 1  4]\n",
      " [ 5  8]\n",
      " [ 9 12]]\n",
      "\n",
      "[[ 1  4]\n",
      " [ 5  8]\n",
      " [ 9 12]]\n",
      "\n",
      "[[ 9 10 11 12]\n",
      " [ 1  2  3  4]\n",
      " [ 5  6  7  8]]\n"
     ]
    }
   ],
   "source": [
    "arr = np.array([x for x in range(1, 13)]).reshape(3, -1)\n",
    "\n",
    "print(arr)\n",
    "print()\n",
    "print(arr[:, [True, False, False, True]])\n",
    "print()\n",
    "print(arr[:,[0, 3]])\n",
    "print()\n",
    "print(arr[[2, 0, 1],:])"
   ]
  },
  {
   "cell_type": "code",
   "execution_count": null,
   "id": "2c0e4fe3",
   "metadata": {},
   "outputs": [
    {
     "name": "stdout",
     "output_type": "stream",
     "text": [
      "[ 1  4  9 16]\n",
      "\n",
      "data 배열의 제곱근(루트)값 : [1. 2. 3. 4.]\n",
      "data 배열의 지수함수값 : [2.71828183e+00 5.45981500e+01 8.10308393e+03 8.88611052e+06]\n",
      "data 배열의 합값 : 30\n",
      "data 배열의 평균값 : 7.5\n",
      "data 배열의 분산값 : 32.25\n",
      "data 배열의 표준편차값 : 5.678908345800274\n"
     ]
    }
   ],
   "source": [
    "data = np.array([x**2 for x in range(1, 5)])\n",
    "\n",
    "print(data)\n",
    "print()\n",
    "\n",
    "data_sqrt = np.sqrt(data)\n",
    "data_exp = np.exp(data)\n",
    "data_sum = np.sum(data)\n",
    "data_mean = np.mean(data)\n",
    "data_var = np.var(data)\n",
    "data_std = np.std(data)\n",
    "\n",
    "print(f'data 배열의 제곱근(루트)값 : {data_sqrt}')\n",
    "print(f'data 배열의 지수함수(e의 지수승)값 : {data_exp}')\n",
    "print(f'data 배열의 합값 : {data_sum}')\n",
    "print(f'data 배열의 평균값 : {data_mean}')\n",
    "print(f'data 배열의 분산값 : {data_var}')\n",
    "print(f'data 배열의 표준편차값 : {data_std}')\n"
   ]
  },
  {
   "cell_type": "markdown",
   "id": "b51b1e3a",
   "metadata": {},
   "source": [
    "### 점심 전 실습 미션"
   ]
  },
  {
   "cell_type": "code",
   "execution_count": 167,
   "id": "817666b2",
   "metadata": {},
   "outputs": [
    {
     "name": "stdout",
     "output_type": "stream",
     "text": [
      "[ 3  6  9 12 15 18]\n",
      "[ 1  5  9 13 17]\n",
      "[9]\n"
     ]
    }
   ],
   "source": [
    "x = np.array([x for x in range(1, 21)]).reshape(2, -1)\n",
    "\n",
    "print(x[x % 3 == 0])\n",
    "print(x[x % 4 == 1])\n",
    "print(x[(x % 3 == 0) & (x % 4 == 1)])"
   ]
  },
  {
   "cell_type": "markdown",
   "id": "c0492f63",
   "metadata": {},
   "source": [
    "<hr>\n",
    "\n",
    "## pandas"
   ]
  },
  {
   "cell_type": "markdown",
   "id": "6f47f489",
   "metadata": {},
   "source": [
    "#### pandas 라이브러리 pip install 과 import"
   ]
  },
  {
   "cell_type": "code",
   "execution_count": null,
   "id": "c432dc12",
   "metadata": {},
   "outputs": [],
   "source": [
    "!pip install pandas"
   ]
  },
  {
   "cell_type": "code",
   "execution_count": 2,
   "id": "32f27b92",
   "metadata": {},
   "outputs": [],
   "source": [
    "import pandas as pd"
   ]
  },
  {
   "cell_type": "code",
   "execution_count": 3,
   "id": "2f8bdbd9",
   "metadata": {},
   "outputs": [
    {
     "data": {
      "text/plain": [
       "'2.3.2'"
      ]
     },
     "execution_count": 3,
     "metadata": {},
     "output_type": "execute_result"
    }
   ],
   "source": [
    "pd.__version__"
   ]
  },
  {
   "cell_type": "markdown",
   "id": "da5f6b4f",
   "metadata": {},
   "source": [
    "##### csv 불러오기"
   ]
  },
  {
   "cell_type": "code",
   "execution_count": 18,
   "id": "86599ee1",
   "metadata": {},
   "outputs": [
    {
     "data": {
      "text/html": [
       "<div>\n",
       "<style scoped>\n",
       "    .dataframe tbody tr th:only-of-type {\n",
       "        vertical-align: middle;\n",
       "    }\n",
       "\n",
       "    .dataframe tbody tr th {\n",
       "        vertical-align: top;\n",
       "    }\n",
       "\n",
       "    .dataframe thead th {\n",
       "        text-align: right;\n",
       "    }\n",
       "</style>\n",
       "<table border=\"1\" class=\"dataframe\">\n",
       "  <thead>\n",
       "    <tr style=\"text-align: right;\">\n",
       "      <th></th>\n",
       "      <th>이름</th>\n",
       "      <th>나이</th>\n",
       "      <th>직업</th>\n",
       "      <th>국적</th>\n",
       "      <th>키</th>\n",
       "      <th>재산</th>\n",
       "    </tr>\n",
       "  </thead>\n",
       "  <tbody>\n",
       "    <tr>\n",
       "      <th>0</th>\n",
       "      <td>아이언맨</td>\n",
       "      <td>58</td>\n",
       "      <td>CEO</td>\n",
       "      <td>미국</td>\n",
       "      <td>174</td>\n",
       "      <td>11,500,000,000,000</td>\n",
       "    </tr>\n",
       "    <tr>\n",
       "      <th>1</th>\n",
       "      <td>토르</td>\n",
       "      <td>45</td>\n",
       "      <td>신</td>\n",
       "      <td>아스가르드</td>\n",
       "      <td>190</td>\n",
       "      <td>NaN</td>\n",
       "    </tr>\n",
       "    <tr>\n",
       "      <th>2</th>\n",
       "      <td>스파이더맨</td>\n",
       "      <td>18</td>\n",
       "      <td>고등학생</td>\n",
       "      <td>미국</td>\n",
       "      <td>177</td>\n",
       "      <td>600</td>\n",
       "    </tr>\n",
       "    <tr>\n",
       "      <th>3</th>\n",
       "      <td>원더우먼</td>\n",
       "      <td>27</td>\n",
       "      <td>공주</td>\n",
       "      <td>데미스키라</td>\n",
       "      <td>178</td>\n",
       "      <td>NaN</td>\n",
       "    </tr>\n",
       "    <tr>\n",
       "      <th>4</th>\n",
       "      <td>헐크</td>\n",
       "      <td>33</td>\n",
       "      <td>핵물리학자</td>\n",
       "      <td>미국</td>\n",
       "      <td>270</td>\n",
       "      <td>1,000,000,000</td>\n",
       "    </tr>\n",
       "    <tr>\n",
       "      <th>5</th>\n",
       "      <td>캡틴마블</td>\n",
       "      <td>25</td>\n",
       "      <td>파일럿</td>\n",
       "      <td>미국</td>\n",
       "      <td>170</td>\n",
       "      <td>340,000,000</td>\n",
       "    </tr>\n",
       "    <tr>\n",
       "      <th>6</th>\n",
       "      <td>블랙위도우</td>\n",
       "      <td>32</td>\n",
       "      <td>스파이</td>\n",
       "      <td>러시아</td>\n",
       "      <td>170</td>\n",
       "      <td>50,000,000</td>\n",
       "    </tr>\n",
       "  </tbody>\n",
       "</table>\n",
       "</div>"
      ],
      "text/plain": [
       "      이름  나이     직업     국적    키                 재산\n",
       "0   아이언맨  58    CEO     미국  174 11,500,000,000,000\n",
       "1     토르  45      신  아스가르드  190                NaN\n",
       "2  스파이더맨  18   고등학생     미국  177                600\n",
       "3   원더우먼  27     공주  데미스키라  178                NaN\n",
       "4     헐크  33  핵물리학자     미국  270      1,000,000,000\n",
       "5   캡틴마블  25    파일럿     미국  170        340,000,000\n",
       "6  블랙위도우  32    스파이    러시아  170         50,000,000"
      ]
     },
     "execution_count": 18,
     "metadata": {},
     "output_type": "execute_result"
    }
   ],
   "source": [
    "df = pd.read_csv('data\\heroes.csv')\n",
    "\n",
    "# 실수 표현 방식을 e+10 의 지수표현 말고 일반 소수표현으로 바꾸는 코드 + 자릿수 콤마 구별\n",
    "pd.options.display.float_format = '{:,.0f}'.format\n",
    "\n",
    "df"
   ]
  },
  {
   "cell_type": "markdown",
   "id": "687d9dee",
   "metadata": {},
   "source": [
    "<hr>"
   ]
  },
  {
   "cell_type": "markdown",
   "id": "abfba6af",
   "metadata": {},
   "source": [
    "## ** 데이터 확인 3종세트 - info(), describe(), head() (중요) **"
   ]
  },
  {
   "cell_type": "code",
   "execution_count": 15,
   "id": "c959ad51",
   "metadata": {},
   "outputs": [
    {
     "name": "stdout",
     "output_type": "stream",
     "text": [
      "<class 'pandas.core.frame.DataFrame'>\n",
      "RangeIndex: 7 entries, 0 to 6\n",
      "Data columns (total 6 columns):\n",
      " #   Column  Non-Null Count  Dtype  \n",
      "---  ------  --------------  -----  \n",
      " 0   이름      7 non-null      object \n",
      " 1   나이      7 non-null      int64  \n",
      " 2   직업      7 non-null      object \n",
      " 3   국적      7 non-null      object \n",
      " 4   키       7 non-null      int64  \n",
      " 5   재산      5 non-null      float64\n",
      "dtypes: float64(1), int64(2), object(3)\n",
      "memory usage: 468.0+ bytes\n"
     ]
    }
   ],
   "source": [
    "df.info()"
   ]
  },
  {
   "cell_type": "code",
   "execution_count": 16,
   "id": "4a05899f",
   "metadata": {},
   "outputs": [
    {
     "data": {
      "text/html": [
       "<div>\n",
       "<style scoped>\n",
       "    .dataframe tbody tr th:only-of-type {\n",
       "        vertical-align: middle;\n",
       "    }\n",
       "\n",
       "    .dataframe tbody tr th {\n",
       "        vertical-align: top;\n",
       "    }\n",
       "\n",
       "    .dataframe thead th {\n",
       "        text-align: right;\n",
       "    }\n",
       "</style>\n",
       "<table border=\"1\" class=\"dataframe\">\n",
       "  <thead>\n",
       "    <tr style=\"text-align: right;\">\n",
       "      <th></th>\n",
       "      <th>나이</th>\n",
       "      <th>키</th>\n",
       "      <th>재산</th>\n",
       "    </tr>\n",
       "  </thead>\n",
       "  <tbody>\n",
       "    <tr>\n",
       "      <th>count</th>\n",
       "      <td>7</td>\n",
       "      <td>7</td>\n",
       "      <td>5</td>\n",
       "    </tr>\n",
       "    <tr>\n",
       "      <th>mean</th>\n",
       "      <td>34</td>\n",
       "      <td>190</td>\n",
       "      <td>2,300,278,000,120</td>\n",
       "    </tr>\n",
       "    <tr>\n",
       "      <th>std</th>\n",
       "      <td>13</td>\n",
       "      <td>36</td>\n",
       "      <td>5,142,800,956,894</td>\n",
       "    </tr>\n",
       "    <tr>\n",
       "      <th>min</th>\n",
       "      <td>18</td>\n",
       "      <td>170</td>\n",
       "      <td>600</td>\n",
       "    </tr>\n",
       "    <tr>\n",
       "      <th>25%</th>\n",
       "      <td>26</td>\n",
       "      <td>172</td>\n",
       "      <td>50,000,000</td>\n",
       "    </tr>\n",
       "    <tr>\n",
       "      <th>50%</th>\n",
       "      <td>32</td>\n",
       "      <td>177</td>\n",
       "      <td>340,000,000</td>\n",
       "    </tr>\n",
       "    <tr>\n",
       "      <th>75%</th>\n",
       "      <td>39</td>\n",
       "      <td>184</td>\n",
       "      <td>1,000,000,000</td>\n",
       "    </tr>\n",
       "    <tr>\n",
       "      <th>max</th>\n",
       "      <td>58</td>\n",
       "      <td>270</td>\n",
       "      <td>11,500,000,000,000</td>\n",
       "    </tr>\n",
       "  </tbody>\n",
       "</table>\n",
       "</div>"
      ],
      "text/plain": [
       "       나이   키                 재산\n",
       "count   7   7                  5\n",
       "mean   34 190  2,300,278,000,120\n",
       "std    13  36  5,142,800,956,894\n",
       "min    18 170                600\n",
       "25%    26 172         50,000,000\n",
       "50%    32 177        340,000,000\n",
       "75%    39 184      1,000,000,000\n",
       "max    58 270 11,500,000,000,000"
      ]
     },
     "execution_count": 16,
     "metadata": {},
     "output_type": "execute_result"
    }
   ],
   "source": [
    "df.describe()"
   ]
  },
  {
   "cell_type": "code",
   "execution_count": 17,
   "id": "1549390c",
   "metadata": {},
   "outputs": [
    {
     "data": {
      "text/html": [
       "<div>\n",
       "<style scoped>\n",
       "    .dataframe tbody tr th:only-of-type {\n",
       "        vertical-align: middle;\n",
       "    }\n",
       "\n",
       "    .dataframe tbody tr th {\n",
       "        vertical-align: top;\n",
       "    }\n",
       "\n",
       "    .dataframe thead th {\n",
       "        text-align: right;\n",
       "    }\n",
       "</style>\n",
       "<table border=\"1\" class=\"dataframe\">\n",
       "  <thead>\n",
       "    <tr style=\"text-align: right;\">\n",
       "      <th></th>\n",
       "      <th>이름</th>\n",
       "      <th>나이</th>\n",
       "      <th>직업</th>\n",
       "      <th>국적</th>\n",
       "      <th>키</th>\n",
       "      <th>재산</th>\n",
       "    </tr>\n",
       "  </thead>\n",
       "  <tbody>\n",
       "    <tr>\n",
       "      <th>0</th>\n",
       "      <td>아이언맨</td>\n",
       "      <td>58</td>\n",
       "      <td>CEO</td>\n",
       "      <td>미국</td>\n",
       "      <td>174</td>\n",
       "      <td>11,500,000,000,000</td>\n",
       "    </tr>\n",
       "    <tr>\n",
       "      <th>1</th>\n",
       "      <td>토르</td>\n",
       "      <td>45</td>\n",
       "      <td>신</td>\n",
       "      <td>아스가르드</td>\n",
       "      <td>190</td>\n",
       "      <td>NaN</td>\n",
       "    </tr>\n",
       "    <tr>\n",
       "      <th>2</th>\n",
       "      <td>스파이더맨</td>\n",
       "      <td>18</td>\n",
       "      <td>고등학생</td>\n",
       "      <td>미국</td>\n",
       "      <td>177</td>\n",
       "      <td>600</td>\n",
       "    </tr>\n",
       "    <tr>\n",
       "      <th>3</th>\n",
       "      <td>원더우먼</td>\n",
       "      <td>27</td>\n",
       "      <td>공주</td>\n",
       "      <td>데미스키라</td>\n",
       "      <td>178</td>\n",
       "      <td>NaN</td>\n",
       "    </tr>\n",
       "    <tr>\n",
       "      <th>4</th>\n",
       "      <td>헐크</td>\n",
       "      <td>33</td>\n",
       "      <td>핵물리학자</td>\n",
       "      <td>미국</td>\n",
       "      <td>270</td>\n",
       "      <td>1,000,000,000</td>\n",
       "    </tr>\n",
       "  </tbody>\n",
       "</table>\n",
       "</div>"
      ],
      "text/plain": [
       "      이름  나이     직업     국적    키                 재산\n",
       "0   아이언맨  58    CEO     미국  174 11,500,000,000,000\n",
       "1     토르  45      신  아스가르드  190                NaN\n",
       "2  스파이더맨  18   고등학생     미국  177                600\n",
       "3   원더우먼  27     공주  데미스키라  178                NaN\n",
       "4     헐크  33  핵물리학자     미국  270      1,000,000,000"
      ]
     },
     "execution_count": 17,
     "metadata": {},
     "output_type": "execute_result"
    }
   ],
   "source": [
    "df.head()"
   ]
  },
  {
   "cell_type": "markdown",
   "id": "d6ea0490",
   "metadata": {},
   "source": [
    "<hr>"
   ]
  },
  {
   "cell_type": "markdown",
   "id": "08fe4305",
   "metadata": {},
   "source": [
    "### dataframe의 type, unique, value_count"
   ]
  },
  {
   "cell_type": "code",
   "execution_count": null,
   "id": "89ab6c6e",
   "metadata": {},
   "outputs": [
    {
     "name": "stdout",
     "output_type": "stream",
     "text": [
      "0       미국\n",
      "1    아스가르드\n",
      "2       미국\n",
      "3    데미스키라\n",
      "4       미국\n",
      "5       미국\n",
      "6      러시아\n",
      "Name: 국적, dtype: object\n",
      "<class 'pandas.core.series.Series'>\n",
      "\n",
      "['미국' '아스가르드' '데미스키라' '러시아']\n",
      "\n",
      "국적\n",
      "미국       4\n",
      "아스가르드    1\n",
      "데미스키라    1\n",
      "러시아      1\n",
      "Name: count, dtype: int64\n"
     ]
    }
   ],
   "source": [
    "print(df['국적'])\n",
    "print(type(df['국적']))\n",
    "print()\n",
    "print(df['국적'].unique())\n",
    "print()\n",
    "print(df['국적'].value_counts())\n",
    "print()"
   ]
  },
  {
   "cell_type": "markdown",
   "id": "10e8f80c",
   "metadata": {},
   "source": [
    "### dataframe의 nlargest"
   ]
  },
  {
   "cell_type": "code",
   "execution_count": 32,
   "id": "a4dcbe4d",
   "metadata": {},
   "outputs": [
    {
     "name": "stdout",
     "output_type": "stream",
     "text": [
      "0    58\n",
      "1    45\n",
      "4    33\n",
      "6    32\n",
      "3    27\n",
      "Name: 나이, dtype: int64\n",
      "\n",
      "0    58\n",
      "1    45\n",
      "4    33\n",
      "6    32\n",
      "3    27\n",
      "5    25\n",
      "2    18\n",
      "Name: 나이, dtype: int64\n",
      "\n",
      "4    270\n",
      "1    190\n",
      "3    178\n",
      "2    177\n",
      "0    174\n",
      "Name: 키, dtype: int64\n",
      "\n",
      "      이름  나이     직업     국적    키                 재산\n",
      "4     헐크  33  핵물리학자     미국  270      1,000,000,000\n",
      "1     토르  45      신  아스가르드  190                NaN\n",
      "3   원더우먼  27     공주  데미스키라  178                NaN\n",
      "2  스파이더맨  18   고등학생     미국  177                600\n",
      "0   아이언맨  58    CEO     미국  174 11,500,000,000,000\n",
      "5   캡틴마블  25    파일럿     미국  170        340,000,000\n",
      "6  블랙위도우  32    스파이    러시아  170         50,000,000\n"
     ]
    }
   ],
   "source": [
    "print(df['나이'].nlargest()) # default 로 5개 출력\n",
    "print()\n",
    "print(df['나이'].nlargest(7))\n",
    "print()\n",
    "print(df['키'].nlargest())\n",
    "print()\n",
    "print(df.nlargest(7, '키'))"
   ]
  },
  {
   "cell_type": "markdown",
   "id": "f2263151",
   "metadata": {},
   "source": [
    "### dataframe의 슬라이싱"
   ]
  },
  {
   "cell_type": "code",
   "execution_count": 34,
   "id": "3b25b79c",
   "metadata": {},
   "outputs": [
    {
     "name": "stdout",
     "output_type": "stream",
     "text": [
      "0     아이언맨\n",
      "1       토르\n",
      "2    스파이더맨\n",
      "3     원더우먼\n",
      "Name: 이름, dtype: object\n",
      "\n",
      "      이름  나이    직업     국적    키                 재산\n",
      "0   아이언맨  58   CEO     미국  174 11,500,000,000,000\n",
      "1     토르  45     신  아스가르드  190                NaN\n",
      "2  스파이더맨  18  고등학생     미국  177                600\n"
     ]
    }
   ],
   "source": [
    "print(df['이름'][:4])\n",
    "print()\n",
    "print(df[:3])"
   ]
  },
  {
   "cell_type": "markdown",
   "id": "6ff2538e",
   "metadata": {},
   "source": [
    "### dataframe의 iloc, loc\n",
    "\n",
    "##### df.iloc[행번호, 열번호]"
   ]
  },
  {
   "cell_type": "code",
   "execution_count": 49,
   "id": "e4405232",
   "metadata": {},
   "outputs": [
    {
     "name": "stdout",
     "output_type": "stream",
     "text": [
      "      이름  나이    직업     국적    키  재산\n",
      "1     토르  45     신  아스가르드  190 NaN\n",
      "2  스파이더맨  18  고등학생     미국  177 600\n",
      "3   원더우먼  27    공주  데미스키라  178 NaN\n",
      "\n",
      "      이름  나이    직업     국적    키  재산\n",
      "1     토르  45     신  아스가르드  190 NaN\n",
      "2  스파이더맨  18  고등학생     미국  177 600\n",
      "3   원더우먼  27    공주  데미스키라  178 NaN\n",
      "\n",
      "      이름  나이   직업     국적    키         재산\n",
      "1     토르  45    신  아스가르드  190        NaN\n",
      "3   원더우먼  27   공주  데미스키라  178        NaN\n",
      "6  블랙위도우  32  스파이    러시아  170 50,000,000\n",
      "\n",
      "      이름  나이     직업\n",
      "0   아이언맨  58    CEO\n",
      "1     토르  45      신\n",
      "2  스파이더맨  18   고등학생\n",
      "3   원더우먼  27     공주\n",
      "4     헐크  33  핵물리학자\n"
     ]
    }
   ],
   "source": [
    "print(df.iloc[1:4][:])\n",
    "print()\n",
    "\n",
    "# 밑은 위와 같음\n",
    "print(df.iloc[1:4, :])\n",
    "print()\n",
    "\n",
    "print(df.iloc[[1, 3, 6]][:])\n",
    "print()\n",
    "\n",
    "print(df.iloc[:5, :3])"
   ]
  },
  {
   "cell_type": "markdown",
   "id": "24526fed",
   "metadata": {},
   "source": [
    "##### df.loc['인덱스명', '컬럼명']\n",
    "\n",
    "##### loc의 경우에는 이름 기반이기 때문에 loc[2:5] 이렇게 표현하더라도 '2에서부터 5까지' 를 포함해서 (즉 end값까지 포함해서) 출력함"
   ]
  },
  {
   "cell_type": "code",
   "execution_count": 55,
   "id": "85e920e5",
   "metadata": {},
   "outputs": [
    {
     "name": "stdout",
     "output_type": "stream",
     "text": [
      "      이름  나이     직업     국적    키            재산\n",
      "2  스파이더맨  18   고등학생     미국  177           600\n",
      "3   원더우먼  27     공주  데미스키라  178           NaN\n",
      "4     헐크  33  핵물리학자     미국  270 1,000,000,000\n",
      "\n",
      "      이름  나이     직업     국적    키            재산\n",
      "2  스파이더맨  18   고등학생     미국  177           600\n",
      "3   원더우먼  27     공주  데미스키라  178           NaN\n",
      "4     헐크  33  핵물리학자     미국  270 1,000,000,000\n",
      "5   캡틴마블  25    파일럿     미국  170   340,000,000\n"
     ]
    }
   ],
   "source": [
    "# int 기반이라 end값 미포함\n",
    "print(df.iloc[2:5])\n",
    "print()\n",
    "\n",
    "# 이름 기반이라 end값 포함\n",
    "print(df.loc[2:5])"
   ]
  },
  {
   "cell_type": "code",
   "execution_count": 57,
   "id": "7f8edb60",
   "metadata": {},
   "outputs": [
    {
     "data": {
      "text/html": [
       "<div>\n",
       "<style scoped>\n",
       "    .dataframe tbody tr th:only-of-type {\n",
       "        vertical-align: middle;\n",
       "    }\n",
       "\n",
       "    .dataframe tbody tr th {\n",
       "        vertical-align: top;\n",
       "    }\n",
       "\n",
       "    .dataframe thead th {\n",
       "        text-align: right;\n",
       "    }\n",
       "</style>\n",
       "<table border=\"1\" class=\"dataframe\">\n",
       "  <thead>\n",
       "    <tr style=\"text-align: right;\">\n",
       "      <th></th>\n",
       "      <th>국적</th>\n",
       "      <th>키</th>\n",
       "      <th>재산</th>\n",
       "    </tr>\n",
       "  </thead>\n",
       "  <tbody>\n",
       "    <tr>\n",
       "      <th>3</th>\n",
       "      <td>데미스키라</td>\n",
       "      <td>178</td>\n",
       "      <td>NaN</td>\n",
       "    </tr>\n",
       "    <tr>\n",
       "      <th>4</th>\n",
       "      <td>미국</td>\n",
       "      <td>270</td>\n",
       "      <td>1,000,000,000</td>\n",
       "    </tr>\n",
       "    <tr>\n",
       "      <th>5</th>\n",
       "      <td>미국</td>\n",
       "      <td>170</td>\n",
       "      <td>340,000,000</td>\n",
       "    </tr>\n",
       "    <tr>\n",
       "      <th>6</th>\n",
       "      <td>러시아</td>\n",
       "      <td>170</td>\n",
       "      <td>50,000,000</td>\n",
       "    </tr>\n",
       "  </tbody>\n",
       "</table>\n",
       "</div>"
      ],
      "text/plain": [
       "      국적    키            재산\n",
       "3  데미스키라  178           NaN\n",
       "4     미국  270 1,000,000,000\n",
       "5     미국  170   340,000,000\n",
       "6    러시아  170    50,000,000"
      ]
     },
     "execution_count": 57,
     "metadata": {},
     "output_type": "execute_result"
    }
   ],
   "source": [
    "df.loc[:2, ['이름', '직업']]\n",
    "df.loc[3:, '국적':'재산']"
   ]
  },
  {
   "cell_type": "markdown",
   "id": "2649801f",
   "metadata": {},
   "source": [
    "### dataframe의 팬시인덱싱"
   ]
  },
  {
   "cell_type": "code",
   "execution_count": 67,
   "id": "01372fc8",
   "metadata": {},
   "outputs": [
    {
     "data": {
      "text/html": [
       "<div>\n",
       "<style scoped>\n",
       "    .dataframe tbody tr th:only-of-type {\n",
       "        vertical-align: middle;\n",
       "    }\n",
       "\n",
       "    .dataframe tbody tr th {\n",
       "        vertical-align: top;\n",
       "    }\n",
       "\n",
       "    .dataframe thead th {\n",
       "        text-align: right;\n",
       "    }\n",
       "</style>\n",
       "<table border=\"1\" class=\"dataframe\">\n",
       "  <thead>\n",
       "    <tr style=\"text-align: right;\">\n",
       "      <th></th>\n",
       "      <th>이름</th>\n",
       "      <th>나이</th>\n",
       "      <th>직업</th>\n",
       "      <th>국적</th>\n",
       "      <th>키</th>\n",
       "      <th>재산</th>\n",
       "    </tr>\n",
       "  </thead>\n",
       "  <tbody>\n",
       "    <tr>\n",
       "      <th>1</th>\n",
       "      <td>토르</td>\n",
       "      <td>45</td>\n",
       "      <td>신</td>\n",
       "      <td>아스가르드</td>\n",
       "      <td>190</td>\n",
       "      <td>NaN</td>\n",
       "    </tr>\n",
       "    <tr>\n",
       "      <th>4</th>\n",
       "      <td>헐크</td>\n",
       "      <td>33</td>\n",
       "      <td>핵물리학자</td>\n",
       "      <td>미국</td>\n",
       "      <td>270</td>\n",
       "      <td>1,000,000,000</td>\n",
       "    </tr>\n",
       "    <tr>\n",
       "      <th>6</th>\n",
       "      <td>블랙위도우</td>\n",
       "      <td>32</td>\n",
       "      <td>스파이</td>\n",
       "      <td>러시아</td>\n",
       "      <td>170</td>\n",
       "      <td>50,000,000</td>\n",
       "    </tr>\n",
       "  </tbody>\n",
       "</table>\n",
       "</div>"
      ],
      "text/plain": [
       "      이름  나이     직업     국적    키            재산\n",
       "1     토르  45      신  아스가르드  190           NaN\n",
       "4     헐크  33  핵물리학자     미국  270 1,000,000,000\n",
       "6  블랙위도우  32    스파이    러시아  170    50,000,000"
      ]
     },
     "execution_count": 67,
     "metadata": {},
     "output_type": "execute_result"
    }
   ],
   "source": [
    "df[(df['나이'] > 30) & (df['나이'] < 50)]"
   ]
  },
  {
   "cell_type": "code",
   "execution_count": 71,
   "id": "bee1dc91",
   "metadata": {},
   "outputs": [
    {
     "data": {
      "text/html": [
       "<div>\n",
       "<style scoped>\n",
       "    .dataframe tbody tr th:only-of-type {\n",
       "        vertical-align: middle;\n",
       "    }\n",
       "\n",
       "    .dataframe tbody tr th {\n",
       "        vertical-align: top;\n",
       "    }\n",
       "\n",
       "    .dataframe thead th {\n",
       "        text-align: right;\n",
       "    }\n",
       "</style>\n",
       "<table border=\"1\" class=\"dataframe\">\n",
       "  <thead>\n",
       "    <tr style=\"text-align: right;\">\n",
       "      <th></th>\n",
       "      <th>이름</th>\n",
       "      <th>나이</th>\n",
       "    </tr>\n",
       "  </thead>\n",
       "  <tbody>\n",
       "    <tr>\n",
       "      <th>1</th>\n",
       "      <td>토르</td>\n",
       "      <td>45</td>\n",
       "    </tr>\n",
       "    <tr>\n",
       "      <th>4</th>\n",
       "      <td>헐크</td>\n",
       "      <td>33</td>\n",
       "    </tr>\n",
       "  </tbody>\n",
       "</table>\n",
       "</div>"
      ],
      "text/plain": [
       "   이름  나이\n",
       "1  토르  45\n",
       "4  헐크  33"
      ]
     },
     "execution_count": 71,
     "metadata": {},
     "output_type": "execute_result"
    }
   ],
   "source": [
    "# df['키'] >= 180\n",
    "df.loc[df['키'] >= 180, ['이름', '나이']]"
   ]
  },
  {
   "cell_type": "markdown",
   "id": "f3c1ec0b",
   "metadata": {},
   "source": [
    "### dataframe 의 새 column 생성 및 drop"
   ]
  },
  {
   "cell_type": "code",
   "execution_count": 74,
   "id": "ed438370",
   "metadata": {},
   "outputs": [
    {
     "name": "stdout",
     "output_type": "stream",
     "text": [
      "      이름  나이     직업     국적    키                 재산  전투력\n",
      "0   아이언맨  58    CEO     미국  174 11,500,000,000,000   98\n",
      "1     토르  45      신  아스가르드  190                NaN   98\n",
      "2  스파이더맨  18   고등학생     미국  177                600   98\n",
      "3   원더우먼  27     공주  데미스키라  178                NaN   98\n",
      "4     헐크  33  핵물리학자     미국  270      1,000,000,000   98\n",
      "5   캡틴마블  25    파일럿     미국  170        340,000,000   98\n",
      "6  블랙위도우  32    스파이    러시아  170         50,000,000   98\n",
      "\n",
      "      이름  나이     직업     국적    키                 재산  전투력\n",
      "0   아이언맨  58    CEO     미국  174 11,500,000,000,000   93\n",
      "1     토르  45      신  아스가르드  190                NaN   93\n",
      "2  스파이더맨  18   고등학생     미국  177                600   93\n",
      "3   원더우먼  27     공주  데미스키라  178                NaN   93\n",
      "4     헐크  33  핵물리학자     미국  270      1,000,000,000   93\n",
      "5   캡틴마블  25    파일럿     미국  170        340,000,000   93\n",
      "6  블랙위도우  32    스파이    러시아  170         50,000,000   93\n",
      "\n",
      "      이름  나이     직업     국적    키                 재산  전투력\n",
      "0   아이언맨  58    CEO     미국  174 11,500,000,000,000   93\n",
      "1     토르  45      신  아스가르드  190                NaN   93\n",
      "2  스파이더맨  18   고등학생     미국  177                600   93\n",
      "3   원더우먼  27     공주  데미스키라  178                NaN   93\n",
      "4     헐크  33  핵물리학자     미국  270      1,000,000,000   93\n",
      "5   캡틴마블  25    파일럿     미국  170        340,000,000   93\n",
      "6  블랙위도우  32    스파이    러시아  170         50,000,000   93\n",
      "\n",
      "      이름  나이     직업     국적    키                 재산\n",
      "0   아이언맨  58    CEO     미국  174 11,500,000,000,000\n",
      "1     토르  45      신  아스가르드  190                NaN\n",
      "2  스파이더맨  18   고등학생     미국  177                600\n",
      "3   원더우먼  27     공주  데미스키라  178                NaN\n",
      "4     헐크  33  핵물리학자     미국  270      1,000,000,000\n",
      "5   캡틴마블  25    파일럿     미국  170        340,000,000\n",
      "6  블랙위도우  32    스파이    러시아  170         50,000,000\n",
      "\n"
     ]
    }
   ],
   "source": [
    "df['전투력'] = 98\n",
    "print(df)\n",
    "print()\n",
    "\n",
    "df['전투력'] -= 5\n",
    "print(df)\n",
    "print()\n",
    "\n",
    "# drop된 결과물만 확인하는것. 원본에는 적용 안됨\n",
    "df.drop(columns=['전투력'])\n",
    "print(df)\n",
    "print()\n",
    "\n",
    "# inplace=True 로 원본에 적용됨\n",
    "df.drop(columns=['전투력'], inplace=True)\n",
    "print(df)\n",
    "print()"
   ]
  },
  {
   "cell_type": "markdown",
   "id": "f227b113",
   "metadata": {},
   "source": [
    "### dataframe의 결측치 확인 및 처리"
   ]
  },
  {
   "cell_type": "markdown",
   "id": "d0cbbdd0",
   "metadata": {},
   "source": [
    "##### 결측치 확인"
   ]
  },
  {
   "cell_type": "code",
   "execution_count": 79,
   "id": "7bfddff4",
   "metadata": {},
   "outputs": [
    {
     "name": "stdout",
     "output_type": "stream",
     "text": [
      "0    False\n",
      "1     True\n",
      "2    False\n",
      "3     True\n",
      "4    False\n",
      "5    False\n",
      "6    False\n",
      "Name: 재산, dtype: bool\n",
      "\n",
      "     이름  나이  직업     국적    키  재산\n",
      "1    토르  45   신  아스가르드  190 NaN\n",
      "3  원더우먼  27  공주  데미스키라  178 NaN\n",
      "\n",
      "이름    0\n",
      "나이    0\n",
      "직업    0\n",
      "국적    0\n",
      "키     0\n",
      "재산    2\n",
      "dtype: int64\n"
     ]
    }
   ],
   "source": [
    "print(df['재산'].isnull())\n",
    "print()\n",
    "print(df[df['재산'].isnull()])\n",
    "print()\n",
    "print(df.isnull().sum())"
   ]
  },
  {
   "cell_type": "markdown",
   "id": "4ad51f21",
   "metadata": {},
   "source": [
    "##### 결측치 제거 (inplace=True 해야 원본에 적용)"
   ]
  },
  {
   "cell_type": "code",
   "execution_count": 81,
   "id": "4107e82f",
   "metadata": {},
   "outputs": [
    {
     "name": "stdout",
     "output_type": "stream",
     "text": [
      "      이름  나이     직업   국적    키                 재산\n",
      "0   아이언맨  58    CEO   미국  174 11,500,000,000,000\n",
      "2  스파이더맨  18   고등학생   미국  177                600\n",
      "4     헐크  33  핵물리학자   미국  270      1,000,000,000\n",
      "5   캡틴마블  25    파일럿   미국  170        340,000,000\n",
      "6  블랙위도우  32    스파이  러시아  170         50,000,000\n"
     ]
    }
   ],
   "source": [
    "print(df.dropna())"
   ]
  },
  {
   "cell_type": "markdown",
   "id": "78af895f",
   "metadata": {},
   "source": [
    "##### 결측치 처리 (채우기) (inplace=True 해야 원본에 적용)"
   ]
  },
  {
   "cell_type": "code",
   "execution_count": 87,
   "id": "f08d256a",
   "metadata": {},
   "outputs": [
    {
     "name": "stdout",
     "output_type": "stream",
     "text": [
      "0   11,500,000,000,000\n",
      "1    2,300,278,000,120\n",
      "2                  600\n",
      "3    2,300,278,000,120\n",
      "4        1,000,000,000\n",
      "5          340,000,000\n",
      "6           50,000,000\n",
      "Name: 재산, dtype: float64\n",
      "0   11,500,000,000,000\n",
      "1    2,300,278,000,120\n",
      "2                  600\n",
      "3    2,300,278,000,120\n",
      "4        1,000,000,000\n",
      "5          340,000,000\n",
      "6           50,000,000\n",
      "Name: 재산, dtype: float64\n",
      "0   11,500,000,000,000\n",
      "1    2,300,278,000,120\n",
      "2                  600\n",
      "3    2,300,278,000,120\n",
      "4        1,000,000,000\n",
      "5          340,000,000\n",
      "6           50,000,000\n",
      "Name: 재산, dtype: float64\n"
     ]
    }
   ],
   "source": [
    "# nan을 0값으로 채우기\n",
    "print(df['재산'].fillna(0))\n",
    "\n",
    "# 평균값으로 채우기\n",
    "print(df['재산'].fillna(df['재산'].mean()))\n",
    "# print(df['재산'].fillna(df['재산'].mean(), inplace=True))\n",
    "\n",
    "# 이전 값으로 채우기\n",
    "print(df['재산'].ffill())"
   ]
  },
  {
   "cell_type": "markdown",
   "id": "edd55f62",
   "metadata": {},
   "source": [
    "### 미션 - 결측치 채워보기"
   ]
  },
  {
   "cell_type": "code",
   "execution_count": 97,
   "id": "294e1bd9",
   "metadata": {},
   "outputs": [
    {
     "name": "stdout",
     "output_type": "stream",
     "text": [
      "      이름  나이     직업     국적    키                 재산\n",
      "0   아이언맨  58    CEO     미국  174 11,500,000,000,000\n",
      "1     토르  45      신  아스가르드  190  2,300,278,000,120\n",
      "2  스파이더맨  18   고등학생     미국  177                600\n",
      "3   원더우먼  27     공주  데미스키라  178  2,300,278,000,120\n",
      "4     헐크  33  핵물리학자     미국  270      1,000,000,000\n",
      "5   캡틴마블 NaN    파일럿     미국  170        340,000,000\n",
      "6  블랙위도우  32    스파이    러시아  170         50,000,000\n",
      "\n",
      "None\n",
      "      이름  나이     직업     국적    키                 재산\n",
      "0   아이언맨  58    CEO     미국  174 11,500,000,000,000\n",
      "1     토르  45      신  아스가르드  190  2,300,278,000,120\n",
      "2  스파이더맨  18   고등학생     미국  177                600\n",
      "3   원더우먼  27     공주  데미스키라  178  2,300,278,000,120\n",
      "4     헐크  33  핵물리학자     미국  270      1,000,000,000\n",
      "5   캡틴마블  36    파일럿     미국  170        340,000,000\n",
      "6  블랙위도우  32    스파이    러시아  170         50,000,000\n"
     ]
    },
    {
     "name": "stderr",
     "output_type": "stream",
     "text": [
      "C:\\Users\\EL91\\AppData\\Local\\Temp\\ipykernel_17036\\3907626944.py:4: FutureWarning: A value is trying to be set on a copy of a DataFrame or Series through chained assignment using an inplace method.\n",
      "The behavior will change in pandas 3.0. This inplace method will never work because the intermediate object on which we are setting values always behaves as a copy.\n",
      "\n",
      "For example, when doing 'df[col].method(value, inplace=True)', try using 'df.method({col: value}, inplace=True)' or df[col] = df[col].method(value) instead, to perform the operation inplace on the original object.\n",
      "\n",
      "\n",
      "  print(df['나이'].fillna(df['나이'].mean(), inplace=True))\n"
     ]
    }
   ],
   "source": [
    "df.iloc[5, 1] = np.nan\n",
    "print(df)\n",
    "print()\n",
    "print(df['나이'].fillna(df['나이'].mean(), inplace=True))\n",
    "print(df)"
   ]
  },
  {
   "cell_type": "markdown",
   "id": "e84bdd33",
   "metadata": {},
   "source": [
    "### 미션 - apply() 로 데이터에 함수 적용시키기"
   ]
  },
  {
   "cell_type": "code",
   "execution_count": 143,
   "id": "a8cd271b",
   "metadata": {},
   "outputs": [
    {
     "name": "stdout",
     "output_type": "stream",
     "text": [
      "      이름  나이     직업     국적    키                 재산\n",
      "0   아이언맨  58    CEO     미국  174 11,500,000,000,000\n",
      "1     토르  45      신  아스가르드  190                NaN\n",
      "2  스파이더맨  18   고등학생     미국  177                600\n",
      "3   원더우먼  27     공주  데미스키라  178                NaN\n",
      "4     헐크  33  핵물리학자     미국  270      1,000,000,000\n",
      "5   캡틴마블  25    파일럿     미국  170        340,000,000\n",
      "6  블랙위도우  32    스파이    러시아  170         50,000,000\n"
     ]
    }
   ],
   "source": [
    "df = pd.read_csv('data\\heroes.csv')\n",
    "\n",
    "print(df)"
   ]
  },
  {
   "cell_type": "code",
   "execution_count": 144,
   "id": "b9b95249",
   "metadata": {},
   "outputs": [
    {
     "name": "stdout",
     "output_type": "stream",
     "text": [
      "      이름  나이     직업     국적      키                 재산\n",
      "0   아이언맨  58    CEO     미국  174cm 11,500,000,000,000\n",
      "1     토르  45      신  아스가르드  190cm                NaN\n",
      "2  스파이더맨  18   고등학생     미국  177cm                600\n",
      "3   원더우먼  27     공주  데미스키라  178cm                NaN\n",
      "4     헐크  33  핵물리학자     미국  270cm      1,000,000,000\n",
      "5   캡틴마블  25    파일럿     미국  170cm        340,000,000\n",
      "6  블랙위도우  32    스파이    러시아  170cm         50,000,000\n"
     ]
    }
   ],
   "source": [
    "def add_cm(height) :\n",
    "    return str(height) + 'cm'\n",
    "\n",
    "df['키'] = df['키'].apply(add_cm)\n",
    "\n",
    "print(df)"
   ]
  },
  {
   "cell_type": "code",
   "execution_count": 101,
   "id": "4ddc0105",
   "metadata": {},
   "outputs": [
    {
     "data": {
      "text/html": [
       "<div>\n",
       "<style scoped>\n",
       "    .dataframe tbody tr th:only-of-type {\n",
       "        vertical-align: middle;\n",
       "    }\n",
       "\n",
       "    .dataframe tbody tr th {\n",
       "        vertical-align: top;\n",
       "    }\n",
       "\n",
       "    .dataframe thead th {\n",
       "        text-align: right;\n",
       "    }\n",
       "</style>\n",
       "<table border=\"1\" class=\"dataframe\">\n",
       "  <thead>\n",
       "    <tr style=\"text-align: right;\">\n",
       "      <th></th>\n",
       "      <th>이름</th>\n",
       "      <th>나이</th>\n",
       "      <th>직업</th>\n",
       "      <th>국적</th>\n",
       "      <th>키</th>\n",
       "      <th>재산</th>\n",
       "    </tr>\n",
       "  </thead>\n",
       "  <tbody>\n",
       "    <tr>\n",
       "      <th>0</th>\n",
       "      <td>아이언맨</td>\n",
       "      <td>58</td>\n",
       "      <td>CEO</td>\n",
       "      <td>미국</td>\n",
       "      <td>174cm</td>\n",
       "      <td>11,500,000,000,000</td>\n",
       "    </tr>\n",
       "    <tr>\n",
       "      <th>1</th>\n",
       "      <td>토르</td>\n",
       "      <td>45</td>\n",
       "      <td>신</td>\n",
       "      <td>아스가르드</td>\n",
       "      <td>190cm</td>\n",
       "      <td>2,300,278,000,120</td>\n",
       "    </tr>\n",
       "    <tr>\n",
       "      <th>2</th>\n",
       "      <td>스파이더맨</td>\n",
       "      <td>18</td>\n",
       "      <td>고등학생</td>\n",
       "      <td>미국</td>\n",
       "      <td>177cm</td>\n",
       "      <td>600</td>\n",
       "    </tr>\n",
       "    <tr>\n",
       "      <th>3</th>\n",
       "      <td>원더우먼</td>\n",
       "      <td>27</td>\n",
       "      <td>공주</td>\n",
       "      <td>데미스키라</td>\n",
       "      <td>178cm</td>\n",
       "      <td>2,300,278,000,120</td>\n",
       "    </tr>\n",
       "    <tr>\n",
       "      <th>4</th>\n",
       "      <td>헐크</td>\n",
       "      <td>33</td>\n",
       "      <td>핵물리학자</td>\n",
       "      <td>미국</td>\n",
       "      <td>270cm</td>\n",
       "      <td>1,000,000,000</td>\n",
       "    </tr>\n",
       "    <tr>\n",
       "      <th>5</th>\n",
       "      <td>캡틴마블</td>\n",
       "      <td>36</td>\n",
       "      <td>파일럿</td>\n",
       "      <td>미국</td>\n",
       "      <td>170cm</td>\n",
       "      <td>340,000,000</td>\n",
       "    </tr>\n",
       "    <tr>\n",
       "      <th>6</th>\n",
       "      <td>블랙위도우</td>\n",
       "      <td>32</td>\n",
       "      <td>스파이</td>\n",
       "      <td>러시아</td>\n",
       "      <td>170cm</td>\n",
       "      <td>50,000,000</td>\n",
       "    </tr>\n",
       "  </tbody>\n",
       "</table>\n",
       "</div>"
      ],
      "text/plain": [
       "      이름  나이     직업     국적      키                 재산\n",
       "0   아이언맨  58    CEO     미국  174cm 11,500,000,000,000\n",
       "1     토르  45      신  아스가르드  190cm  2,300,278,000,120\n",
       "2  스파이더맨  18   고등학생     미국  177cm                600\n",
       "3   원더우먼  27     공주  데미스키라  178cm  2,300,278,000,120\n",
       "4     헐크  33  핵물리학자     미국  270cm      1,000,000,000\n",
       "5   캡틴마블  36    파일럿     미국  170cm        340,000,000\n",
       "6  블랙위도우  32    스파이    러시아  170cm         50,000,000"
      ]
     },
     "execution_count": 101,
     "metadata": {},
     "output_type": "execute_result"
    }
   ],
   "source": [
    "df"
   ]
  },
  {
   "cell_type": "markdown",
   "id": "5e709589",
   "metadata": {},
   "source": [
    "<hr>\n",
    "\n",
    "### 나혼자 궁금증이 있어서 혼자 해보기\n",
    "\n",
    "##### 급 내 질문\n",
    "\n",
    "##### 데이터프레임에서 결측치를 nan으로 다루셨는데, '이름' 이나 '직업' 처럼 오브젝트 형식인 문자열로 된 컬럼의 데이터는 애초에 형식이 not a number 인데 이런 컬럼들도 결측치를 nan으로 처리하나요?\n",
    "\n",
    "##### 만약 nan이 아니라 None 같은 형식으로 처리된다면, 아까 df.fillna() 같은 함수 적용시에는 None값은 건너뛰고 nan값 결측치에만 처리가 되는건가요? (아니면 None값에 숫자데이터가 문자열로 저장되는 형식?)\n",
    "<br>\n",
    "\n",
    "##### - 강사님 답\n",
    "\n",
    "##### pandas기준, 일단 결측치는 문자열이건 숫자건 nan으로 표현됨. None값이 있을 수 있지만 이것도 nan으로 취급됨. nan 이 not a number 라서 헷갈릴만한데 판정은 이렇다고 하심.\n",
    "\n",
    "##### 그래서 이 문자열 컬럼의 nan값도 fillna() 랑 ffill() 에 영향을 받는다고 하심\n",
    "\n",
    "\n",
    "##### + 내가 추가로 직접 해보니, 문자열 데이터 컬럼 (오브젝트 형식) 에 fillna()로 float값을 넣었더니,\n",
    "##### float 값이 그대로 들어감 (dtype으로 확인해봐도 그대로 float으로 저장된 채 들어있음)\n",
    "\n",
    "##### 이 상태에서 info 를 해보니 해당 문자열 컬럼은 그대로 오브젝트 형식인데, 오브젝트 형식이 숫자형식까지 포괄하는 좀더 큰 형태의 데이터타입인듯"
   ]
  },
  {
   "cell_type": "code",
   "execution_count": 132,
   "id": "f7998ac3",
   "metadata": {},
   "outputs": [
    {
     "data": {
      "text/html": [
       "<div>\n",
       "<style scoped>\n",
       "    .dataframe tbody tr th:only-of-type {\n",
       "        vertical-align: middle;\n",
       "    }\n",
       "\n",
       "    .dataframe tbody tr th {\n",
       "        vertical-align: top;\n",
       "    }\n",
       "\n",
       "    .dataframe thead th {\n",
       "        text-align: right;\n",
       "    }\n",
       "</style>\n",
       "<table border=\"1\" class=\"dataframe\">\n",
       "  <thead>\n",
       "    <tr style=\"text-align: right;\">\n",
       "      <th></th>\n",
       "      <th>이름</th>\n",
       "      <th>나이</th>\n",
       "      <th>직업</th>\n",
       "      <th>국적</th>\n",
       "      <th>키</th>\n",
       "      <th>재산</th>\n",
       "    </tr>\n",
       "  </thead>\n",
       "  <tbody>\n",
       "    <tr>\n",
       "      <th>0</th>\n",
       "      <td>아이언맨</td>\n",
       "      <td>58</td>\n",
       "      <td>CEO</td>\n",
       "      <td>미국</td>\n",
       "      <td>174cm</td>\n",
       "      <td>11,500,000,000,000</td>\n",
       "    </tr>\n",
       "    <tr>\n",
       "      <th>1</th>\n",
       "      <td>토르</td>\n",
       "      <td>45</td>\n",
       "      <td>신</td>\n",
       "      <td>아스가르드</td>\n",
       "      <td>190cm</td>\n",
       "      <td>2,300,278,000,120</td>\n",
       "    </tr>\n",
       "    <tr>\n",
       "      <th>2</th>\n",
       "      <td>스파이더맨</td>\n",
       "      <td>18</td>\n",
       "      <td>고등학생</td>\n",
       "      <td>미국</td>\n",
       "      <td>177cm</td>\n",
       "      <td>600</td>\n",
       "    </tr>\n",
       "    <tr>\n",
       "      <th>3</th>\n",
       "      <td>원더우먼</td>\n",
       "      <td>27</td>\n",
       "      <td>공주</td>\n",
       "      <td>데미스키라</td>\n",
       "      <td>178cm</td>\n",
       "      <td>2,300,278,000,120</td>\n",
       "    </tr>\n",
       "    <tr>\n",
       "      <th>4</th>\n",
       "      <td>헐크</td>\n",
       "      <td>33</td>\n",
       "      <td>핵물리학자</td>\n",
       "      <td>미국</td>\n",
       "      <td>270cm</td>\n",
       "      <td>1,000,000,000</td>\n",
       "    </tr>\n",
       "    <tr>\n",
       "      <th>5</th>\n",
       "      <td>캡틴마블</td>\n",
       "      <td>36</td>\n",
       "      <td>파일럿</td>\n",
       "      <td>미국</td>\n",
       "      <td>170cm</td>\n",
       "      <td>340,000,000</td>\n",
       "    </tr>\n",
       "    <tr>\n",
       "      <th>6</th>\n",
       "      <td>블랙위도우</td>\n",
       "      <td>32</td>\n",
       "      <td>스파이</td>\n",
       "      <td>러시아</td>\n",
       "      <td>170cm</td>\n",
       "      <td>50,000,000</td>\n",
       "    </tr>\n",
       "  </tbody>\n",
       "</table>\n",
       "</div>"
      ],
      "text/plain": [
       "      이름  나이     직업     국적      키                 재산\n",
       "0   아이언맨  58    CEO     미국  174cm 11,500,000,000,000\n",
       "1     토르  45      신  아스가르드  190cm  2,300,278,000,120\n",
       "2  스파이더맨  18   고등학생     미국  177cm                600\n",
       "3   원더우먼  27     공주  데미스키라  178cm  2,300,278,000,120\n",
       "4     헐크  33  핵물리학자     미국  270cm      1,000,000,000\n",
       "5   캡틴마블  36    파일럿     미국  170cm        340,000,000\n",
       "6  블랙위도우  32    스파이    러시아  170cm         50,000,000"
      ]
     },
     "execution_count": 132,
     "metadata": {},
     "output_type": "execute_result"
    }
   ],
   "source": [
    "# 현상태 출력\n",
    "df"
   ]
  },
  {
   "cell_type": "code",
   "execution_count": 137,
   "id": "02bc9607",
   "metadata": {},
   "outputs": [
    {
     "name": "stdout",
     "output_type": "stream",
     "text": [
      "      이름   나이     직업     국적      키                 재산\n",
      "0   아이언맨   58    CEO     미국  174cm 11,500,000,000,000\n",
      "1     토르   45      신  아스가르드  190cm  2,300,278,000,120\n",
      "2  스파이더맨  NaN   고등학생     미국  177cm                600\n",
      "3   원더우먼   27     공주  데미스키라  178cm  2,300,278,000,120\n",
      "4     헐크   33  핵물리학자     미국  270cm      1,000,000,000\n",
      "5   캡틴마블   36    파일럿     미국  170cm        340,000,000\n",
      "6  블랙위도우   32    스파이    러시아  170cm         50,000,000\n",
      "\n",
      "None\n",
      "      이름  나이     직업     국적      키                 재산\n",
      "0   아이언맨  58    CEO     미국  174cm 11,500,000,000,000\n",
      "1     토르  45      신  아스가르드  190cm  2,300,278,000,120\n",
      "2  스파이더맨  18   고등학생     미국  177cm                600\n",
      "3   원더우먼  27     공주  데미스키라  178cm  2,300,278,000,120\n",
      "4     헐크  33  핵물리학자     미국  270cm      1,000,000,000\n",
      "5   캡틴마블  36    파일럿     미국  170cm        340,000,000\n",
      "6  블랙위도우  32    스파이    러시아  170cm         50,000,000\n",
      "\n",
      "float64\n"
     ]
    },
    {
     "name": "stderr",
     "output_type": "stream",
     "text": [
      "C:\\Users\\EL91\\AppData\\Local\\Temp\\ipykernel_17036\\3219056132.py:31: FutureWarning: A value is trying to be set on a copy of a DataFrame or Series through chained assignment using an inplace method.\n",
      "The behavior will change in pandas 3.0. This inplace method will never work because the intermediate object on which we are setting values always behaves as a copy.\n",
      "\n",
      "For example, when doing 'df[col].method(value, inplace=True)', try using 'df.method({col: value}, inplace=True)' or df[col] = df[col].method(value) instead, to perform the operation inplace on the original object.\n",
      "\n",
      "\n",
      "  print(df['나이'].fillna(18, inplace=True))\n",
      "C:\\Users\\EL91\\AppData\\Local\\Temp\\ipykernel_17036\\3219056132.py:31: FutureWarning: Downcasting object dtype arrays on .fillna, .ffill, .bfill is deprecated and will change in a future version. Call result.infer_objects(copy=False) instead. To opt-in to the future behavior, set `pd.set_option('future.no_silent_downcasting', True)`\n",
      "  print(df['나이'].fillna(18, inplace=True))\n"
     ]
    }
   ],
   "source": [
    "# '스파이더맨' 값 자리 비우기 (이름)\n",
    "# df.iloc[2, 0] = np.nan\n",
    "\n",
    "# print(df)\n",
    "# print()\n",
    "\n",
    "# '스파이더맨' 값 자리에 float 형식인 나이값 평균 (35.5) 기입\n",
    "# print(df['이름'].fillna(df['나이'].mean(), inplace=True))\n",
    "# '스파이더맨' 값 살리기\n",
    "# print(df['이름'].fillna('스파이더맨', inplace=True))\n",
    "\n",
    "# print(df)\n",
    "# print()\n",
    "\n",
    "# '스파이더맨' 값 자리에 기입된 데이터 타입 출력 (해당하는 데이터가 object 형식(str)일 시 error 출력)\n",
    "# print(df.iloc[2, 0].dtype)\n",
    "\n",
    "\n",
    "# ----------\n",
    "\n",
    "\n",
    "# '18' 값 자리 비우기 (나이)\n",
    "df.iloc[2, 1] = np.nan\n",
    "\n",
    "print(df)\n",
    "print()\n",
    "\n",
    "# '18' 값 자리에 '테스트' 문자열 기입\n",
    "# print(df['나이'].fillna('테스트', inplace=True))\n",
    "# '18' 값 살리기\n",
    "print(df['나이'].fillna(18, inplace=True))\n",
    "\n",
    "print(df)\n",
    "print()\n",
    "\n",
    "# '18' 값 자리에 기입된 데이터 타입 출력 (해당하는 데이터가 object 형식(str)일 시 error 출력)\n",
    "print(df.iloc[2, 1].dtype)"
   ]
  },
  {
   "cell_type": "code",
   "execution_count": null,
   "id": "a42f6307",
   "metadata": {},
   "outputs": [
    {
     "name": "stdout",
     "output_type": "stream",
     "text": [
      "<class 'pandas.core.frame.DataFrame'>\n",
      "RangeIndex: 7 entries, 0 to 6\n",
      "Data columns (total 6 columns):\n",
      " #   Column  Non-Null Count  Dtype  \n",
      "---  ------  --------------  -----  \n",
      " 0   이름      7 non-null      object \n",
      " 1   나이      7 non-null      object \n",
      " 2   직업      7 non-null      object \n",
      " 3   국적      7 non-null      object \n",
      " 4   키       7 non-null      object \n",
      " 5   재산      7 non-null      float64\n",
      "dtypes: float64(1), object(5)\n",
      "memory usage: 468.0+ bytes\n",
      "None\n"
     ]
    }
   ],
   "source": [
    "# 문자열 타입 컬럼에 실수형 데이터 기입 후 info 출력\n",
    "print(df.info())\n",
    "\n",
    "# 기존 나이 column -> dtype == float64\n",
    "# 나이 column에 '테스트' 문자열 기입 후 -> dtype == object"
   ]
  },
  {
   "cell_type": "markdown",
   "id": "303328a3",
   "metadata": {},
   "source": [
    "<hr>"
   ]
  },
  {
   "cell_type": "markdown",
   "id": "0b532f2a",
   "metadata": {},
   "source": [
    "### dataframe의 groupby"
   ]
  },
  {
   "cell_type": "code",
   "execution_count": 138,
   "id": "fa2dfecb",
   "metadata": {},
   "outputs": [
    {
     "name": "stdout",
     "output_type": "stream",
     "text": [
      "국적\n",
      "데미스키라   27\n",
      "러시아     32\n",
      "미국      36\n",
      "아스가르드   45\n",
      "Name: 나이, dtype: float64\n"
     ]
    }
   ],
   "source": [
    "print(df.groupby('국적')['나이'].mean())"
   ]
  },
  {
   "cell_type": "code",
   "execution_count": 139,
   "id": "c8bdecaa",
   "metadata": {},
   "outputs": [
    {
     "name": "stdout",
     "output_type": "stream",
     "text": [
      "국적\n",
      "데미스키라   2,300,278,000,120\n",
      "러시아            50,000,000\n",
      "미국      2,875,335,000,150\n",
      "아스가르드   2,300,278,000,120\n",
      "Name: 재산, dtype: float64\n"
     ]
    }
   ],
   "source": [
    "print(df.groupby('국적')['재산'].mean())"
   ]
  }
 ],
 "metadata": {
  "kernelspec": {
   "display_name": "Python 3",
   "language": "python",
   "name": "python3"
  },
  "language_info": {
   "codemirror_mode": {
    "name": "ipython",
    "version": 3
   },
   "file_extension": ".py",
   "mimetype": "text/x-python",
   "name": "python",
   "nbconvert_exporter": "python",
   "pygments_lexer": "ipython3",
   "version": "3.11.8"
  }
 },
 "nbformat": 4,
 "nbformat_minor": 5
}
