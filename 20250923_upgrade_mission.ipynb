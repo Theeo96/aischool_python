{
 "cells": [
  {
   "cell_type": "markdown",
   "id": "43f2ab9b",
   "metadata": {},
   "source": [
    "<hr>\n",
    "\n",
    "## -- 업그레이드 미션 18 --\n",
    "\n",
    "##### 애너그램 \n",
    "\n",
    " \n",
    "\n",
    "##### 애너그램(Anagram) 이란 주어진 단어를 이루는 문자의 위치를 뒤바꾸어 새로운 단어를 만드는 것을 말합니다. 애너그램을 이용해 암호화, 복호화를 하려고합니다. \n",
    "\n",
    " \n",
    "\n",
    "##### 암, 복호화할 단어와 애너그램 테이블이 주어집니다. 애너그램 테이블은 단어를 암호화한 후의 문자들의 위치가 저장되어 있습니다. \n",
    "\n",
    " \n",
    "\n",
    "##### 예를들어 문자열 \"Hello\"를 암호화  할 때, 애너그램 테이블이 [4, 2, 0, 1, 3]이면, 문자열의 0번째 값인 'H'는 애너그램 테이블의 0번째 값에 해당하는 4에 의해 4번째로 이동하고 같은 방식으로 'e'는 2번째로, 'l'은 0번째로, 'l'은 1번째로, 'o'는 3번째로 이동하여 \"lleoH\"가 됩니다. \n",
    "\n",
    " \n",
    "\n",
    "##### 위의 방법으로 만들어진 애너그램 암호문을 복호화하려면 애너그램 테이블의 인덱스와 값의 반대 방향으로 문자열의 순서를 바꿔주면 됩니다. \n",
    "\n",
    " \n",
    "\n",
    "##### 예를들어 암호화된 문자열이 \"lleoH\"이고 애너그램 테이블이 [4, 2, 0, 1, 3]이면, 애너그램 테이블의 0번째 값인 4에 해당하는 문자인 'H'는 해당 인덱스인 0번째로 이동하고 같은 방식으로 'e'는 1번째로, 'l'은 2번째로, 'l'은 3번째로, 'o'는 4번째로 이동하여 \"Hello\"가 됩니다. \n",
    "\n",
    " \n",
    "\n",
    "##### 암호화할 문자열 text와 애너그램 테이블 anagram, 암호화를 할지 복호화를 할지가 저장된 변수 sw가 주어질 때 암호화 또는 복호화된 문자열을 return하도록 solution함수를 작성해주세요 \n",
    "\n",
    " \n",
    "\n",
    "##### 입출력 예 \n",
    "\n",
    "##### text    anagram         sw      result \n",
    "\n",
    "##### \"Hello\" [4, 2, 0, 1, 3] True    \"lleoH\" \n",
    "\n",
    "##### \"lleoH\" [4, 2, 0, 1, 3] False   \"Hello\" "
   ]
  },
  {
   "cell_type": "code",
   "execution_count": 9,
   "id": "5cc07f94",
   "metadata": {},
   "outputs": [
    {
     "ename": "TypeError",
     "evalue": "list indices must be integers or slices, not str",
     "output_type": "error",
     "traceback": [
      "\u001b[31m---------------------------------------------------------------------------\u001b[39m",
      "\u001b[31mTypeError\u001b[39m                                 Traceback (most recent call last)",
      "\u001b[36mCell\u001b[39m\u001b[36m \u001b[39m\u001b[32mIn[9]\u001b[39m\u001b[32m, line 16\u001b[39m\n\u001b[32m     13\u001b[39m     \u001b[38;5;66;03m# input_str의 i번째 문자를 result_str의 table_nums[i] 번째 글자에 할당\u001b[39;00m\n\u001b[32m     14\u001b[39m     \u001b[38;5;28;01mreturn\u001b[39;00m result_str\n\u001b[32m---> \u001b[39m\u001b[32m16\u001b[39m \u001b[38;5;28mprint\u001b[39m(\u001b[43managram\u001b[49m\u001b[43m(\u001b[49m\u001b[33;43m\"\u001b[39;49m\u001b[33;43mHello\u001b[39;49m\u001b[33;43m\"\u001b[39;49m\u001b[43m,\u001b[49m\u001b[43m \u001b[49m\u001b[43m[\u001b[49m\u001b[32;43m4\u001b[39;49m\u001b[43m,\u001b[49m\u001b[32;43m2\u001b[39;49m\u001b[43m,\u001b[49m\u001b[32;43m0\u001b[39;49m\u001b[43m,\u001b[49m\u001b[32;43m1\u001b[39;49m\u001b[43m,\u001b[49m\u001b[32;43m3\u001b[39;49m\u001b[43m]\u001b[49m\u001b[43m,\u001b[49m\u001b[43m \u001b[49m\u001b[38;5;28;43;01mTrue\u001b[39;49;00m\u001b[43m)\u001b[49m)\n",
      "\u001b[36mCell\u001b[39m\u001b[36m \u001b[39m\u001b[32mIn[9]\u001b[39m\u001b[32m, line 11\u001b[39m, in \u001b[36managram\u001b[39m\u001b[34m(input_str, table_nums, isEncrypt)\u001b[39m\n\u001b[32m      9\u001b[39m result_str = \u001b[33m\"\u001b[39m\u001b[33m\"\u001b[39m\n\u001b[32m     10\u001b[39m \u001b[38;5;28;01mfor\u001b[39;00m i \u001b[38;5;129;01min\u001b[39;00m input_str :\n\u001b[32m---> \u001b[39m\u001b[32m11\u001b[39m     result_str[\u001b[38;5;28mint\u001b[39m(\u001b[43mtable_nums\u001b[49m\u001b[43m[\u001b[49m\u001b[43mi\u001b[49m\u001b[43m]\u001b[49m)] += i\n\u001b[32m     13\u001b[39m \u001b[38;5;66;03m# input_str의 i번째 문자를 result_str의 table_nums[i] 번째 글자에 할당\u001b[39;00m\n\u001b[32m     14\u001b[39m \u001b[38;5;28;01mreturn\u001b[39;00m result_str\n",
      "\u001b[31mTypeError\u001b[39m: list indices must be integers or slices, not str"
     ]
    }
   ],
   "source": [
    "# true -> 암호화\n",
    "# false -> 복호화\n",
    " \n",
    "input_example1 = [\"Hello\", [4,2,0,1,3], True] # \"lleoH\"\n",
    "input_example2 = [\"lleoH\", [4,2,0,1,3], False] # \"Hello\"\n",
    "\n",
    "def anagram(input_str, table_nums, isEncrypt) :\n",
    "    # result_str = input_str\n",
    "    result_str = \"\"\n",
    "    for i in input_str :\n",
    "        result_str[int(table_nums[i])] += i\n",
    "\n",
    "    # input_str의 i번째 문자를 result_str의 table_nums[i] 번째 글자에 할당\n",
    "    return result_str\n",
    "\n",
    "print(anagram(\"Hello\", [4,2,0,1,3], True))"
   ]
  }
 ],
 "metadata": {
  "kernelspec": {
   "display_name": "Python 3",
   "language": "python",
   "name": "python3"
  },
  "language_info": {
   "codemirror_mode": {
    "name": "ipython",
    "version": 3
   },
   "file_extension": ".py",
   "mimetype": "text/x-python",
   "name": "python",
   "nbconvert_exporter": "python",
   "pygments_lexer": "ipython3",
   "version": "3.11.8"
  }
 },
 "nbformat": 4,
 "nbformat_minor": 5
}
